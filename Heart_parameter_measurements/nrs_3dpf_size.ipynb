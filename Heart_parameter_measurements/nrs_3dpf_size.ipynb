{
 "cells": [
  {
   "cell_type": "code",
   "execution_count": 3,
   "id": "471ca1c8",
   "metadata": {},
   "outputs": [],
   "source": [
    "# import packages\n",
    "import pandas as pd\n",
    "import seaborn as sns\n",
    "import matplotlib.pyplot as plt\n",
    "from scipy import stats\n",
    "import statsmodels\n",
    "import numpy as np"
   ]
  },
  {
   "cell_type": "code",
   "execution_count": 5,
   "id": "d0fac836",
   "metadata": {},
   "outputs": [],
   "source": [
    "df = pd.read_excel(\"C:/AcquiferResults/20210519_nrs-3dpf_length-genotyping.xlsx\") # read in data"
   ]
  },
  {
   "cell_type": "code",
   "execution_count": 6,
   "id": "956db8de",
   "metadata": {},
   "outputs": [],
   "source": [
    "groups=df.groupby(by=\"gen.\") # group by genotype\n",
    "wt=groups.get_group(\"wt\")[\"Length\"] # get length of wildtype\n",
    "ht=groups.get_group(\"ht\")[\"Length\"] # get length of heterozygous\n",
    "mt=groups.get_group(\"mt\")[\"Length\"] # get length of mutants"
   ]
  }
 ],
 "metadata": {
  "kernelspec": {
   "display_name": "Python 3",
   "language": "python",
   "name": "python3"
  },
  "language_info": {
   "codemirror_mode": {
    "name": "ipython",
    "version": 3
   },
   "file_extension": ".py",
   "mimetype": "text/x-python",
   "name": "python",
   "nbconvert_exporter": "python",
   "pygments_lexer": "ipython3",
   "version": "3.9.4"
  }
 },
 "nbformat": 4,
 "nbformat_minor": 5
}
