{
 "cells": [
  {
   "cell_type": "code",
   "execution_count": 5,
   "id": "f8ff3fd1",
   "metadata": {},
   "outputs": [],
   "source": [
    "# import packages\n",
    "import pandas as pd\n",
    "import seaborn as sns\n",
    "import matplotlib.pyplot as plt\n",
    "from scipy import stats\n",
    "import statsmodels\n",
    "import numpy as np\n",
    "import os"
   ]
  },
  {
   "cell_type": "code",
   "execution_count": null,
   "id": "adf8378b",
   "metadata": {},
   "outputs": [],
   "source": [
    "df = pd.read_csv(\"C:/AcquiferResults/Heartbeat/result_heartbeat_B.csv\", sep=\";\") # read csv file\n",
    "df_dropna = df.dropna() # drop NaN values\n",
    "df_dropna"
   ]
  },
  {
   "cell_type": "code",
   "execution_count": 9,
   "id": "dd6ef4bf",
   "metadata": {},
   "outputs": [],
   "source": [
    "groups=df_dropna.groupby(by=\"gen.\") # group by genotype\n",
    "wt=groups.get_group(\"wt\")[\"Heartbeat\"] # get group wildtype\n",
    "ht=groups.get_group(\"ht\")[\"Heartbeat\"] # get group heterozygous\n",
    "mt=groups.get_group(\"mt\")[\"Heartbeat\"] # get group mutants\n",
    "groups.mean() # get mean values\n",
    "df_dropna.to_csv(\"nrs_heartbeat.csv\") # save as csv file"
   ]
  }
 ],
 "metadata": {
  "kernelspec": {
   "display_name": "Python 3",
   "language": "python",
   "name": "python3"
  },
  "language_info": {
   "codemirror_mode": {
    "name": "ipython",
    "version": 3
   },
   "file_extension": ".py",
   "mimetype": "text/x-python",
   "name": "python",
   "nbconvert_exporter": "python",
   "pygments_lexer": "ipython3",
   "version": "3.9.4"
  }
 },
 "nbformat": 4,
 "nbformat_minor": 5
}
