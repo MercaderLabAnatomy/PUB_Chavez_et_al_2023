{
 "cells": [
  {
   "cell_type": "code",
   "execution_count": 1,
   "id": "1513a463",
   "metadata": {},
   "outputs": [],
   "source": [
    "# Import libraries and define functions\n",
    "import pandas as pd \n",
    "import seaborn as sns\n",
    "import matplotlib.pyplot as plt\n",
    "from scipy import stats\n",
    "import math\n",
    "import numpy as np\n",
    "import os\n",
    "# function for Root Mean Square of Successive Differences (RMSSD)\n",
    "def RMSSD_Calc(path,column,frame_interval):\n",
    "    df = pd.read_csv(path) # read csv file\n",
    "    df_sorted = df.sort_values(column).convert_dtypes().reset_index() # sort values\n",
    "    df_sorted[column]=df_sorted[column]*frame_interval # convert to seconds\n",
    "    N = df_sorted.shape[0] # number of rows \n",
    "    RMSSD=math.sqrt((df_sorted[column].diff().diff().dropna().sum()**2)/(N-1))# RMSSD calculation\n",
    "    return RMSSD # return RMSSD value"
   ]
  },
  {
   "attachments": {
    "image.png": {
     "image/png": "[encoded data removed]"
    }
   },
   "cell_type": "markdown",
   "id": "54b77d4e",
   "metadata": {},
   "source": [
    "RMSSD= ![image.png](attachment:image.png)"
   ]
  },
  {
   "cell_type": "code",
   "execution_count": 2,
   "id": "e1255b39",
   "metadata": {},
   "outputs": [],
   "source": [
    "path=\"C:/AcquiferResults/Heartbeat/Heartbeat_Maxima/\" # define path\n",
    "listDir=os.listdir(path) # list all files in path\n",
    "RMSSD=[RMSSD_Calc(path+i,\"Y\",33) for i in listDir] # calculate RMSSD for all files in path"
   ]
  },
  {
   "cell_type": "code",
   "execution_count": null,
   "id": "together-proceeding",
   "metadata": {},
   "outputs": [],
   "source": [
    "Series_listDir=pd.Series(listDir) # convert list to series for listDir\n",
    "Series_RMSSD=pd.Series(RMSSD) # convert list to series for RMSSD\n",
    "df_results=pd.concat([Series_listDir,Series_RMSSD],axis=1).rename(columns={0:\"Filename\",1:\"RMSSD\"}) # create dataframe for results\n",
    "df_results[\"Well\"]=df_results[\"Filename\"].str.split(\"__\",expand=True)[1].str.replace(\".csv\",\"\") # extract well name\n",
    "df_results # show dataframe"
   ]
  },
  {
   "cell_type": "code",
   "execution_count": 4,
   "id": "1c7c2def",
   "metadata": {},
   "outputs": [],
   "source": [
    "wells = pd.read_csv(\"C:/AcquiferResults/Heartbeat/result_heartbeat_B.csv\", sep=\";\") # read csv file\n",
    "wells_dropna = wells.dropna() # drop rows with NaN values\n",
    "wells_gen = wells_dropna.drop(columns=wells_dropna.columns[0:3]) # drop the first three columns which have no use\n",
    "wells_gen_dict=wells_gen.set_index(\"well\").to_dict()[\"gen.\"]  # create dictionary with well name as key and gen as value\n",
    "def assign_gen(well): # function to assign gen to well\n",
    "    gen=wells_gen_dict.get(well) # get gen from dictionary\n",
    "    return gen # return gen"
   ]
  },
  {
   "cell_type": "code",
   "execution_count": 5,
   "id": "99614d9e",
   "metadata": {},
   "outputs": [],
   "source": [
    "df_results[\"gen.\"]=df_results[\"Well\"].apply(assign_gen) # apply function to dataframe\n",
    "df_results # show dataframe\n",
    "df_results.to_csv(\"nrs_rmssd.csv\") # save dataframe as csv file"
   ]
  }
 ],
 "metadata": {
  "kernelspec": {
   "display_name": "Python 3",
   "language": "python",
   "name": "python3"
  },
  "language_info": {
   "codemirror_mode": {
    "name": "ipython",
    "version": 3
   },
   "file_extension": ".py",
   "mimetype": "text/x-python",
   "name": "python",
   "nbconvert_exporter": "python",
   "pygments_lexer": "ipython3",
   "version": "3.9.4"
  }
 },
 "nbformat": 4,
 "nbformat_minor": 5
}
