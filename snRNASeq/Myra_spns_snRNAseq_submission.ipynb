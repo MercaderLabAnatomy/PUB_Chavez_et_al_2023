{
 "cells": [
  {
   "cell_type": "raw",
   "metadata": {},
   "source": [
    "---\n",
    "title: \"Myra spns snRNASeq May 2023\"\n",
    "date: last-modified\n",
    "format:\n",
    "      html:\n",
    "        toc: true\n",
    "        toc-depth: 3\n",
    "        toc-title: Contents\n",
    "        toc-location: left\n",
    "        number-sections: true\n",
    "        \n",
    "        smooth-scroll: true\n",
    "        code-fold: true\n",
    "        code-tools: true\n",
    "        code-overflow: wrap\n",
    "        theme: flatly\n",
    "      pdf:\n",
    "        toc: true\n",
    "        number-sections: true\n",
    "        colorlinks: true\n",
    "        code-overflow: wrap\n",
    "        classoption: landscape\n",
    "        includes:\n",
    "            in_header:\n",
    "                - \\usepackage{fvextra}\n",
    "                - \\DefineVerbatimEnvironment{Highlighting}{Verbatim}{breaklines,commandchars=\\\\\\{\\}}\n",
    "---"
   ]
  },
  {
   "attachments": {},
   "cell_type": "markdown",
   "metadata": {},
   "source": [
    "# Clear memory and set working directory"
   ]
  },
  {
   "cell_type": "code",
   "execution_count": null,
   "metadata": {
    "vscode": {
     "languageId": "r"
    }
   },
   "outputs": [],
   "source": [
    "rm(list = ls()) # clear the workspace\n",
    "gc() # clear the memory\n",
    "setwd(\"~/Myra_spns_snRNAseq_2023/\") # set the working directory\n",
    "getwd() # check the working directory"
   ]
  },
  {
   "cell_type": "code",
   "execution_count": 2,
   "metadata": {
    "vscode": {
     "languageId": "r"
    }
   },
   "outputs": [],
   "source": [
    "options(future.globals.maxSize = 40 * 1024 ^ 3) # for 20 Gb RAM # set the maximum size of the global environment for the future package for parallel computing\n",
    "options(future.seed=TRUE) # set seed for reproducibility"
   ]
  },
  {
   "attachments": {},
   "cell_type": "markdown",
   "metadata": {},
   "source": [
    "# Load libraries"
   ]
  },
  {
   "cell_type": "code",
   "execution_count": null,
   "metadata": {
    "vscode": {
     "languageId": "r"
    }
   },
   "outputs": [],
   "source": [
    "# load the libraries\n",
    "library(tidyverse)\n",
    "library(Seurat)\n",
    "library(scDblFinder)\n",
    "library(patchwork)\n",
    "library(SingleCellExperiment)\n",
    "library(harmony)\n",
    "library(BiocParallel)\n",
    "library(repr)\n",
    "library(Libra)\n",
    "library(clusterProfiler)\n",
    "library(dittoSeq)\n",
    "library(ggrepel)\n",
    "library(dittoSeq)\n",
    "library(paletteer)\n",
    "library(ggpattern) \n",
    "library(future)\n",
    "library(liana)\n",
    "library(viridis)\n",
    "library(enrichR) \n",
    "library(ggsankey)\n",
    "library(paletteer)\n",
    "options(repr.plot.width=16, repr.plot.height=10) # change the size of the plots\n",
    "RNGkind(\"L'Ecuyer-CMRG\") # set the random number generator\n",
    "set.seed(1) # set the seed for reproducibility\n",
    "bp <- MulticoreParam( RNGseed=1234) # set the seed for reproducibility for BiocParallel\n",
    "\n",
    "plan(\"multicore\", workers = 4) # set the number of cores for parallel computing\n",
    "\n",
    "options(ggrepel.max.overlaps = 20) # set the maximum number of overlaps for ggrepel"
   ]
  },
  {
   "attachments": {},
   "cell_type": "markdown",
   "metadata": {},
   "source": [
    "# Load data"
   ]
  },
  {
   "attachments": {},
   "cell_type": "markdown",
   "metadata": {},
   "source": [
    "## sib_1"
   ]
  },
  {
   "cell_type": "code",
   "execution_count": null,
   "metadata": {
    "vscode": {
     "languageId": "r"
    }
   },
   "outputs": [],
   "source": [
    "# load the data for the first sample\n",
    "sib_1_seurat<- Read10X('Cellranger_outs/sib_1_cellranger/outs/filtered_feature_bc_matrix/')\n",
    "sib_1_seurat <- CreateSeuratObject(sib_1_seurat,project = \"sib_1\")\n",
    "sib_1_seurat"
   ]
  },
  {
   "cell_type": "code",
   "execution_count": 6,
   "metadata": {
    "vscode": {
     "languageId": "r"
    }
   },
   "outputs": [],
   "source": [
    "# Calculate mitochondrial percentage\n",
    "sib_1_seurat[[\"percent.mt\"]] <- PercentageFeatureSet(sib_1_seurat, pattern = \"^mt-\")\n",
    "\n"
   ]
  },
  {
   "cell_type": "code",
   "execution_count": null,
   "metadata": {
    "vscode": {
     "languageId": "r"
    }
   },
   "outputs": [],
   "source": [
    "sib_1_seurat@meta.data %>% head"
   ]
  },
  {
   "cell_type": "code",
   "execution_count": null,
   "metadata": {
    "vscode": {
     "languageId": "r"
    }
   },
   "outputs": [],
   "source": [
    "median(sib_1_seurat@meta.data$percent.mt)\n",
    "median(sib_1_seurat@meta.data$nCount_RNA)\n",
    "median(sib_1_seurat@meta.data$nFeature_RNA)\n",
    "dim(sib_1_seurat@meta.data)"
   ]
  },
  {
   "cell_type": "code",
   "execution_count": null,
   "metadata": {
    "vscode": {
     "languageId": "r"
    }
   },
   "outputs": [],
   "source": [
    "# plot the relation of the percentage mitochondria and the number of UMIs for the first sample\n",
    "plot1 <- FeatureScatter(sib_1_seurat, feature1 = \"nCount_RNA\", feature2 = \"percent.mt\")\n",
    "# plot the percentage of relation of the number of genes and the number of UMIs for the first sample\n",
    "plot2 <- FeatureScatter(sib_1_seurat, feature1 = \"nCount_RNA\", feature2 = \"nFeature_RNA\")\n",
    "\n",
    "options(repr.plot.width=12, repr.plot.height=12)\n",
    "plot1 + plot2\n",
    "# plot the percentage of mitochondrial genes, number of genes and the number of UMIs for the first sample\n",
    "VlnPlot(sib_1_seurat, features = c(\"nFeature_RNA\", \"nCount_RNA\", \"percent.mt\"), ncol = 3)"
   ]
  },
  {
   "cell_type": "code",
   "execution_count": null,
   "metadata": {
    "vscode": {
     "languageId": "r"
    }
   },
   "outputs": [],
   "source": [
    "# filter the cells for the first sample based on the number of genes, the number of UMIs, the percentage of mitochondrial genes and the doublet scores\n",
    "sib_1_seurat <- subset(sib_1_seurat, subset = nFeature_RNA > 200 & nFeature_RNA < 5000 & \n",
    "                    percent.mt < 20 & nCount_RNA <10000)\n",
    "sib_1_seurat"
   ]
  },
  {
   "cell_type": "code",
   "execution_count": null,
   "metadata": {
    "vscode": {
     "languageId": "r"
    }
   },
   "outputs": [],
   "source": [
    "# remove the mitochondrial genes\n",
    "counts <- GetAssayData(sib_1_seurat, assay = \"RNA\")\n",
    "non_mt_genes <- rownames(counts)[!grepl(\"^mt-\", rownames(counts))]\n",
    "sib_1_seurat <- subset(sib_1_seurat, features = non_mt_genes)\n",
    "sib_1_seurat\n",
    "sib_1_seurat[[\"percent.mt_after_removal\"]] <- PercentageFeatureSet(sib_1_seurat, pattern = \"^mt-\") # calculate the percentage of mitochondrial genes after removal\n",
    "VlnPlot(sib_1_seurat, features = c(\"nFeature_RNA\", \"nCount_RNA\", \"percent.mt\", \"percent.mt_after_removal\"), ncol = 3)"
   ]
  },
  {
   "attachments": {},
   "cell_type": "markdown",
   "metadata": {},
   "source": [
    "### Calculate the doublet cells using scDblFinder"
   ]
  },
  {
   "cell_type": "code",
   "execution_count": 12,
   "metadata": {
    "vscode": {
     "languageId": "r"
    }
   },
   "outputs": [],
   "source": [
    "# normalize the data for the first sample using the SCTransform method\n",
    "sib_1_seurat <- SCTransform(sib_1_seurat, verbose = FALSE,vars.to.regress = \"percent.mt\") %>%\n",
    "    RunPCA(npcs = 50, verbose = FALSE)"
   ]
  },
  {
   "cell_type": "code",
   "execution_count": null,
   "metadata": {
    "vscode": {
     "languageId": "r"
    }
   },
   "outputs": [],
   "source": [
    "# convert the Seurat object to SingleCellExperiment object to be used in the scDblFinder package\n",
    "sce_sib_1 <- as.SingleCellExperiment(sib_1_seurat, slot=\"counts\", reducedDims = \"pca\")\n",
    "sce_sib_1"
   ]
  },
  {
   "cell_type": "code",
   "execution_count": null,
   "metadata": {
    "vscode": {
     "languageId": "r"
    }
   },
   "outputs": [],
   "source": [
    "# convert the Seurat object to SingleCellExperiment object to be used in the scDblFinder package\n",
    "sce_sib_1 <- scDblFinder(sce_sib_1, BPPARAM = bp)\n"
   ]
  },
  {
   "cell_type": "code",
   "execution_count": null,
   "metadata": {
    "vscode": {
     "languageId": "r"
    }
   },
   "outputs": [],
   "source": [
    "# sce_sib_1 %>% str\n",
    "sce_sib_1$scDblFinder.score %>% head\n"
   ]
  },
  {
   "cell_type": "code",
   "execution_count": null,
   "metadata": {
    "vscode": {
     "languageId": "r"
    }
   },
   "outputs": [],
   "source": [
    "# port the resulting scores back to the Seurat object:\n",
    "sib_1_seurat$scDblFinder.score <- sce_sib_1$scDblFinder.score\n",
    "sib_1_seurat$scDblFinder.class <- sce_sib_1$scDblFinder.class\n",
    "sib_1_seurat@meta.data %>% head"
   ]
  },
  {
   "cell_type": "code",
   "execution_count": null,
   "metadata": {
    "vscode": {
     "languageId": "r"
    }
   },
   "outputs": [],
   "source": [
    "sib_1_seurat <- subset(sib_1_seurat, subset = scDblFinder.class == \"singlet\")\n",
    "sib_1_seurat"
   ]
  },
  {
   "attachments": {},
   "cell_type": "markdown",
   "metadata": {
    "vscode": {
     "languageId": "r"
    }
   },
   "source": [
    "## Sib_2"
   ]
  },
  {
   "cell_type": "code",
   "execution_count": null,
   "metadata": {
    "vscode": {
     "languageId": "r"
    }
   },
   "outputs": [],
   "source": [
    "# load the data for the first sample\n",
    "sib_2_seurat<- Read10X('Cellranger_outs/sib_2_cellranger/outs/filtered_feature_bc_matrix/')\n",
    "sib_2_seurat <- CreateSeuratObject(sib_2_seurat,project = \"sib_2\")\n",
    "sib_2_seurat\n",
    "sib_2_seurat[[\"percent.mt\"]] <- PercentageFeatureSet(sib_2_seurat, pattern = \"^mt-\")\n"
   ]
  },
  {
   "cell_type": "code",
   "execution_count": null,
   "metadata": {
    "vscode": {
     "languageId": "r"
    }
   },
   "outputs": [],
   "source": [
    "median(sib_2_seurat@meta.data$percent.mt)\n",
    "median(sib_2_seurat@meta.data$nCount_RNA)\n",
    "median(sib_2_seurat@meta.data$nFeature_RNA)\n",
    "dim(sib_2_seurat@meta.data)"
   ]
  },
  {
   "cell_type": "code",
   "execution_count": null,
   "metadata": {
    "vscode": {
     "languageId": "r"
    }
   },
   "outputs": [],
   "source": [
    "# plot the relation of the percentage mitochondria and the number of UMIs for the first sample\n",
    "plot1 <- FeatureScatter(sib_2_seurat, feature1 = \"nCount_RNA\", feature2 = \"percent.mt\")\n",
    "# plot the percentage of relation of the number of genes and the number of UMIs for the first sample\n",
    "plot2 <- FeatureScatter(sib_2_seurat, feature1 = \"nCount_RNA\", feature2 = \"nFeature_RNA\")\n",
    "\n",
    "options(repr.plot.width=12, repr.plot.height=12)\n",
    "plot1 + plot2\n",
    "# plot the percentage of mitochondrial genes, number of genes and the number of UMIs for the first sample\n",
    "VlnPlot(sib_2_seurat, features = c(\"nFeature_RNA\", \"nCount_RNA\", \"percent.mt\"), ncol = 3)"
   ]
  },
  {
   "cell_type": "code",
   "execution_count": null,
   "metadata": {
    "vscode": {
     "languageId": "r"
    }
   },
   "outputs": [],
   "source": [
    "# filter the cells for the first sample based on the number of genes, the number of UMIs, the percentage of mitochondrial genes and the doublet scores\n",
    "sib_2_seurat <- subset(sib_2_seurat, subset = nFeature_RNA > 200 & nFeature_RNA < 5000 & \n",
    "                    percent.mt < 20 & nCount_RNA <10000)\n",
    "sib_2_seurat"
   ]
  },
  {
   "cell_type": "code",
   "execution_count": null,
   "metadata": {
    "vscode": {
     "languageId": "r"
    }
   },
   "outputs": [],
   "source": [
    "counts <- GetAssayData(sib_2_seurat, assay = \"RNA\")\n",
    "non_mt_genes <- rownames(counts)[!grepl(\"^mt-\", rownames(counts))]\n",
    "sib_2_seurat <- subset(sib_2_seurat, features = non_mt_genes)\n",
    "sib_2_seurat\n",
    "sib_2_seurat[[\"percent.mt_after_removal\"]] <- PercentageFeatureSet(sib_2_seurat, pattern = \"^mt-\") # calculate the percentage of mitochondrial genes after removal\n",
    "VlnPlot(sib_2_seurat, features = c(\"nFeature_RNA\", \"nCount_RNA\", \"percent.mt\", \"percent.mt_after_removal\"), ncol = 3)"
   ]
  },
  {
   "cell_type": "code",
   "execution_count": 23,
   "metadata": {
    "vscode": {
     "languageId": "r"
    }
   },
   "outputs": [],
   "source": [
    "sib_2_seurat <- SCTransform(sib_2_seurat, verbose = FALSE,vars.to.regress = \"percent.mt\") %>%\n",
    "    RunPCA(npcs = 50, verbose = FALSE)"
   ]
  },
  {
   "attachments": {},
   "cell_type": "markdown",
   "metadata": {},
   "source": [
    "### Calculate the doublet cells using scDblFinder"
   ]
  },
  {
   "cell_type": "code",
   "execution_count": null,
   "metadata": {
    "vscode": {
     "languageId": "r"
    }
   },
   "outputs": [],
   "source": [
    "sce_sib_2 <- as.SingleCellExperiment(sib_2_seurat, slot=\"counts\", reducedDims = \"pca\")\n",
    "sce_sib_2"
   ]
  },
  {
   "cell_type": "code",
   "execution_count": null,
   "metadata": {
    "vscode": {
     "languageId": "r"
    }
   },
   "outputs": [],
   "source": [
    "sce_sib_2 <- scDblFinder(sce_sib_2, BPPARAM = bp)\n",
    "# port the resulting scores back to the Seurat object:\n",
    "sib_2_seurat$scDblFinder.score <- sce_sib_2$scDblFinder.score\n",
    "sib_2_seurat$scDblFinder.class <- sce_sib_2$scDblFinder.class\n",
    "sib_2_seurat@meta.data %>% head"
   ]
  },
  {
   "cell_type": "code",
   "execution_count": null,
   "metadata": {
    "vscode": {
     "languageId": "r"
    }
   },
   "outputs": [],
   "source": [
    "sib_2_seurat <- subset(sib_2_seurat, subset = scDblFinder.class == \"singlet\")\n",
    "sib_2_seurat"
   ]
  },
  {
   "attachments": {},
   "cell_type": "markdown",
   "metadata": {
    "vscode": {
     "languageId": "r"
    }
   },
   "source": [
    "## mut_1"
   ]
  },
  {
   "cell_type": "code",
   "execution_count": null,
   "metadata": {
    "vscode": {
     "languageId": "r"
    }
   },
   "outputs": [],
   "source": [
    "# load the data for the first sample\n",
    "mut_1_seurat<- Read10X('Cellranger_outs/mut_1_cellranger/outs/filtered_feature_bc_matrix/')\n",
    "mut_1_seurat <- CreateSeuratObject(mut_1_seurat,project = \"mut_1\")\n",
    "mut_1_seurat\n",
    "mut_1_seurat[[\"percent.mt\"]] <- PercentageFeatureSet(mut_1_seurat, pattern = \"^mt-\")\n",
    "\n"
   ]
  },
  {
   "cell_type": "code",
   "execution_count": null,
   "metadata": {
    "vscode": {
     "languageId": "r"
    }
   },
   "outputs": [],
   "source": [
    "median(mut_1_seurat@meta.data$percent.mt)\n",
    "median(mut_1_seurat@meta.data$nCount_RNA)\n",
    "median(mut_1_seurat@meta.data$nFeature_RNA)\n",
    "dim(mut_1_seurat@meta.data)"
   ]
  },
  {
   "cell_type": "code",
   "execution_count": null,
   "metadata": {
    "vscode": {
     "languageId": "r"
    }
   },
   "outputs": [],
   "source": [
    "# plot the relation of the percentage mitochondria and the number of UMIs for the first sample\n",
    "plot1 <- FeatureScatter(mut_1_seurat, feature1 = \"nCount_RNA\", feature2 = \"percent.mt\")\n",
    "# plot the percentage of relation of the number of genes and the number of UMIs for the first sample\n",
    "plot2 <- FeatureScatter(mut_1_seurat, feature1 = \"nCount_RNA\", feature2 = \"nFeature_RNA\")\n",
    "\n",
    "options(repr.plot.width=12, repr.plot.height=12)\n",
    "plot1 + plot2\n",
    "# plot the percentage of mitochondrial genes, number of genes and the number of UMIs for the first sample\n",
    "VlnPlot(mut_1_seurat, features = c(\"nFeature_RNA\", \"nCount_RNA\", \"percent.mt\"), ncol = 3)"
   ]
  },
  {
   "cell_type": "code",
   "execution_count": null,
   "metadata": {
    "vscode": {
     "languageId": "r"
    }
   },
   "outputs": [],
   "source": [
    "# filter the cells for the first sample based on the number of genes, the number of UMIs, the percentage of mitochondrial genes and the doublet scores\n",
    "mut_1_seurat <- subset(mut_1_seurat, subset = nFeature_RNA > 200 & nFeature_RNA < 5000 & \n",
    "                    percent.mt < 20 & nCount_RNA <10000)\n",
    "mut_1_seurat"
   ]
  },
  {
   "cell_type": "code",
   "execution_count": null,
   "metadata": {
    "vscode": {
     "languageId": "r"
    }
   },
   "outputs": [],
   "source": [
    "counts <- GetAssayData(mut_1_seurat, assay = \"RNA\")\n",
    "non_mt_genes <- rownames(counts)[!grepl(\"^mt-\", rownames(counts))]\n",
    "mut_1_seurat <- subset(mut_1_seurat, features = non_mt_genes)\n",
    "mut_1_seurat\n",
    "mut_1_seurat[[\"percent.mt_after_removal\"]] <- PercentageFeatureSet(mut_1_seurat, pattern = \"^mt-\") # calculate the percentage of mitochondrial genes after removal\n",
    "VlnPlot(mut_1_seurat, features = c(\"nFeature_RNA\", \"nCount_RNA\", \"percent.mt\", \"percent.mt_after_removal\"), ncol = 3)"
   ]
  },
  {
   "cell_type": "code",
   "execution_count": 32,
   "metadata": {
    "vscode": {
     "languageId": "r"
    }
   },
   "outputs": [],
   "source": [
    "mut_1_seurat <- SCTransform(mut_1_seurat, verbose = FALSE,vars.to.regress = \"percent.mt\") %>%\n",
    "    RunPCA(npcs = 50, verbose = FALSE)"
   ]
  },
  {
   "attachments": {},
   "cell_type": "markdown",
   "metadata": {},
   "source": [
    "### Calculate the doublet cells using scDblFinder"
   ]
  },
  {
   "cell_type": "code",
   "execution_count": null,
   "metadata": {
    "vscode": {
     "languageId": "r"
    }
   },
   "outputs": [],
   "source": [
    "sce_mut_1 <- as.SingleCellExperiment(mut_1_seurat, slot=\"counts\", reducedDims = \"pca\")\n",
    "sce_mut_1"
   ]
  },
  {
   "cell_type": "code",
   "execution_count": null,
   "metadata": {
    "vscode": {
     "languageId": "r"
    }
   },
   "outputs": [],
   "source": [
    "sce_mut_1 <- scDblFinder(sce_mut_1, BPPARAM = bp)\n"
   ]
  },
  {
   "cell_type": "code",
   "execution_count": null,
   "metadata": {
    "vscode": {
     "languageId": "r"
    }
   },
   "outputs": [],
   "source": [
    "# port the resulting scores back to the Seurat object:\n",
    "mut_1_seurat$scDblFinder.score <- sce_mut_1$scDblFinder.score\n",
    "mut_1_seurat$scDblFinder.class <- sce_mut_1$scDblFinder.class\n",
    "mut_1_seurat@meta.data %>% head"
   ]
  },
  {
   "cell_type": "code",
   "execution_count": null,
   "metadata": {
    "vscode": {
     "languageId": "r"
    }
   },
   "outputs": [],
   "source": [
    "mut_1_seurat <- subset(mut_1_seurat, subset = scDblFinder.class == \"singlet\")\n",
    "mut_1_seurat"
   ]
  },
  {
   "attachments": {},
   "cell_type": "markdown",
   "metadata": {
    "vscode": {
     "languageId": "r"
    }
   },
   "source": [
    "## mut_2"
   ]
  },
  {
   "cell_type": "code",
   "execution_count": null,
   "metadata": {
    "vscode": {
     "languageId": "r"
    }
   },
   "outputs": [],
   "source": [
    "# load the data for the first sample\n",
    "mut_2_seurat<- Read10X('Cellranger_outs/mut_2_cellranger/outs/filtered_feature_bc_matrix/')\n",
    "mut_2_seurat <- CreateSeuratObject(mut_2_seurat,project = \"mut_2\")\n",
    "mut_2_seurat\n",
    "mut_2_seurat[[\"percent.mt\"]] <- PercentageFeatureSet(mut_2_seurat, pattern = \"^mt-\")\n",
    "\n"
   ]
  },
  {
   "cell_type": "code",
   "execution_count": null,
   "metadata": {
    "vscode": {
     "languageId": "r"
    }
   },
   "outputs": [],
   "source": [
    "median(mut_2_seurat@meta.data$percent.mt)\n",
    "median(mut_2_seurat@meta.data$nCount_RNA)\n",
    "median(mut_2_seurat@meta.data$nFeature_RNA)\n",
    "dim(mut_2_seurat@meta.data)"
   ]
  },
  {
   "cell_type": "code",
   "execution_count": null,
   "metadata": {
    "vscode": {
     "languageId": "r"
    }
   },
   "outputs": [],
   "source": [
    "# plot the relation of the percentage mitochondria and the number of UMIs for the first sample\n",
    "plot1 <- FeatureScatter(mut_2_seurat, feature1 = \"nCount_RNA\", feature2 = \"percent.mt\")\n",
    "# plot the percentage of relation of the number of genes and the number of UMIs for the first sample\n",
    "plot2 <- FeatureScatter(mut_2_seurat, feature1 = \"nCount_RNA\", feature2 = \"nFeature_RNA\")\n",
    "\n",
    "options(repr.plot.width=12, repr.plot.height=12)\n",
    "plot1 + plot2\n",
    "# plot the percentage of mitochondrial genes, number of genes and the number of UMIs for the first sample\n",
    "VlnPlot(mut_2_seurat, features = c(\"nFeature_RNA\", \"nCount_RNA\", \"percent.mt\"), ncol = 3)"
   ]
  },
  {
   "cell_type": "code",
   "execution_count": null,
   "metadata": {
    "vscode": {
     "languageId": "r"
    }
   },
   "outputs": [],
   "source": [
    "# filter the cells for the first sample based on the number of genes, the number of UMIs, the percentage of mitochondrial genes and the doublet scores\n",
    "mut_2_seurat <- subset(mut_2_seurat, subset = nFeature_RNA > 200 & nFeature_RNA < 5000 & \n",
    "                    percent.mt < 20 & nCount_RNA <10000)\n",
    "mut_2_seurat"
   ]
  },
  {
   "cell_type": "code",
   "execution_count": null,
   "metadata": {
    "vscode": {
     "languageId": "r"
    }
   },
   "outputs": [],
   "source": [
    "counts <- GetAssayData(mut_2_seurat, assay = \"RNA\")\n",
    "non_mt_genes <- rownames(counts)[!grepl(\"^mt-\", rownames(counts))]\n",
    "mut_2_seurat <- subset(mut_2_seurat, features = non_mt_genes)\n",
    "mut_2_seurat\n",
    "mut_2_seurat[[\"percent.mt_after_removal\"]] <- PercentageFeatureSet(mut_2_seurat, pattern = \"^mt-\") # calculate the percentage of mitochondrial genes after removal\n",
    "VlnPlot(mut_2_seurat, features = c(\"nFeature_RNA\", \"nCount_RNA\", \"percent.mt\", \"percent.mt_after_removal\"), ncol = 3)"
   ]
  },
  {
   "cell_type": "code",
   "execution_count": 44,
   "metadata": {
    "vscode": {
     "languageId": "r"
    }
   },
   "outputs": [],
   "source": [
    "mut_2_seurat <- SCTransform(mut_2_seurat, verbose = FALSE,vars.to.regress = \"percent.mt\") %>%\n",
    "    RunPCA(npcs = 50, verbose = FALSE)"
   ]
  },
  {
   "attachments": {},
   "cell_type": "markdown",
   "metadata": {},
   "source": [
    "### Calculate the doublet cells using scDblFinder"
   ]
  },
  {
   "cell_type": "code",
   "execution_count": null,
   "metadata": {
    "vscode": {
     "languageId": "r"
    }
   },
   "outputs": [],
   "source": [
    "sce_mut_2 <- as.SingleCellExperiment(mut_2_seurat, slot=\"counts\", reducedDims = \"pca\")\n",
    "sce_mut_2"
   ]
  },
  {
   "cell_type": "code",
   "execution_count": null,
   "metadata": {
    "vscode": {
     "languageId": "r"
    }
   },
   "outputs": [],
   "source": [
    "sce_mut_2 <- scDblFinder(sce_mut_2, BPPARAM = bp)\n"
   ]
  },
  {
   "cell_type": "code",
   "execution_count": null,
   "metadata": {
    "vscode": {
     "languageId": "r"
    }
   },
   "outputs": [],
   "source": [
    "# port the resulting scores back to the Seurat object:\n",
    "mut_2_seurat$scDblFinder.score <- sce_mut_2$scDblFinder.score\n",
    "mut_2_seurat$scDblFinder.class <- sce_mut_2$scDblFinder.class\n",
    "mut_2_seurat@meta.data %>% head"
   ]
  },
  {
   "cell_type": "code",
   "execution_count": null,
   "metadata": {
    "vscode": {
     "languageId": "r"
    }
   },
   "outputs": [],
   "source": [
    "mut_2_seurat <- subset(mut_2_seurat, subset = scDblFinder.class == \"singlet\")\n",
    "mut_2_seurat"
   ]
  },
  {
   "attachments": {},
   "cell_type": "markdown",
   "metadata": {},
   "source": [
    "# Batch correction using Seurat"
   ]
  },
  {
   "attachments": {},
   "cell_type": "markdown",
   "metadata": {},
   "source": [
    "## combine all datasets"
   ]
  },
  {
   "attachments": {},
   "cell_type": "markdown",
   "metadata": {},
   "source": [
    "According to benchmarking- LIGER, HARMONY and Seurat are all good. https://genomebiology.biomedcentral.com/articles/10.1186/s13059-019-1850-9"
   ]
  },
  {
   "cell_type": "code",
   "execution_count": null,
   "metadata": {
    "vscode": {
     "languageId": "r"
    }
   },
   "outputs": [],
   "source": [
    "all_samples_list <- list(sib_1_seurat, sib_2_seurat, mut_1_seurat, mut_2_seurat) # create a list of all samples\n",
    "all_samples_list "
   ]
  },
  {
   "cell_type": "code",
   "execution_count": null,
   "metadata": {
    "vscode": {
     "languageId": "r"
    }
   },
   "outputs": [],
   "source": [
    "names(all_samples_list) <- c(\"sib_1\", \"sib_2\", \"mut_1\", \"mut_2\") # name the samples\n",
    "all_samples_list"
   ]
  },
  {
   "cell_type": "code",
   "execution_count": 54,
   "metadata": {
    "vscode": {
     "languageId": "r"
    }
   },
   "outputs": [],
   "source": [
    "all_samples_features <- SelectIntegrationFeatures(object.list = all_samples_list, nfeatures = 3000) # select the features for integration"
   ]
  },
  {
   "cell_type": "code",
   "execution_count": 56,
   "metadata": {
    "vscode": {
     "languageId": "r"
    }
   },
   "outputs": [],
   "source": [
    "all_samples_list <- PrepSCTIntegration(object.list = all_samples_list, anchor.features = all_samples_features) # prepare the samples for integration"
   ]
  },
  {
   "cell_type": "code",
   "execution_count": null,
   "metadata": {
    "vscode": {
     "languageId": "r"
    }
   },
   "outputs": [],
   "source": [
    "# Integrate the samples according to seurat pipeline\n",
    "cell_anchors <- FindIntegrationAnchors(object.list = all_samples_list, normalization.method = \"SCT\",\n",
    "    anchor.features = all_samples_features)\n",
    "all_samples_list_sct <- IntegrateData(anchorset = cell_anchors, normalization.method = \"SCT\")"
   ]
  },
  {
   "cell_type": "code",
   "execution_count": 58,
   "metadata": {
    "vscode": {
     "languageId": "r"
    }
   },
   "outputs": [],
   "source": [
    "combined_sct <- RunPCA(all_samples_list_sct, verbose = FALSE, npcs = 50) # calculate the PCA for the integrated samples\n"
   ]
  },
  {
   "cell_type": "code",
   "execution_count": null,
   "metadata": {
    "vscode": {
     "languageId": "r"
    }
   },
   "outputs": [],
   "source": [
    "\n",
    "print(combined_sct[[\"pca\"]], dims = 1:5, nfeatures = 5) # print the first 5 PCs\n"
   ]
  },
  {
   "cell_type": "code",
   "execution_count": null,
   "metadata": {
    "vscode": {
     "languageId": "r"
    }
   },
   "outputs": [],
   "source": [
    "DimPlot(combined_sct, reduction = \"pca\") # print the PCA plot\n"
   ]
  },
  {
   "cell_type": "code",
   "execution_count": null,
   "metadata": {
    "vscode": {
     "languageId": "r"
    }
   },
   "outputs": [],
   "source": [
    "ElbowPlot(combined_sct,ndims = 50) # print the elbow plot\n"
   ]
  },
  {
   "attachments": {},
   "cell_type": "markdown",
   "metadata": {},
   "source": [
    "## Clustering"
   ]
  },
  {
   "cell_type": "code",
   "execution_count": null,
   "metadata": {
    "vscode": {
     "languageId": "r"
    }
   },
   "outputs": [],
   "source": [
    "combined_sct <- RunUMAP(combined_sct, reduction = \"pca\", dims = 1:30, verbose = FALSE) # calculate the UMAP for the integrated samples\n",
    "combined_sct <- FindNeighbors(combined_sct, reduction = \"pca\", dims = 1:30) # find the neighbors for the integrated samples\n",
    "combined_sct <- FindClusters(combined_sct, resolution = c(0.1,0.15,0.2, 0.4, 0.6, 0.8, 1, 1.2), verbose = TRUE) # find the clusters for the integrated samples"
   ]
  },
  {
   "attachments": {},
   "cell_type": "markdown",
   "metadata": {},
   "source": [
    "## UMAP with no annotation and showing normalizaton across datasets"
   ]
  },
  {
   "cell_type": "code",
   "execution_count": null,
   "metadata": {
    "vscode": {
     "languageId": "r"
    }
   },
   "outputs": [],
   "source": [
    "DimPlot(combined_sct, reduction = \"umap\", group.by = \"orig.ident\", label = TRUE, repel = TRUE) # print the UMAP plot (also checks for the batch correction) \n"
   ]
  },
  {
   "cell_type": "code",
   "execution_count": null,
   "metadata": {
    "vscode": {
     "languageId": "r"
    }
   },
   "outputs": [],
   "source": [
    "# check all resolutions for the integrated samples\n",
    "DimPlot(combined_sct, reduction = \"umap\", group.by = \"integrated_snn_res.0.15\", label = TRUE, repel = TRUE)\n",
    "DimPlot(combined_sct, reduction = \"umap\", group.by = \"integrated_snn_res.0.1\", label = TRUE, repel = TRUE)\n",
    "DimPlot(combined_sct, reduction = \"umap\", group.by = \"integrated_snn_res.0.2\", label = TRUE, repel = TRUE)\n",
    "DimPlot(combined_sct, reduction = \"umap\", group.by = \"integrated_snn_res.0.4\", label = TRUE, repel = TRUE)\n",
    "DimPlot(combined_sct, reduction = \"umap\", group.by = \"integrated_snn_res.0.6\", label = TRUE, repel = TRUE)\n",
    "DimPlot(combined_sct, reduction = \"umap\", group.by = \"integrated_snn_res.0.8\", label = TRUE, repel = TRUE)\n",
    "DimPlot(combined_sct, reduction = \"umap\", group.by = \"integrated_snn_res.1\", label = TRUE, repel = TRUE)\n",
    "DimPlot(combined_sct, reduction = \"umap\", group.by = \"integrated_snn_res.1.2\", label = TRUE, repel = TRUE)"
   ]
  },
  {
   "cell_type": "code",
   "execution_count": 85,
   "metadata": {
    "vscode": {
     "languageId": "r"
    }
   },
   "outputs": [],
   "source": [
    "Idents(combined_sct) <- combined_sct@meta.data$integrated_snn_res.0.4 # set the resolution to 0.4"
   ]
  },
  {
   "cell_type": "code",
   "execution_count": null,
   "metadata": {
    "vscode": {
     "languageId": "r"
    }
   },
   "outputs": [],
   "source": [
    "DimPlot(combined_sct, reduction = \"umap\", label = TRUE, repel = TRUE) # print the UMAP plot for the resolution 0.4"
   ]
  },
  {
   "attachments": {},
   "cell_type": "markdown",
   "metadata": {},
   "source": [
    "## Find Cluster Markers"
   ]
  },
  {
   "cell_type": "code",
   "execution_count": null,
   "metadata": {
    "vscode": {
     "languageId": "r"
    }
   },
   "outputs": [],
   "source": [
    "all_markers <- FindAllMarkers(combined_sct, only.pos = TRUE, min.pct = 0.25, logfc.threshold = 0.2) # find the markers for all clusters"
   ]
  },
  {
   "cell_type": "code",
   "execution_count": null,
   "metadata": {
    "vscode": {
     "languageId": "r"
    }
   },
   "outputs": [],
   "source": [
    "# check the markers for all clusters\n",
    "all_markers %>% group_by(cluster) %>% slice_max(n = 5, order_by = avg_log2FC) %>% ungroup() %>% arrange(cluster, avg_log2FC) %>% as.data.frame() \n",
    "\n",
    "# make a directory called results_seurat\n",
    "dir.create(\"results_seurat\")\n",
    "# write the results to a csv file\n",
    "all_markers %>% group_by(cluster) %>% slice_max(n = Inf, order_by = avg_log2FC) %>% ungroup() %>% arrange(cluster, desc(avg_log2FC)) %>% as.data.frame() %>% write.csv(\"results_seurat/all_markers_mt_removed.csv\")"
   ]
  },
  {
   "attachments": {},
   "cell_type": "markdown",
   "metadata": {},
   "source": [
    "## Convert to Mouse Gene Symbols"
   ]
  },
  {
   "cell_type": "code",
   "execution_count": null,
   "metadata": {
    "vscode": {
     "languageId": "r"
    }
   },
   "outputs": [],
   "source": [
    "# Basic function to convert zebrafish to mouse gene names\n",
    "\n",
    "zgGenes <- sib_1_seurat@assays$RNA %>% rownames() %>% unique() # get the zebrafish gene names\n",
    "# This function uses biomaRt to convert zebrafish gene names to mouse gene names. \n",
    "# This is done by using the zebrafish and mouse ensembl mart datasets. \n",
    "# The function takes a vector of zebrafish gene names as input and returns \n",
    "# a data frame of zebrafish and mouse gene names.\n",
    "convertDanioGeneList_Mouse <- function(x){ \n",
    "  require(\"biomaRt\") # load biomaRt package\n",
    "  mouse = useMart(\"ensembl\", dataset = \"mmusculus_gene_ensembl\", host = \"https://dec2021.archive.ensembl.org/\") # use mouse mart\n",
    "  danio = useMart(\"ensembl\", dataset = \"drerio_gene_ensembl\",host = \"https://dec2021.archive.ensembl.org/\") # use zebrafish mart\n",
    "\n",
    "  genesV2 = getLDS(attributes = c(\"ensembl_gene_id\", \"zfin_id_symbol\"), \n",
    "                   filters = \"zfin_id_symbol\", # get zebrafish gene names\n",
    "                   values = x , # use the zebrafish gene names\n",
    "                   mart = danio,  # use the zebrafish mart\n",
    "                   attributesL = c(\"mgi_symbol\", \"ensembl_gene_id\", \"description\"), # get mouse gene names\n",
    "                   martL = mouse, uniqueRows=T) # use the mouse mart\n",
    "  \n",
    "  colnames(genesV2)[colnames(genesV2)== \"Gene.stable.ID\"] <- \"EnsmblID_Zebrafish\" # rename columns\n",
    "  colnames(genesV2)[colnames(genesV2)== \"Gene.stable.ID.1\"] <- \"EnsmblID_Mouse\" # rename columns\n",
    "  \n",
    "  # Check if the gene is not found\n",
    "  if (length(genesV2) == 0) {\n",
    "    print(\"No gene found for this input\")\n",
    "  } else { \n",
    "    return(genesV2) # return the genes\n",
    "  }\n",
    "}\n",
    "\n",
    "# Run the function\n",
    "Mouse_Genes <- convertDanioGeneList_Mouse(zgGenes)\n",
    "# print the first 6 genes\n",
    "head(Mouse_Genes)"
   ]
  },
  {
   "cell_type": "code",
   "execution_count": null,
   "metadata": {
    "vscode": {
     "languageId": "r"
    }
   },
   "outputs": [],
   "source": [
    "all_markers_mouse <- merge(all_markers, Mouse_Genes, by.x = \"gene\", by.y = \"ZFIN.symbol\", all.x = TRUE) # merge the markers with the mouse gene names\n",
    "dim(all_markers_mouse)\n",
    "dim(all_markers)\n",
    "head(all_markers_mouse)"
   ]
  },
  {
   "cell_type": "code",
   "execution_count": null,
   "metadata": {
    "vscode": {
     "languageId": "r"
    }
   },
   "outputs": [],
   "source": [
    "# arrange all_markers_mouse by cluster and log2FC\n",
    "all_markers_mouse <- all_markers_mouse %>% group_by(cluster) %>% slice_max(n = Inf, order_by = avg_log2FC) %>% ungroup() %>% arrange(cluster, desc(avg_log2FC)) %>% as.data.frame()\n",
    "head(all_markers_mouse)\n",
    "all_markers_mouse %>% write.csv(\"results_seurat/all_markers_mouse_mt_removed.csv\")"
   ]
  },
  {
   "attachments": {},
   "cell_type": "markdown",
   "metadata": {},
   "source": [
    "## Assign cluster labels"
   ]
  },
  {
   "cell_type": "code",
   "execution_count": null,
   "metadata": {
    "vscode": {
     "languageId": "r"
    }
   },
   "outputs": [],
   "source": [
    "DimPlot(combined_sct, reduction = \"umap\", label = TRUE, repel = TRUE, label.size= 8) "
   ]
  },
  {
   "cell_type": "code",
   "execution_count": 116,
   "metadata": {
    "vscode": {
     "languageId": "r"
    }
   },
   "outputs": [],
   "source": [
    "## markers from Junker's Fibroblast paper: https://www.nature.com/articles/s41588-022-01129-5\n",
    "FB <- c(\"col1a2\", \"mdka\", \"col1a1a\", \"col1a1b\", \"col5a1\", \"dpt\", \"fn1b\", \"ccl25b\", \"sparc\", \"clu\", \"dcn\", \"mfap5\", \"postnb\", \"c4\", \"fn1a\", \"col12a1a\", \"c6.1\", \"si:ch1073-459j12.1\", \"htra1b\", \"pmp22a\", \"hapln1a\", \"ckba\", \"col6a3\", \"gstm.3\", \"col6a1\", \"tnfaip6\", \"tfa\", \"mmp2\", \"f3b\", \"rbp4\", \"col5a2a\", \"CR936442.1\", \"ifitm1\", \"sostdc1a\", \"anxa2a\", \"pcolcea\", \"olfml3b\", \"tmsb2\", \"si:ch211-105c13.3\", \"si:ch211-137i24.10\", \"c1qtnf5\", \"ppib\", \"si:ch211-106h4.12\", \"col6a2\", \"mgp\", \"cxcl12a\", \"edil3a\", \"dkk3b\", \"si:ch211-198c19.3\", \"fstl1b\")\n",
    "## markers for Valve Fibroblasts\n",
    "VF <- c(\"zgc:153704\", \"abi3bpb\", \"krt4\", \"angptl7\", \"igfbp5b\", \"cyp26b1\", \"tnfaip6\", \"mgp\", \"rspo1\", \"fibinb\", \"aif1l\", \"krt91\", \"bhmt\", \"gyg1b\", \"si:dkey-4p15.3\", \"serpinh1b\", \"si:dkey-205h13.1\", \"tuft1a\", \"f13a1b\", \"ITGB1BP2\", \"crip1\", \"carhsp1\", \"uchl1\", \"fbln5\", \"krt15\", \"rbp5\", \"gch2\", \"pcolcea\", \"irs2b\", \"cbx7a\", \"snorc\", \"hspb8\", \"rpl22l1\", \"thbs1b\", \"ptx3a\", \"timp4.3\", \"csrp2\", \"laptm4b\", \"cebpd\", \"crip2\", \"mmp2\", \"dcn\", \"sec61g\", \"rps27.2\", \"tgm2l\", \"GSTZ1\", \"matn4\", \"hmgb3a\", \"MYO1D\", \"fxyd6l\")\n",
    "## markers for Endothelial cells (apnln)\n",
    "EC_apln <- c(\"apnln\", \"hbegfb\", \"admb\", \"apln\", \"si:ch211-195b11.3\", \"sele\", \"itga2b\", \"thbs1b\", \"fgl2a\", \"FO681357.1\", \"pim2\", \"gp1bb\", \"cldn5b\", \"gcnt4a\", \"il11b\", \"si:ch211-105j21.9\", \"tln1\", \"si:ch211-214p13.9\", \"f5\", \"si:ch211-214p16.2\", \"si:ch211-153b23.5\", \"si:ch211-214p16.1\", \"rap1b\", \"blf\", \"Sep-12\", \"myh9a\", \"fam212ab\", \"plek\", \"lpp\", \"srgn\", \"pfn1\", \"hsp70l\", \"hacd3\", \"si:ch211-250g4.3\", \"fermt3b\", \"blvrb\", \"atp2b1a\", \"cbx7a\", \"hsp70.1\", \"hsp70.2\", \"crema\", \"zgc:171686\", \"mpl\", \"tpte\", \"lmo2\", \"arpc1b\", \"grasp\", \"hsp70.3\", \"myh11a\", \"si:ch211-222l21.1\", \"bmp16\")\n",
    "## markers for Endothelial cells (lyve1)\n",
    "EC_lyve1 <- c(\"cxcl12a\", \"CU929150.1\", \"thy1\", \"lyve1a\", \"selenop\", \"cdh6\", \"si:dkey-203a12.9\", \"lyve1b\", \"id1\", \"si:ch211-105c13.3\", \"arl4aa\", \"si:ch211-152c2.3\", \"hapln3\", \"stab1\", \"loxl1\", \"ramp2\", \"etv2\", \"hsd3b7\", \"ctsla\", \"rgcc\", \"akap12a\", \"tppp3\", \"tcima\", \"ch25h\", \"fabp11a\", \"CR762483.1\", \"plvapb\", \"sox7\", \"gstt1b\", \"pde4ba\", \"lgmn\", \"plk2b\", \"hyal2b\", \"mrc1b\", \"rab11bb\", \"gpm6ab\", \"stab2\", \"dab2\", \"myct1a\", \"zfp36l1b\", \"ponzr1\", \"flt4\", \"clec14a\", \"ebf3a.1\", \"s1pr1\", \"carhsp1\", \"fxyd6l\", \"cldn11a\", \"ms4a17a.8\", \"igf2a\")\n",
    "## markers for Endothelial cells (plvapb)\n",
    "EC_plvapb <- c(\"wu:fj16a03\", \"cxcl12b\", \"rbp2a\", \"plvapb\", \"cldn5b\", \"rgcc\", \"fabp11a\", \"id1\", \"tmsb1\", \"ldb2a\", \"tcima\", \"cavin1b\", \"rgs5b\", \"hopx\", \"cdh5\", \"kdrl\", \"scarb2a\", \"gig2j\", \"bcl6b\", \"bsg\", \"podxl\", \"mcamb\", \"pdgfbb\", \"jam2a\", \"ecscr\", \"si:dkey-126g1.9\", \"krt18\", \"ptprb\", \"epas1b\", \"si:ch211-156j16.1\", \"si:dkey-262k9.2\", \"CABZ01030107.1\", \"plvapa\", \"sox7\", \"cav1\", \"ch25h\", \"plpp3\", \"col4a1\", \"CABZ01075125.1\", \"gpm6ab\", \"fgd5a\", \"pecam1\", \"ca16b\", \"gpm6aa\", \"cavin2b\", \"TCIM\", \"limch1b\", \"igfbp1a\", \"clec14a\", \"oaz2a\")\n",
    "## markers for Cardiomyocytes (dediff.)\n",
    "CM_dediff <- c(\"nppa\", \"nppb\", \"hsp90aa1.1\", \"ttn.2\", \"ttn.1\", \"myh6\", \"atp2a2a\", \"xirp1\", \"si:ch211-131k2.3\", \"hspb11\", \"her4.1\", \"mybpc3\", \"lmo7a\", \"si:ch211-270g19.5\", \"unc45b\", \"tcap\", \"ryr2b\", \"tnnc1b\", \"synpo2lb\", \"ldb3a\", \"pla1a\", \"sorbs1\", \"bves\", \"flnca\", \"ACTC1\", \"slc8a1a\", \"ndrg4\", \"trdn\", \"myh7l\", \"pdk2a\", \"pabpc4\", \"myom1b\", \"cox7c\", \"hspb8\", \"cited4b\", \"ATP5MD\", \"desma\", \"cox6a2\", \"zgc:101840\", \"mt-co1\", \"bag3\", \"ITGB1BP2\", \"kcnh6a\", \"tnni1b\", \"tnnt2a\", \"laptm4b\", \"smtnl1\", \"aldoab\", \"pygmb\", \"cox7a1\")\n",
    "## markers for Cardiomyocytes (Atrium)\n",
    "CM_atrium <- c(\"tnnc1b\", \"myh6\", \"si:ch211-270g19.5\", \"tcap\", \"tnni1b\", \"aldoab\", \"tnnt2a\", \"smtnl1\", \"cmlc1\", \"gapdh\", \"tnnc1a\", \"nppa\", \"ddx54\", \"ckma\", \"zgc:101840\", \"mybphb\", \"myl7\", \"tpm4a\", \"actc1a\", \"acta1b\", \"idh2\", \"cox5b2\", \"mpc1\", \"mdh2\", \"uqcrfs1\", \"mdh1aa\", \"ldhba\", \"ak1\", \"ptp4a3\", \"nmrk2\", \"atp5mc3b\", \"atp5mc1\", \"calm3a\", \"atp5pd\", \"atp5meb\", \"atp5f1b\", \"chchd10\", \"adprhl1\", \"fhl2a\", \"ckbb\", \"atp5mc3a\", \"lmod2b\", \"si:dkey-51e6.1\", \"cox5aa\", \"ndufb10\", \"mybpc3\", \"zgc:85722\", \"slc25a3b\", \"atp5if1b\", \"hbaa1\")\n",
    "## markers for Cardiomyocytes (Ventricle)\n",
    "CM_ventricle <- c(\"tnni4a\", \"CR926459.1\", \"fabp3\", \"myl7\", \"ak1\", \"cmlc1\", \"actc1a\", \"acta1b\", \"myh7l\", \"ndufa4\", \"gapdh\", \"ckma\", \"eno3\", \"tnnt2a\", \"atp5pd\", \"cox5b2\", \"cox7a1\", \"aldoaa\", \"tnnc1a\", \"tnni1b\", \"tpm4a\", \"cox4i1l\", \"mdh2\", \"ppdpfa\", \"mustn1b\", \"atp5mc1\", \"idh2\", \"nme2b.2\", \"rbpms2b\", \"pgam2\", \"ldb3b\", \"hspb11\", \"cox6b1\", \"atp5meb\", \"cox6a2\", \"ATP5MD\", \"mpc1\", \"gamt\", \"atp5po\", \"atp5mc3b\", \"zgc:193541\", \"tpi1b\", \"uqcr10\", \"slc25a5\", \"csrp3\", \"atp5if1b\", \"atp5f1d\", \"atp5f1e\", \"cox7b\", \"mdh1aa\")\n",
    "## markers for Endocardium (Atrium)\n",
    "encar_endo_atrium <- c(\"zgc:158343\", \"spock3\", \"im:7152348\", \"ptgs2a\", \"ptgs2b\", \"id2b\", \"vcam1b\", \"aqp8a.1\", \"mycb\", \"her6\", \"krt18\", \"grb10a\", \"clic2\", \"si:ch211-248e11.2\", \"gpr182\", \"klf2a\", \"cxcl18b\", \"fosl1a\", \"tmem88b\", \"dusp5\", \"glulb\", \"si:ch73-335l21.4\", \"akap12b\", \"ctsla\", \"fosb\", \"ackr4b\", \"igf2b\", \"bzw1b\", \"si:ch211-153b23.5\", \"tmem88a\", \"zfp36l1b\", \"ramp2\", \"errfi1a\", \"ponzr1\", \"fosab\", \"si:ch211-145b13.6\", \"btg2\", \"junba\", \"cyp2ad2\", \"nppc\", \"lpl\", \"slc22a31\", \"sat1a.2\", \"jun\", \"junbb\", \"tmem2\", \"vwf\", \"kctd12.2\", \"spint2\", \"pim1\")\n",
    "## markers for Endocardium (frzb)\n",
    "encar_frzb <- c(\"vwf\", \"si:ch211-153b23.5\", \"c2cd4a\", \"edn2\", \"cfd\", \"frzb\", \"ecscr\", \"glulb\", \"efemp2b\", \"calm1a\", \"cyr61\", \"nr4a2b\", \"cpamd8\", \"nr4a1\", \"cdh5\", \"s100v2\", \"appa\", \"cyr61l2\", \"hbegfa\", \"si:ch211-248e11.2\", \"entpd8\", \"her9\", \"klf2a\", \"ptmaa\", \"ptgs2a\", \"krt15\", \"ehd2b\", \"crip2\", \"spock3\", \"lmo2\", \"junba\", \"s100a10b\", \"id2b\", \"clec14a\", \"icn\", \"clic2\", \"cav1\", \"gpd1b\", \"fosl2\", \"tie1\", \"gadd45ba\", \"errfi1a\", \"BX663503.3\", \"sox7\", \"net1\", \"ackr4b\", \"serpine1\", \"sult2st3\", \"CABZ01030107.1\", \"efnb2a\")\n",
    "## markers for Endocardium (Ventricle)\n",
    "encar_endo_ventricle <- c(\"si:ch73-86n18.1\", \"aqp8a.1\", \"spock3\", \"mb\", \"fabp11a\", \"epas1b\", \"ramp2\", \"si:ch211-145b13.6\", \"f8\", \"her6\", \"cdh5\", \"fosab\", \"si:ch211-248e11.2\", \"eppk1\", \"socs3a\", \"tmem88b\", \"podxl\", \"cyp1b1\", \"grb10a\", \"si:ch73-335l21.4\", \"lpl\", \"jun\", \"si:ch211-160j14.3\", \"spon1b\", \"tmem88a\", \"akap12b\", \"klf2b\", \"id2b\", \"zgc:64106\", \"egfl7\", \"ecscr\", \"tspan4b\", \"fam174b\", \"kdrl\", \"junba\", \"ackr4b\", \"zgc:152791\", \"si:dkey-261h17.1\", \"si:dkeyp-97a10.2\", \"junbb\", \"nppc\", \"slc22a31\", \"klf6a\", \"clic2\", \"appa\", \"flt1\", \"tfpia\", \"ier2b\", \"im:7152348\", \"ccdc187\")\n",
    "## markers for Epicardium (Atrium)\n",
    "EPIC_atrium <- c(\"gstm.3\", \"s100a10a\", \"fn1b\", \"krt15\", \"mmp2\", \"si:ch211-105c13.3\", \"krt4\", \"frzb\", \"mmel1\", \"anxa2a\", \"ppdpfa\", \"krt94\", \"rbp4\", \"si:ch211-286o17.1\", \"anxa1a\", \"CR318588.3\", \"dkk3b\", \"tcf21\", \"postnb\", \"slc29a1b\", \"tmsb1\", \"phactr4a\", \"podxl\", \"c6.1\", \"myh10\", \"tuba1a\", \"f3b\", \"timp2a\", \"tbx18\", \"endouc\", \"cxcl14\", \"ckba\", \"aldh1a2\", \"col6a1\", \"c1qtnf5\", \"hsd11b2\", \"c7a\", \"si:ch211-156j16.1\", \"id2a\", \"rn7sk\", \"acvrl1\", \"spaca4l\", \"mxra8b\", \"mfap5\", \"s100a10b\", \"c4\", \"lxn\", \"flnb\", \"olfml3b\", \"cav1\")\n",
    "## markers for Epicardium (Ventricle)\n",
    "EPIC_ventricle <- c(\"si:ch211-106h4.12\", \"gstm.3\", \"krt15\", \"postnb\", \"s100a10a\", \"fn1b\", \"endouc\", \"mmp2\", \"tfa\", \"krt4\", \"krt94\", \"frzb\", \"si:ch211-105c13.3\", \"cldnc\", \"tmsb1\", \"si:ch211-198c19.3\", \"adh8a\", \"si:ch1073-459j12.1\", \"mdka\", \"c6.1\", \"anxa2a\", \"col1a2\", \"podxl\", \"si:ch211-137i24.10\", \"col1a1a\", \"spaca4l\", \"igfbp5b\", \"col1a1b\", \"rbp4\", \"eppk1\", \"sparc\", \"anxa1a\", \"dkk3b\", \"cygb1\", \"col6a3\", \"tgm2b\", \"si:dkey-8k3.2\", \"sostdc1a\", \"mgp\", \"aldh1a2\", \"c4\", \"crip1\", \"zgc:123068\", \"ppdpfa\", \"hsd11b2\", \"fn1a\", \"col5a1\", \"col6a1\", \"colec12\", \"si:ch211-286o17.1\")\n",
    "## markers for Macrophages\n",
    "MACROPHAGES <- c(\"grn1\", \"grn2\", \"ccl35.1\", \"cd74a\", \"c1qb\", \"ctsd\", \"c1qc\", \"lygl1\", \"lgals3bpb\", \"si:ch211-147m6.2\", \"marco\", \"fcer1gl\", \"ctss2.2\", \"mfap4\", \"NPC2 (1 of many)\", \"si:ch211-147m6.1\", \"cd74b\", \"grna\", \"si:busm1-266f07.2\", \"ctss2.1\", \"atp6v0ca\", \"hmox1a\", \"zgc:174904\", \"si:dkey-5n18.1\", \"ctsba\", \"rasgef1ba\", \"lgmn\", \"c1qa\", \"psap\", \"sqstm1\", \"CR855311.1\", \"ctsz\", \"pfn1\", \"atp6v1g1\", \"si:ch211-212k18.7\", \"tspan36\", \"ctsc\", \"si:dkey-27i16.2\", \"mrc1b\", \"cd9b\", \"zgc:92066\", \"ccl34a.4\", \"tppp\", \"cotl1\", \"ncf1\", \"cfp\", \"laptm5\", \"coro1a\", \"si:ch211-194m7.4\", \"scpep1\")\n",
    "## markers for Monocytes\n",
    "MONOCYTES <- c(\"ccl35.1\", \"epdl1\", \"si:ch211-214p16.1\", \"si:busm1-266f07.2\", \"si:ch211-214p16.2\", \"ccl35.2\", \"CU459094.3\", \"cd74a\", \"arpc1b\", \"cd74b\", \"tmsb1\", \"anxa3b\", \"sftpbb\", \"id2a\", \"mpeg1.1\", \"mhc2dab\", \"cxcr4b\", \"si:dkey-33i11.9\", \"zgc:92066\", \"pfn1\", \"hspbp1\", \"DNAJA4\", \"si:dkey-27i16.2\", \"stip1\", \"cxcl11.6\", \"aif1l\", \"hspa4a\", \"nr4a3\", \"syngr3b\", \"sqstm1\", \"zgc:152863\", \"rhbdd1\", \"hspe1\", \"BX004816.2\", \"pdcd4b\", \"zgc:103700\", \"chchd2\", \"actb2\", \"zdhhc18b\", \"psap\", \"rasgef1ba\", \"ctss2.2\", \"zgc:64051\", \"spi1b\", \"zgc:136870\", \"coro1a\", \"hspa8\", \"hsp90aa1.2\", \"wbp2\", \"ckbb\")\n",
    "## markers for Myelin cells\n",
    "MYELIN_CELLS <- c(\"scn4ab\", \"cd59\", \"mbpa\", \"mpz\", \"mbpb\", \"plp1b\", \"BX936284.1\", \"anxa13l\", \"apoeb\", \"si:rp71-19m20.1\", \"sncga\", \"nrgna\", \"stmn1b\", \"itgb4\", \"scn1ba\", \"fstl3\", \"cldnk\", \"sox10\", \"CABZ01068367.1\", \"pdgfbb\", \"si:ch211-286c4.6\", \"nanos1\", \"entpd3\", \"timd4\", \"lim2.2\", \"foxd3\", \"acbd7\", \"pou3f1\", \"cldn19\", \"ugt8\", \"gldn\", \"si:ch211-197g15.7\", \"fabp2\", \"znf536\", \"ninj2\", \"depdc7\", \"si:ch211-137a8.4\", \"tlcd1\", \"elovl1a\", \"si:ch211-234p6.5\", \"col15a1b\", \"egr2b\", \"gpm6ab\", \"fstb\", \"nr4a2b\", \"dhrs3b\", \"phlda2\", \"calm1a\", \"cd9b\", \"vwa1\")\n",
    "## markers for Neuronal cells\n",
    "NEURONAL_CELLS <- c(\"vipb\", \"elavl4\", \"stmn1b\", \"syt1a\", \"tuba1c\", \"gap43\", \"snap25a\", \"stmn2a\", \"sncga\", \"rtn1b\", \"mllt11\", \"crhbp\", \"slc5a7a\", \"anxa13l\", \"zgc:65894\", \"stmn2b\", \"ddc\", \"chata\", \"gng3\", \"FO907089.1\", \"phox2a\", \"pcsk1nl\", \"scg2b\", \"atp1b2a\", \"cpe\", \"nsg2\", \"vip\", \"vgf\", \"hpcal4\", \"atp1a3a\", \"cplx2\", \"phox2bb\", \"prph\", \"synpr\", \"map1b\", \"maptb\", \"rab6bb\", \"tuba2\", \"syt11a\", \"chrna3\", \"stxbp1a\", \"si:ch73-119p20.1\", \"ret\", \"vamp2\", \"cplx2l\", \"cntnap2a\", \"sypa\", \"eef1a1a\", \"stx1b\", \"elavl3\")\n",
    "## markers for Neutrophils\n",
    "NEUTROPHILS <- c(\"lyz\", \"lect2l\", \"BX908782.2\", \"npsn\", \"si:ch211-117m20.5\", \"mmp13a.1\", \"si:ch211-9d9.1\", \"scpp8\", \"si:ch1073-67j19.1\", \"mmp9\", \"pnp5a\", \"mpx\", \"ncf1\", \"fcer1gl\", \"pfn1\", \"scinlb\", \"cfl1l\", \"cotl1\", \"plekhf1\", \"cpa5\", \"illr4\", \"myh9a\", \"adam8a\", \"si:dkey-102g19.3\", \"lta4h\", \"timp2b\", \"il6r\", \"si:ch73-54b5.2\", \"cfbl\", \"vsir\", \"alox5ap\", \"nccrp1\", \"arg2\", \"si:ch211-284o19.8\", \"CU499336.2\", \"si:ch1073-443f11.2\", \"s1pr4\", \"arpc1b\", \"DNAJA4\", \"antxr2a\", \"si:ch211-136m16.8\", \"tmsb1\", \"si:ch73-343l4.8\", \"srgn\", \"zgc:77112\", \"coro1a\", \"stip1\", \"cd7al\", \"si:ch73-248e21.5\", \"CT030188.1\")\n",
    "## markers for Perivascular cells\n",
    "PERIVASCULAR_CELLS <- c(\"TCIM\", \"cxcl12b\", \"pdgfrb\", \"rasl12\", \"BX901920.1\", \"kcne4\", \"rgs5b\", \"rgs4\", \"agtr2\", \"TPM1\", \"si:ch211-198c19.3\", \"ifitm1\", \"fxyd6l\", \"slc20a1a\", \"calm2b\", \"notch3\", \"cd248a\", \"tagln\", \"si:ch73-193i22.1\", \"col18a1b\", \"mcamb\", \"atp1a1b\", \"stk17al\", \"rgs5a\", \"mustn1a\", \"myh11a\", \"pcdh18a\", \"plp1b\", \"fhl3b\", \"sh3d21\", \"ccdc3b\", \"prx\", \"snai1a\", \"sparc\", \"si:ch211-251b21.1\", \"si:ch211-270g19.5\", \"slc7a2\", \"myo1b\", \"jam3a\", \"arhgap36\", \"AL954322.2\", \"BX908750.1\", \"atp1b4\", \"en1b\", \"CABZ01068367.1\", \"oscp1a.1\", \"ppp1r14aa\", \"rftn2\", \"rassf4\", \"spdya\")\n",
    "## markers for Proliferating cells\n",
    "PROLIFERATING_CELLS <- c(\"pcna\", \"stmn1a\", \"hmgb2b\", \"DUT\", \"sumo3b\", \"rrm2.1\", \"si:ch211-288g17.3\", \"rpa3\", \"banf1\", \"rpa2\", \"lig1\", \"fen1\", \"sfrp5\", \"dnajc9\", \"rbbp4\", \"tyms\", \"rrm1\", \"top2a\", \"nutf2l\", \"cks1b\", \"hells\", \"chaf1a\", \"selenoh\", \"mki67\", \"zgc:110540\", \"mcm5\", \"mcm6\", \"ubr7\", \"si:ch211-156b7.4\", \"smc2\", \"si:ch211-66k16.27\", \"mcm4\", \"mcm3\", \"rrm2\", \"cdk1\", \"dek\", \"rpa1\", \"h2afx\", \"mcm2\", \"nasp\", \"cks2\", \"gins2\", \"asf1ba\", \"dhfr\", \"prim2\", \"rfc5\", \"rnaseh2a\", \"chtf8\", \"si:dkey-6i22.5\", \"dctd\")\n",
    "## markers for Smooth muscle cells\n",
    "SMOOTH_MUSCLE_CELLS <- c(\"rgs5a\", \"acta2\", \"TPM1\", \"C11orf96\", \"tagln\", \"myh11a\", \"krt91\", \"itih1\", \"myl6\", \"myl9a\", \"BX663503.3\", \"vim\", \"si:dkey-164f24.2\", \"ctgfa\", \"lmod1b\", \"flna\", \"cfd\", \"tpm2\", \"si:busm1-57f23.1\", \"zgc:77517\", \"mdkb\", \"tns1b\", \"si:ch211-1a19.3\", \"mylka\", \"gch2\", \"slmapb\", \"cyr61\", \"lpp\", \"dnajb4\", \"CR855337.1\", \"fhl1a\", \"fhl3b\", \"fbln5\", \"alcama\", \"tmsb4x\", \"c2cd4a\", \"htra1a\", \"phlda2\", \"anxa1a\", \"cav2\", \"cst3\", \"zgc:92162\", \"f3a\", \"sort1a\", \"cald1b\", \"kng1\", \"epas1a\", \"wfdc2\", \"tpm4b\", \"fhl2a\")\n",
    "## markers for T-cells\n",
    "T_CELLS <- c(\"si:ch211-214p16.1\", \"ccl34b.4\", \"ccl36.1\", \"ccl38.6\", \"DNAJA4\", \"ccr9a\", \"CR936442.1\", \"cxcr4b\", \"hspbp1\", \"zgc:64051\", \"rgs13\", \"pfn1\", \"nkl.1\", \"pdcd4b\", \"hspa4a\", \"sla2\", \"cebpb\", \"cyb5a\", \"coro1a\", \"stip1\", \"b2m\", \"si:dkey-27i16.2\", \"si:dkey-109a10.2\", \"si:ch211-202a12.4\", \"chchd2\", \"hsp90aa1.2\", \"rhbdd1\", \"cxcr4a\", \"tnfb\", \"calm1b\", \"tnfrsf9b\", \"ptprc\", \"si:ch211-105j21.9\", \"dusp2\", \"arpc1b\", \"sh2d1ab\", \"FP236356.1\", \"wasb\", \"BX120005.1\", \"capgb\", \"si:dkey-262k9.2\", \"si:ch211-165d12.4\", \"BX005105.1\", \"laptm5\", \"oser1\", \"mcl1a\", \"wbp2\", \"fkbp4\", \"scinlb\", \"si:dkey-177p2.6\")"
   ]
  },
  {
   "cell_type": "code",
   "execution_count": null,
   "metadata": {
    "vscode": {
     "languageId": "r"
    }
   },
   "outputs": [],
   "source": [
    "# render the plot to be bigger\n",
    "options(repr.plot.width=18, repr.plot.height=32)\n",
    "# make a heatmap usingd DoHeatmap using the markers mentioned above\n",
    "DoHeatmap(object = combined_sct, features = c(FB, VF, EC_apln, EC_lyve1, EC_plvapb, CM_dediff, CM_atrium, CM_ventricle, encar_endo_atrium, encar_frzb, encar_endo_ventricle, EPIC_atrium, EPIC_ventricle, MACROPHAGES, MONOCYTES, MYELIN_CELLS, NEURONAL_CELLS, NEUTROPHILS, PERIVASCULAR_CELLS, PROLIFERATING_CELLS, SMOOTH_MUSCLE_CELLS, T_CELLS), group.by = \"integrated_snn_res.0.4\")\n",
    "options(repr.plot.width=12, repr.plot.height=12)\n"
   ]
  },
  {
   "cell_type": "code",
   "execution_count": null,
   "metadata": {
    "vscode": {
     "languageId": "r"
    }
   },
   "outputs": [],
   "source": [
    "options(repr.plot.width=12, repr.plot.height=12)\n",
    "# Valve genes accodring to: https://www.nature.com/articles/s42003-021-02571-7--  by myra\n",
    "\n",
    "valve_markers_nat <- unique(c(\"fgfr2\",\"tgfb2\", \"fn1b\", \"wt1a\", \"fgfr4\", \"smad6b\", \"fgfr3\", \"gata5\", \"bmpr2b\", \"piezo2a.2\"))\n",
    "# Epicardial markers according to : https://www.sciencedirect.com/science/article/pii/S1534580720300551\n",
    "epicardial_markers <- unique(c(\"fstl1a\", \"fstl1b\", \"cav1\", \"aldh1a2\", \"tcf21\",\"tgm2b\", \"sema3fb\",\"tbx18\", \"adma\", \"jam2b\", \"wt1b\", \"cldn11a\", \"elnb\", \"mylka\"))\n",
    "VlnPlot(object = combined_sct, features = valve_markers_nat, stack = TRUE, group.by = \"integrated_snn_res.0.4\") + NoLegend()\n",
    "VlnPlot(object = combined_sct, features = epicardial_markers, stack = TRUE, group.by = \"integrated_snn_res.0.4\") + NoLegend()\n"
   ]
  },
  {
   "cell_type": "code",
   "execution_count": null,
   "metadata": {
    "vscode": {
     "languageId": "r"
    }
   },
   "outputs": [],
   "source": [
    "genes_to_annotate <- c(\"myh6\", \"cdh5\", \"pecam1\", \"pdgfra\", \"mslnb\", \"myh11a\", \"kcnj8\", \"adgre1\", \"itgal\", \"naaa\", \"s100a9\", \"cd3g\", \"ms4a1\", \"plp1\", \"hbb-bt\", \"hba-a1\", \"postnb\") # genes to annotate to check for clusters\n",
    "VlnPlot(object = combined_sct, features = genes_to_annotate, stack = TRUE, group.by = \"integrated_snn_res.0.4\") + NoLegend()"
   ]
  },
  {
   "cell_type": "code",
   "execution_count": null,
   "metadata": {
    "vscode": {
     "languageId": "r"
    }
   },
   "outputs": [],
   "source": [
    "# check the number of cells \n",
    "table(combined_sct@meta.data$integrated_snn_res.0.4, combined_sct@meta.data$orig.ident)"
   ]
  },
  {
   "cell_type": "code",
   "execution_count": null,
   "metadata": {
    "vscode": {
     "languageId": "r"
    }
   },
   "outputs": [],
   "source": [
    "# cluster\tname\n",
    "# 0\tCM_1\n",
    "# 1\tNeurons\n",
    "# 2\tCM_2\n",
    "# 3\tEC_Endocardium\n",
    "# 4\tErythrocytes\n",
    "# 5\tCM_3\n",
    "# 6\tFB_1\n",
    "# 7\tFB_2\n",
    "# 8\tepicardium\n",
    "# 9\tImmune cells\n",
    "# 10 Neurons?\n",
    "# 11 Skeletal muscle\n",
    "# 12 unknown_2\n",
    "# 13 epithelial cells\n",
    "\n"
   ]
  },
  {
   "cell_type": "code",
   "execution_count": 127,
   "metadata": {
    "vscode": {
     "languageId": "r"
    }
   },
   "outputs": [],
   "source": [
    "# allocate cell types to the clusters\n",
    "combined_sct@meta.data$cell_type <- NULL\n",
    "combined_sct@meta.data$cell_type[combined_sct@meta.data$integrated_snn_res.0.4 == 0] <- \"CM_1\"\n",
    "combined_sct@meta.data$cell_type[combined_sct@meta.data$integrated_snn_res.0.4 == 1] <- \"Neurons\"\n",
    "combined_sct@meta.data$cell_type[combined_sct@meta.data$integrated_snn_res.0.4 == 2] <- \"CM_2\"\n",
    "combined_sct@meta.data$cell_type[combined_sct@meta.data$integrated_snn_res.0.4 == 3] <- \"EC_Endocardium\"\n",
    "combined_sct@meta.data$cell_type[combined_sct@meta.data$integrated_snn_res.0.4 == 4] <- \"Erythrocytes\"\n",
    "combined_sct@meta.data$cell_type[combined_sct@meta.data$integrated_snn_res.0.4 == 5] <- \"CM_3\"\n",
    "combined_sct@meta.data$cell_type[combined_sct@meta.data$integrated_snn_res.0.4 == 6] <- \"FB_1\"\n",
    "combined_sct@meta.data$cell_type[combined_sct@meta.data$integrated_snn_res.0.4 == 7] <- \"FB_2\"\n",
    "combined_sct@meta.data$cell_type[combined_sct@meta.data$integrated_snn_res.0.4 == 8] <- \"epicardium\"\n",
    "combined_sct@meta.data$cell_type[combined_sct@meta.data$integrated_snn_res.0.4 == 9] <- \"Immune cells\"\n",
    "combined_sct@meta.data$cell_type[combined_sct@meta.data$integrated_snn_res.0.4 == 10] <- \"Neurons?\"\n",
    "combined_sct@meta.data$cell_type[combined_sct@meta.data$integrated_snn_res.0.4 == 11] <- \"Skeletal muscle\"\n",
    "combined_sct@meta.data$cell_type[combined_sct@meta.data$integrated_snn_res.0.4 == 12] <- \"unknown_2\"\n",
    "combined_sct@meta.data$cell_type[combined_sct@meta.data$integrated_snn_res.0.4 == 13] <- \"epithelial cells\"\n",
    "\n",
    "\n",
    "\n"
   ]
  },
  {
   "cell_type": "code",
   "execution_count": 129,
   "metadata": {
    "vscode": {
     "languageId": "r"
    }
   },
   "outputs": [],
   "source": [
    "Idents(combined_sct) <- combined_sct@meta.data$cell_type"
   ]
  },
  {
   "cell_type": "code",
   "execution_count": null,
   "metadata": {
    "vscode": {
     "languageId": "r"
    }
   },
   "outputs": [],
   "source": [
    "# change the plot size\n",
    "options(repr.plot.width=12, repr.plot.height=12)\n",
    "DimPlot(combined_sct, reduction = \"umap\", label = TRUE, label.size = 6, repel = TRUE, pt.size = 2)"
   ]
  },
  {
   "attachments": {},
   "cell_type": "markdown",
   "metadata": {},
   "source": [
    "# check gene markers"
   ]
  },
  {
   "cell_type": "code",
   "execution_count": null,
   "metadata": {
    "vscode": {
     "languageId": "r"
    }
   },
   "outputs": [],
   "source": [
    "# read marker genes from Burkhard et al. 2018-- https://elifesciences.org/articles/31515\n",
    "# read sheet Ventricle \n",
    "Burkhard_ventricle <- openxlsx::read.xlsx(\"Burkhard_et_al_fig4.xlsx\", sheet=\"Ventricle\")\n",
    "# make first row as column names\n",
    "colnames(Burkhard_ventricle) <- Burkhard_ventricle[1,]\n",
    "# remove first row\n",
    "Burkhard_ventricle <- Burkhard_ventricle[-1,]\n",
    "\n",
    "# convert to numeric\n",
    "Burkhard_ventricle$`PValue` <- as.numeric(Burkhard_ventricle$`PValue`)\n",
    "Burkhard_ventricle$`logFC` <- as.numeric(Burkhard_ventricle$`logFC`)\n",
    "\n",
    "Burkhard_ventricle %>% head\n",
    "\n",
    "# count how many genes are significant \n",
    "sum(Burkhard_ventricle$`PValue` < 0.05)\n",
    "\n"
   ]
  },
  {
   "cell_type": "code",
   "execution_count": null,
   "metadata": {
    "vscode": {
     "languageId": "r"
    }
   },
   "outputs": [],
   "source": [
    "# read marker genes from Burkhard et al. 2018 \n",
    "# read sheet Atrium\n",
    "Burkhard_atrium <- openxlsx::read.xlsx(\"Burkhard_et_al_fig4.xlsx\", sheet=\"Atrium\")\n",
    "# make first row as column names\n",
    "colnames(Burkhard_atrium) <- Burkhard_atrium[1,]\n",
    "# remove first row\n",
    "Burkhard_atrium <- Burkhard_atrium[-1,]\n",
    "\n",
    "# convert to numeric\n",
    "Burkhard_atrium$`PValue` <- as.numeric(Burkhard_atrium$`PValue`)\n",
    "Burkhard_atrium$`logFC` <- as.numeric(Burkhard_atrium$`logFC`)\n",
    "\n",
    "Burkhard_atrium %>% head\n",
    "\n",
    "# count how many genes are significant \n",
    "sum(Burkhard_atrium$`PValue` < 0.05)\n"
   ]
  },
  {
   "cell_type": "code",
   "execution_count": null,
   "metadata": {
    "vscode": {
     "languageId": "r"
    }
   },
   "outputs": [],
   "source": [
    "# read marker genes from Burkhard et al. 2018 \n",
    "# read sheet AV canal\n",
    "Burkhard_AV_canal <- openxlsx::read.xlsx(\"Burkhard_et_al_fig4.xlsx\", sheet=\"AV canal\")\n",
    "# make first row as column names\n",
    "colnames(Burkhard_AV_canal) <- Burkhard_AV_canal[1,]\n",
    "# remove first row\n",
    "Burkhard_AV_canal <- Burkhard_AV_canal[-1,]\n",
    "\n",
    "# convert to numeric\n",
    "Burkhard_AV_canal$`PValue` <- as.numeric(Burkhard_AV_canal$`PValue`)\n",
    "Burkhard_AV_canal$`logFC` <- as.numeric(Burkhard_AV_canal$`logFC`)\n",
    "\n",
    "Burkhard_AV_canal %>% head\n",
    "\n",
    "# count how many genes are significant \n",
    "sum(Burkhard_AV_canal$`PValue` < 0.05)"
   ]
  },
  {
   "cell_type": "code",
   "execution_count": null,
   "metadata": {
    "vscode": {
     "languageId": "r"
    }
   },
   "outputs": [],
   "source": [
    "# read marker genes from Burkhard et al. 2018 \n",
    "# read sheet SA region\n",
    "Burkhard_SA_region <- openxlsx::read.xlsx(\"Burkhard_et_al_fig4.xlsx\", sheet=\"SA region\")\n",
    "# make first row as column names\n",
    "colnames(Burkhard_SA_region) <- Burkhard_SA_region[1,]\n",
    "# remove first row\n",
    "Burkhard_SA_region <- Burkhard_SA_region[-1,]\n",
    "\n",
    "# convert to numeric\n",
    "Burkhard_SA_region$`PValue` <- as.numeric(Burkhard_SA_region$`PValue`)\n",
    "Burkhard_SA_region$`logFC` <- as.numeric(Burkhard_SA_region$`logFC`)\n",
    "\n",
    "Burkhard_SA_region %>% head\n",
    "\n",
    "# count how many genes are significant \n",
    "sum(Burkhard_SA_region$`PValue` < 0.05)\n",
    "\n",
    "\n"
   ]
  },
  {
   "cell_type": "code",
   "execution_count": null,
   "metadata": {
    "vscode": {
     "languageId": "r"
    }
   },
   "outputs": [],
   "source": [
    "#get genes which are significant in all 4 regions and convert them to vector\n",
    "Burkhard_ventricle %>% \n",
    "  filter(`PValue` < 0.05) %>% \n",
    "  dplyr::pull(`Gene ID`) %>% \n",
    "  as.character() -> ventricle_genes\n",
    "Burkhard_atrium %>% filter(`PValue` < 0.05) %>% dplyr::pull(`Gene ID`)  %>% as.character() -> atrium_genes\n",
    "Burkhard_AV_canal %>% filter(`PValue` < 0.05) %>% dplyr::pull(`Gene ID`)  %>% as.character() -> AV_canal_genes\n",
    "Burkhard_SA_region %>% filter(`PValue` < 0.05) %>% dplyr::pull(`Gene ID`)  %>% as.character() -> SA_region_genes\n",
    "ventricle_genes %>% head"
   ]
  },
  {
   "cell_type": "code",
   "execution_count": null,
   "metadata": {
    "vscode": {
     "languageId": "r"
    }
   },
   "outputs": [],
   "source": [
    "# render the plot to be bigger\n",
    "options(repr.plot.width=18, repr.plot.height=32)\n",
    "# make a heatmap usingd DoHeatmap using the markers mentioned above\n",
    "DoHeatmap(object = combined_sct, features = c(ventricle_genes, atrium_genes,AV_canal_genes, SA_region_genes ), group.by = \"integrated_snn_res.0.4\")\n",
    "DoHeatmap(object = combined_sct, features = c(ventricle_genes, atrium_genes,AV_canal_genes, SA_region_genes ))\n",
    "options(repr.plot.width=12, repr.plot.height=12)"
   ]
  },
  {
   "cell_type": "code",
   "execution_count": null,
   "metadata": {
    "vscode": {
     "languageId": "r"
    }
   },
   "outputs": [],
   "source": [
    "# CM_1 Ventricle\n",
    "# CM_2 Atrium\n"
   ]
  },
  {
   "cell_type": "code",
   "execution_count": null,
   "metadata": {
    "vscode": {
     "languageId": "r"
    }
   },
   "outputs": [],
   "source": [
    "DotPlot(object = combined_sct, features = c(\"has2\", \"bmp4\", \"tbx2b\", \"nppa\", \"vmhc\", \"myh6\", \"myh7\", \"tbx5\", \"vcana\"))\n",
    "DoHeatmap(object = combined_sct, features = c(\"has2\", \"bmp4\", \"tbx2b\", \"nppa\", \"vmhc\", \"myh6\", \"myh7\", \"tbx5\", \"vcana\"))\n",
    "VlnPlot(object = combined_sct, features = c(\"has2\", \"bmp4\", \"tbx2b\", \"nppa\", \"vmhc\", \"myh6\", \"myh7\", \"tbx5\", \"vcana\"), stack=TRUE)\n",
    "VlnPlot(object = combined_sct, features = c(\"has2\", \"bmp4\", \"tbx2b\", \"nppa\", \"vmhc\", \"myh6\", \"myh7\", \"tbx5\", \"vcana\"), stack=TRUE, assay = \"RNA\")"
   ]
  },
  {
   "cell_type": "code",
   "execution_count": null,
   "metadata": {
    "vscode": {
     "languageId": "r"
    }
   },
   "outputs": [],
   "source": [
    "DotPlot(object = combined_sct, features = c(\"has2\", \"bmp4\", \"tbx2b\", \"nppa\", \"vmhc\", \"myh6\", \"myh7\", \"elnb\", \"isl1\", \"fgf10\", \"ltbp3\", \"mef2c\", \"tbx1\", \"eln2\",\"vgo\"))\n",
    "VlnPlot(object = combined_sct, features = c(\"has2\", \"bmp4\", \"tbx2b\", \"nppa\", \"vmhc\", \"myh6\", \"myh7\",\"elnb\", \"isl1\",\"fgf10\",\"ltbp3\",\"mef2c\", \"tbx1\",\"eln2\", \"vgo\"), stack=TRUE)"
   ]
  },
  {
   "attachments": {},
   "cell_type": "markdown",
   "metadata": {},
   "source": [
    "# Proliferative cells"
   ]
  },
  {
   "cell_type": "code",
   "execution_count": null,
   "metadata": {
    "vscode": {
     "languageId": "r"
    }
   },
   "outputs": [],
   "source": [
    "s.genes <- cc.genes$s.genes\n",
    "s.genes\n",
    "g2m.genes <- cc.genes$g2m.genes\n",
    "g2m.genes"
   ]
  },
  {
   "cell_type": "code",
   "execution_count": null,
   "metadata": {
    "vscode": {
     "languageId": "r"
    }
   },
   "outputs": [],
   "source": [
    "\n",
    "# Basic function to convert human to zebrafish gene names\n",
    "convertHumanGeneList <- function(x){\n",
    "require(\"biomaRt\")\n",
    "human = useMart(\"ensembl\", dataset = \"hsapiens_gene_ensembl\", host = \"https://dec2021.archive.ensembl.org\") # use the archive version of ensembl\n",
    "zebrafish = useMart(\"ensembl\", dataset = \"drerio_gene_ensembl\", host = \"https://dec2021.archive.ensembl.org\") # use the archive version of ensembl\n",
    "genesV2 = getLDS(attributes = c(\"hgnc_symbol\"), # use the hgnc_symbol as the attribute to search for\n",
    "                filters = \"hgnc_symbol\", # use the hgnc_symbol as the filter\n",
    "                values = x , # x is the input vector of human genes\n",
    "                mart = human, # human is the biomart object created above\n",
    "                attributesL = c(\"zfin_id_symbol\"), # zfin_id_symbol is the zebrafish gene symbol\n",
    "                martL = zebrafish, # zebrafish is the biomart object created above\n",
    "                uniqueRows=T) # only return unique rows\n",
    "\n",
    "# Print the first 6 genes found to the screen\n",
    "print(head(genesV2))\n",
    "return(genesV2)\n",
    "}\n"
   ]
  },
  {
   "cell_type": "code",
   "execution_count": null,
   "metadata": {
    "vscode": {
     "languageId": "r"
    }
   },
   "outputs": [],
   "source": [
    "s.genes_mouse <- convertHumanGeneList(s.genes)\n",
    "g2m_mouse  <- convertHumanGeneList(g2m.genes)\n"
   ]
  },
  {
   "cell_type": "code",
   "execution_count": null,
   "metadata": {
    "vscode": {
     "languageId": "r"
    }
   },
   "outputs": [],
   "source": [
    "# calculate cell cycle scores using the mouse genes\n",
    "combined_sct <- CellCycleScoring(combined_sct, s.features = s.genes_mouse$ZFIN.symbol, g2m.features = g2m_mouse$ZFIN.symbol, set.ident = FALSE,assay= \"RNA\")"
   ]
  },
  {
   "cell_type": "code",
   "execution_count": null,
   "metadata": {
    "vscode": {
     "languageId": "r"
    }
   },
   "outputs": [],
   "source": [
    "# calculate the percentage of _cycle in each cell type according to condition\n",
    "cell_type_percentages_cell_cycle <- prop.table(table(combined_sct@meta.data$cell_type, combined_sct@meta.data$Phase, combined_sct@meta.data$condition))*100\n",
    "cell_type_percentages_cell_cycle <- as.data.frame(cell_type_percentages_cell_cycle)\n",
    "cell_type_percentages_cell_cycle %>% head\n",
    "cell_type_percentages_cell_cycle <- cell_type_percentages_cell_cycle %>% dplyr::rename(cell_type = Var1, cell_cycle = Var2, condition = Var3)\n",
    "cell_type_percentages_cell_cycle %>% head\n",
    "# plot these percentages using ggplot2\n",
    "ggplot(cell_type_percentages_cell_cycle, aes(x = cell_type, y = Freq, fill = cell_cycle)) +\n",
    "  geom_bar(stat = \"identity\", position = \"fill\") + \n",
    "  theme(axis.text.x = element_text(angle = 90, hjust = 1, vjust=0.5)) +\n",
    "  labs(x = \"Condition\", y = \"Percentage of cells\", fill = \"Cell type\")+facet_grid(~condition)"
   ]
  },
  {
   "cell_type": "code",
   "execution_count": null,
   "metadata": {
    "vscode": {
     "languageId": "r"
    }
   },
   "outputs": [],
   "source": [
    "ggplot(cell_type_percentages_cell_cycle, aes(x = cell_type, y = Freq, fill = cell_cycle)) +\n",
    "  geom_bar(stat = \"identity\", position = \"dodge\") + \n",
    "  theme(axis.text.x = element_text(angle = 90, hjust = 1, vjust=0.5)) +\n",
    "  labs(x = \"Condition\", y = \"Percentage of cells\", fill = \"Cell type\")+facet_grid(~condition)"
   ]
  },
  {
   "cell_type": "code",
   "execution_count": 33,
   "metadata": {
    "vscode": {
     "languageId": "r"
    }
   },
   "outputs": [],
   "source": [
    "write.csv(cell_type_percentages_cell_cycle, file = \"results_seurat/cell_type_percentages_cell_cycle.csv\") # save the percentages to a csv file"
   ]
  },
  {
   "cell_type": "code",
   "execution_count": null,
   "metadata": {
    "vscode": {
     "languageId": "r"
    }
   },
   "outputs": [],
   "source": []
  },
  {
   "attachments": {},
   "cell_type": "markdown",
   "metadata": {},
   "source": [
    "# Sub cluster cell types"
   ]
  },
  {
   "cell_type": "code",
   "execution_count": null,
   "metadata": {
    "vscode": {
     "languageId": "r"
    }
   },
   "outputs": [],
   "source": [
    "CM_cells  <- subset(combined_sct, subset = cell_type == \"CM_1\" | cell_type == \"CM_2\"| cell_type == \"CM_3\")\n",
    "CM_cells"
   ]
  },
  {
   "cell_type": "code",
   "execution_count": 35,
   "metadata": {
    "vscode": {
     "languageId": "r"
    }
   },
   "outputs": [
    {
     "data": {
      "text/html": [
       "<table class=\"dataframe\">\n",
       "<caption>A data.frame: 6 × 24</caption>\n",
       "<thead>\n",
       "\t<tr><th></th><th scope=col>orig.ident</th><th scope=col>nCount_RNA</th><th scope=col>nFeature_RNA</th><th scope=col>percent.mt</th><th scope=col>percent.mt_after_removal</th><th scope=col>nCount_SCT</th><th scope=col>nFeature_SCT</th><th scope=col>scDblFinder.score</th><th scope=col>scDblFinder.class</th><th scope=col>integrated_snn_res.0.4</th><th scope=col>⋯</th><th scope=col>seurat_clusters</th><th scope=col>integrated_snn_res.0.2</th><th scope=col>integrated_snn_res.0.1</th><th scope=col>integrated_snn_res.0.15</th><th scope=col>cell_type</th><th scope=col>condition</th><th scope=col>replicate</th><th scope=col>S.Score</th><th scope=col>G2M.Score</th><th scope=col>Phase</th></tr>\n",
       "\t<tr><th></th><th scope=col>&lt;chr&gt;</th><th scope=col>&lt;dbl&gt;</th><th scope=col>&lt;int&gt;</th><th scope=col>&lt;dbl&gt;</th><th scope=col>&lt;dbl&gt;</th><th scope=col>&lt;dbl&gt;</th><th scope=col>&lt;int&gt;</th><th scope=col>&lt;dbl&gt;</th><th scope=col>&lt;chr&gt;</th><th scope=col>&lt;fct&gt;</th><th scope=col>⋯</th><th scope=col>&lt;fct&gt;</th><th scope=col>&lt;fct&gt;</th><th scope=col>&lt;fct&gt;</th><th scope=col>&lt;fct&gt;</th><th scope=col>&lt;chr&gt;</th><th scope=col>&lt;chr&gt;</th><th scope=col>&lt;chr&gt;</th><th scope=col>&lt;dbl&gt;</th><th scope=col>&lt;dbl&gt;</th><th scope=col>&lt;chr&gt;</th></tr>\n",
       "</thead>\n",
       "<tbody>\n",
       "\t<tr><th scope=row>AAACAGCCAGCTAACC-1_1</th><td>sib_1</td><td>491</td><td>407</td><td>0.4056795</td><td>0</td><td>484</td><td>400</td><td>0.03564680</td><td>singlet</td><td>2</td><td>⋯</td><td>3 </td><td>2</td><td>2</td><td>2</td><td>CM_2</td><td>sib</td><td>1</td><td>-0.010554090</td><td>-0.012403101</td><td>G1 </td></tr>\n",
       "\t<tr><th scope=row>AAACAGCCATTAAGCT-1_1</th><td>sib_1</td><td>595</td><td>501</td><td>1.3266998</td><td>0</td><td>582</td><td>492</td><td>0.32570428</td><td>singlet</td><td>5</td><td>⋯</td><td>9 </td><td>6</td><td>4</td><td>6</td><td>CM_3</td><td>sib</td><td>1</td><td> 0.013786280</td><td>-0.010335917</td><td>S  </td></tr>\n",
       "\t<tr><th scope=row>AAACGGATCCCTCGCA-1_1</th><td>sib_1</td><td>516</td><td>338</td><td>0.0000000</td><td>0</td><td>510</td><td>332</td><td>0.10627147</td><td>singlet</td><td>0</td><td>⋯</td><td>2 </td><td>1</td><td>1</td><td>1</td><td>CM_1</td><td>sib</td><td>1</td><td>-0.003298153</td><td> 0.008755130</td><td>G2M</td></tr>\n",
       "\t<tr><th scope=row>AAAGCAAGTGAAACAA-1_1</th><td>sib_1</td><td>541</td><td>392</td><td>1.9927536</td><td>0</td><td>538</td><td>390</td><td>0.13271956</td><td>singlet</td><td>5</td><td>⋯</td><td>9 </td><td>6</td><td>4</td><td>6</td><td>CM_3</td><td>sib</td><td>1</td><td>-0.011213720</td><td> 0.048487612</td><td>G2M</td></tr>\n",
       "\t<tr><th scope=row>AAAGCACCACTAAGTT-1_1</th><td>sib_1</td><td>467</td><td>358</td><td>0.6382979</td><td>0</td><td>472</td><td>357</td><td>0.02887778</td><td>singlet</td><td>5</td><td>⋯</td><td>12</td><td>6</td><td>4</td><td>6</td><td>CM_3</td><td>sib</td><td>1</td><td>-0.006596306</td><td> 0.022678219</td><td>G2M</td></tr>\n",
       "\t<tr><th scope=row>AAAGGACGTCGAAGTC-1_1</th><td>sib_1</td><td>406</td><td>312</td><td>0.4901961</td><td>0</td><td>422</td><td>310</td><td>0.06708326</td><td>singlet</td><td>0</td><td>⋯</td><td>8 </td><td>1</td><td>1</td><td>1</td><td>CM_1</td><td>sib</td><td>1</td><td> 0.019722955</td><td>-0.007235142</td><td>S  </td></tr>\n",
       "</tbody>\n",
       "</table>\n"
      ],
      "text/latex": [
       "A data.frame: 6 × 24\n",
       "\\begin{tabular}{r|lllllllllllllllllllll}\n",
       "  & orig.ident & nCount\\_RNA & nFeature\\_RNA & percent.mt & percent.mt\\_after\\_removal & nCount\\_SCT & nFeature\\_SCT & scDblFinder.score & scDblFinder.class & integrated\\_snn\\_res.0.4 & ⋯ & seurat\\_clusters & integrated\\_snn\\_res.0.2 & integrated\\_snn\\_res.0.1 & integrated\\_snn\\_res.0.15 & cell\\_type & condition & replicate & S.Score & G2M.Score & Phase\\\\\n",
       "  & <chr> & <dbl> & <int> & <dbl> & <dbl> & <dbl> & <int> & <dbl> & <chr> & <fct> & ⋯ & <fct> & <fct> & <fct> & <fct> & <chr> & <chr> & <chr> & <dbl> & <dbl> & <chr>\\\\\n",
       "\\hline\n",
       "\tAAACAGCCAGCTAACC-1\\_1 & sib\\_1 & 491 & 407 & 0.4056795 & 0 & 484 & 400 & 0.03564680 & singlet & 2 & ⋯ & 3  & 2 & 2 & 2 & CM\\_2 & sib & 1 & -0.010554090 & -0.012403101 & G1 \\\\\n",
       "\tAAACAGCCATTAAGCT-1\\_1 & sib\\_1 & 595 & 501 & 1.3266998 & 0 & 582 & 492 & 0.32570428 & singlet & 5 & ⋯ & 9  & 6 & 4 & 6 & CM\\_3 & sib & 1 &  0.013786280 & -0.010335917 & S  \\\\\n",
       "\tAAACGGATCCCTCGCA-1\\_1 & sib\\_1 & 516 & 338 & 0.0000000 & 0 & 510 & 332 & 0.10627147 & singlet & 0 & ⋯ & 2  & 1 & 1 & 1 & CM\\_1 & sib & 1 & -0.003298153 &  0.008755130 & G2M\\\\\n",
       "\tAAAGCAAGTGAAACAA-1\\_1 & sib\\_1 & 541 & 392 & 1.9927536 & 0 & 538 & 390 & 0.13271956 & singlet & 5 & ⋯ & 9  & 6 & 4 & 6 & CM\\_3 & sib & 1 & -0.011213720 &  0.048487612 & G2M\\\\\n",
       "\tAAAGCACCACTAAGTT-1\\_1 & sib\\_1 & 467 & 358 & 0.6382979 & 0 & 472 & 357 & 0.02887778 & singlet & 5 & ⋯ & 12 & 6 & 4 & 6 & CM\\_3 & sib & 1 & -0.006596306 &  0.022678219 & G2M\\\\\n",
       "\tAAAGGACGTCGAAGTC-1\\_1 & sib\\_1 & 406 & 312 & 0.4901961 & 0 & 422 & 310 & 0.06708326 & singlet & 0 & ⋯ & 8  & 1 & 1 & 1 & CM\\_1 & sib & 1 &  0.019722955 & -0.007235142 & S  \\\\\n",
       "\\end{tabular}\n"
      ],
      "text/markdown": [
       "\n",
       "A data.frame: 6 × 24\n",
       "\n",
       "| <!--/--> | orig.ident &lt;chr&gt; | nCount_RNA &lt;dbl&gt; | nFeature_RNA &lt;int&gt; | percent.mt &lt;dbl&gt; | percent.mt_after_removal &lt;dbl&gt; | nCount_SCT &lt;dbl&gt; | nFeature_SCT &lt;int&gt; | scDblFinder.score &lt;dbl&gt; | scDblFinder.class &lt;chr&gt; | integrated_snn_res.0.4 &lt;fct&gt; | ⋯ ⋯ | seurat_clusters &lt;fct&gt; | integrated_snn_res.0.2 &lt;fct&gt; | integrated_snn_res.0.1 &lt;fct&gt; | integrated_snn_res.0.15 &lt;fct&gt; | cell_type &lt;chr&gt; | condition &lt;chr&gt; | replicate &lt;chr&gt; | S.Score &lt;dbl&gt; | G2M.Score &lt;dbl&gt; | Phase &lt;chr&gt; |\n",
       "|---|---|---|---|---|---|---|---|---|---|---|---|---|---|---|---|---|---|---|---|---|---|\n",
       "| AAACAGCCAGCTAACC-1_1 | sib_1 | 491 | 407 | 0.4056795 | 0 | 484 | 400 | 0.03564680 | singlet | 2 | ⋯ | 3  | 2 | 2 | 2 | CM_2 | sib | 1 | -0.010554090 | -0.012403101 | G1  |\n",
       "| AAACAGCCATTAAGCT-1_1 | sib_1 | 595 | 501 | 1.3266998 | 0 | 582 | 492 | 0.32570428 | singlet | 5 | ⋯ | 9  | 6 | 4 | 6 | CM_3 | sib | 1 |  0.013786280 | -0.010335917 | S   |\n",
       "| AAACGGATCCCTCGCA-1_1 | sib_1 | 516 | 338 | 0.0000000 | 0 | 510 | 332 | 0.10627147 | singlet | 0 | ⋯ | 2  | 1 | 1 | 1 | CM_1 | sib | 1 | -0.003298153 |  0.008755130 | G2M |\n",
       "| AAAGCAAGTGAAACAA-1_1 | sib_1 | 541 | 392 | 1.9927536 | 0 | 538 | 390 | 0.13271956 | singlet | 5 | ⋯ | 9  | 6 | 4 | 6 | CM_3 | sib | 1 | -0.011213720 |  0.048487612 | G2M |\n",
       "| AAAGCACCACTAAGTT-1_1 | sib_1 | 467 | 358 | 0.6382979 | 0 | 472 | 357 | 0.02887778 | singlet | 5 | ⋯ | 12 | 6 | 4 | 6 | CM_3 | sib | 1 | -0.006596306 |  0.022678219 | G2M |\n",
       "| AAAGGACGTCGAAGTC-1_1 | sib_1 | 406 | 312 | 0.4901961 | 0 | 422 | 310 | 0.06708326 | singlet | 0 | ⋯ | 8  | 1 | 1 | 1 | CM_1 | sib | 1 |  0.019722955 | -0.007235142 | S   |\n",
       "\n"
      ],
      "text/plain": [
       "                     orig.ident nCount_RNA nFeature_RNA percent.mt\n",
       "AAACAGCCAGCTAACC-1_1 sib_1      491        407          0.4056795 \n",
       "AAACAGCCATTAAGCT-1_1 sib_1      595        501          1.3266998 \n",
       "AAACGGATCCCTCGCA-1_1 sib_1      516        338          0.0000000 \n",
       "AAAGCAAGTGAAACAA-1_1 sib_1      541        392          1.9927536 \n",
       "AAAGCACCACTAAGTT-1_1 sib_1      467        358          0.6382979 \n",
       "AAAGGACGTCGAAGTC-1_1 sib_1      406        312          0.4901961 \n",
       "                     percent.mt_after_removal nCount_SCT nFeature_SCT\n",
       "AAACAGCCAGCTAACC-1_1 0                        484        400         \n",
       "AAACAGCCATTAAGCT-1_1 0                        582        492         \n",
       "AAACGGATCCCTCGCA-1_1 0                        510        332         \n",
       "AAAGCAAGTGAAACAA-1_1 0                        538        390         \n",
       "AAAGCACCACTAAGTT-1_1 0                        472        357         \n",
       "AAAGGACGTCGAAGTC-1_1 0                        422        310         \n",
       "                     scDblFinder.score scDblFinder.class integrated_snn_res.0.4\n",
       "AAACAGCCAGCTAACC-1_1 0.03564680        singlet           2                     \n",
       "AAACAGCCATTAAGCT-1_1 0.32570428        singlet           5                     \n",
       "AAACGGATCCCTCGCA-1_1 0.10627147        singlet           0                     \n",
       "AAAGCAAGTGAAACAA-1_1 0.13271956        singlet           5                     \n",
       "AAAGCACCACTAAGTT-1_1 0.02887778        singlet           5                     \n",
       "AAAGGACGTCGAAGTC-1_1 0.06708326        singlet           0                     \n",
       "                     ⋯ seurat_clusters integrated_snn_res.0.2\n",
       "AAACAGCCAGCTAACC-1_1 ⋯ 3               2                     \n",
       "AAACAGCCATTAAGCT-1_1 ⋯ 9               6                     \n",
       "AAACGGATCCCTCGCA-1_1 ⋯ 2               1                     \n",
       "AAAGCAAGTGAAACAA-1_1 ⋯ 9               6                     \n",
       "AAAGCACCACTAAGTT-1_1 ⋯ 12              6                     \n",
       "AAAGGACGTCGAAGTC-1_1 ⋯ 8               1                     \n",
       "                     integrated_snn_res.0.1 integrated_snn_res.0.15 cell_type\n",
       "AAACAGCCAGCTAACC-1_1 2                      2                       CM_2     \n",
       "AAACAGCCATTAAGCT-1_1 4                      6                       CM_3     \n",
       "AAACGGATCCCTCGCA-1_1 1                      1                       CM_1     \n",
       "AAAGCAAGTGAAACAA-1_1 4                      6                       CM_3     \n",
       "AAAGCACCACTAAGTT-1_1 4                      6                       CM_3     \n",
       "AAAGGACGTCGAAGTC-1_1 1                      1                       CM_1     \n",
       "                     condition replicate S.Score      G2M.Score    Phase\n",
       "AAACAGCCAGCTAACC-1_1 sib       1         -0.010554090 -0.012403101 G1   \n",
       "AAACAGCCATTAAGCT-1_1 sib       1          0.013786280 -0.010335917 S    \n",
       "AAACGGATCCCTCGCA-1_1 sib       1         -0.003298153  0.008755130 G2M  \n",
       "AAAGCAAGTGAAACAA-1_1 sib       1         -0.011213720  0.048487612 G2M  \n",
       "AAAGCACCACTAAGTT-1_1 sib       1         -0.006596306  0.022678219 G2M  \n",
       "AAAGGACGTCGAAGTC-1_1 sib       1          0.019722955 -0.007235142 S    "
      ]
     },
     "metadata": {},
     "output_type": "display_data"
    }
   ],
   "source": [
    "CM_cells@meta.data %>% head"
   ]
  },
  {
   "cell_type": "code",
   "execution_count": null,
   "metadata": {
    "vscode": {
     "languageId": "r"
    }
   },
   "outputs": [],
   "source": [
    "CM_cells <- SCTransform(CM_cells, verbose = FALSE)\n",
    "CM_cells <- RunPCA(CM_cells, verbose = FALSE, npcs = 50)\n",
    "ElbowPlot(CM_cells,ndims = 50)"
   ]
  },
  {
   "cell_type": "code",
   "execution_count": null,
   "metadata": {
    "vscode": {
     "languageId": "r"
    }
   },
   "outputs": [],
   "source": [
    "CM_cells <- RunUMAP(CM_cells, dims = 1:50)\n"
   ]
  },
  {
   "cell_type": "code",
   "execution_count": null,
   "metadata": {
    "vscode": {
     "languageId": "r"
    }
   },
   "outputs": [],
   "source": [
    "CM_cells <- FindNeighbors(object = CM_cells)\n",
    "CM_cells <- FindClusters(CM_cells, resolution = c(0.2, 0.4, 0.6, 0.8, 1.0, 1.2))"
   ]
  },
  {
   "cell_type": "code",
   "execution_count": null,
   "metadata": {
    "vscode": {
     "languageId": "r"
    }
   },
   "outputs": [],
   "source": [
    "DimPlot(CM_cells, reduction = \"umap\", group.by = \"orig.ident\", label = TRUE, repel = TRUE)\n",
    "\n"
   ]
  },
  {
   "cell_type": "code",
   "execution_count": null,
   "metadata": {
    "vscode": {
     "languageId": "r"
    }
   },
   "outputs": [],
   "source": [
    "# CM_cells@meta.data %>% head"
   ]
  },
  {
   "cell_type": "code",
   "execution_count": null,
   "metadata": {
    "vscode": {
     "languageId": "r"
    }
   },
   "outputs": [],
   "source": [
    "DimPlot(CM_cells, reduction = \"umap\", group.by = \"SCT_snn_res.0.2\", label = TRUE, repel = TRUE)\n",
    "DimPlot(CM_cells, reduction = \"umap\", group.by = \"SCT_snn_res.0.4\", label = TRUE, repel = TRUE)\n",
    "DimPlot(CM_cells, reduction = \"umap\", group.by = \"SCT_snn_res.0.6\", label = TRUE, repel = TRUE)\n",
    "DimPlot(CM_cells, reduction = \"umap\", group.by = \"SCT_snn_res.0.8\", label = TRUE, repel = TRUE)\n",
    "DimPlot(CM_cells, reduction = \"umap\", group.by = \"SCT_snn_res.1\", label = TRUE, repel = TRUE)\n",
    "DimPlot(CM_cells, reduction = \"umap\", group.by = \"SCT_snn_res.1.2\", label = TRUE, repel = TRUE)"
   ]
  },
  {
   "cell_type": "code",
   "execution_count": 19,
   "metadata": {
    "vscode": {
     "languageId": "r"
    }
   },
   "outputs": [],
   "source": [
    "AV_canal_genes_GO <-c(\"anxa5b\", \"apcdd1l\", \"aplnra\", \"aplnrb\", \"axin2\", \"bmp4\", \"cldn5a\", \"cldn5b\", \"cthrc1a\", \"cthrc1b\", \"dmgdh\", \"doc2b\", \"dpt\", \"dusp2\", \"egfl7\", \"elnb\", \"enpp2\", \"esama\", \"esamb\", \"fbln2\", \"gata5\", \"has2\", \"hspg2\", \"ipo11\", \"itga4\", \"itga5\", \"jag1a\", \"jag1b\", \"junba\", \"klf2a\", \"klf2b\", \"lef1\", \"lmna\", \"loxl2a\", \"loxl2b\", \"ncam1a\", \"ncam1b\", \"nfatc1\", \"nrg1\", \"nrg2a\", \"nrg2b\", \"nkd1\", \"notch1a\", \"notch1b\", \"notum1a\", \"notum1b\", \"ociad2\", \"pdgfaa\", \"pdlim3a\", \"pdlim3b\", \"piezo1\", \"plek\", \"prc1a\", \"prc1b\", \"prrx1b\", \"rnd2\", \"serpine2\", \"sgk1\", \"snai1a\", \"snai1b\", \"sost\", \"spp1\", \"tbx20\", \"tbx2b\", \"tbx3a\", \"tbx3b\", \"tgfb2\", \"tgfbi\", \"tgm2a\", \"tgm2b\", \"twist1a\", \"twist1b\", \"upp1\", \"vcana\", \"vcanb\", \"wnt16\", \"wnt4\", \"wnt9b\", \"zbtb20\")"
   ]
  },
  {
   "cell_type": "code",
   "execution_count": null,
   "metadata": {
    "vscode": {
     "languageId": "r"
    }
   },
   "outputs": [],
   "source": [
    "DoHeatmap(object = CM_3_cells, features = c(AV_canal_genes_GO))"
   ]
  },
  {
   "attachments": {},
   "cell_type": "markdown",
   "metadata": {
    "vscode": {
     "languageId": "r"
    }
   },
   "source": [
    "## sub cluster EC_Endocardium"
   ]
  },
  {
   "cell_type": "code",
   "execution_count": null,
   "metadata": {
    "vscode": {
     "languageId": "r"
    }
   },
   "outputs": [],
   "source": [
    "EC_Endo_cells <- subset(combined_sct, subset = cell_type == \"EC_Endocardium\" )\n",
    "EC_Endo_cells"
   ]
  },
  {
   "cell_type": "code",
   "execution_count": null,
   "metadata": {
    "vscode": {
     "languageId": "r"
    }
   },
   "outputs": [],
   "source": [
    "EC_Endo_cells <- SCTransform(EC_Endo_cells, verbose = FALSE)\n",
    "EC_Endo_cells <- RunPCA(EC_Endo_cells, verbose = FALSE, npcs = 50)\n",
    "ElbowPlot(EC_Endo_cells,ndims = 50)"
   ]
  },
  {
   "cell_type": "code",
   "execution_count": null,
   "metadata": {
    "vscode": {
     "languageId": "r"
    }
   },
   "outputs": [],
   "source": [
    "EC_Endo_cells <- RunUMAP(EC_Endo_cells, dims = 1:50)"
   ]
  },
  {
   "cell_type": "code",
   "execution_count": null,
   "metadata": {
    "vscode": {
     "languageId": "r"
    }
   },
   "outputs": [],
   "source": [
    "EC_Endo_cells <- FindNeighbors(object = EC_Endo_cells)\n",
    "EC_Endo_cells <- FindClusters(EC_Endo_cells, resolution = c(0.2, 0.4, 0.6, 0.8, 1.0, 1.2))"
   ]
  },
  {
   "cell_type": "code",
   "execution_count": null,
   "metadata": {
    "vscode": {
     "languageId": "r"
    }
   },
   "outputs": [],
   "source": [
    "DimPlot(EC_Endo_cells, reduction = \"umap\", group.by = \"orig.ident\", label = TRUE, repel = TRUE)\n"
   ]
  },
  {
   "cell_type": "code",
   "execution_count": null,
   "metadata": {
    "vscode": {
     "languageId": "r"
    }
   },
   "outputs": [],
   "source": [
    "DimPlot(EC_Endo_cells, reduction = \"umap\", group.by = \"SCT_snn_res.0.2\", label = TRUE, repel = TRUE, label.size = 6)\n",
    "DimPlot(EC_Endo_cells, reduction = \"umap\", group.by = \"SCT_snn_res.0.4\", label = TRUE, repel = TRUE, label.size = 6)\n",
    "DimPlot(EC_Endo_cells, reduction = \"umap\", group.by = \"SCT_snn_res.0.6\", label = TRUE, repel = TRUE, label.size = 6)\n",
    "DimPlot(EC_Endo_cells, reduction = \"umap\", group.by = \"SCT_snn_res.0.8\", label = TRUE, repel = TRUE, label.size = 6)\n",
    "DimPlot(EC_Endo_cells, reduction = \"umap\", group.by = \"SCT_snn_res.1\", label = TRUE, repel = TRUE, label.size = 6)\n",
    "DimPlot(EC_Endo_cells, reduction = \"umap\", group.by = \"SCT_snn_res.1.2\", label = TRUE, repel = TRUE, label.size = 6)"
   ]
  },
  {
   "cell_type": "code",
   "execution_count": null,
   "metadata": {
    "vscode": {
     "languageId": "r"
    }
   },
   "outputs": [],
   "source": [
    "Idents(EC_Endo_cells) <- \"SCT_snn_res.0.6\"\n",
    "DimPlot(EC_Endo_cells, reduction = \"umap\", group.by = \"SCT_snn_res.0.6\", label = TRUE, repel = TRUE, label.size = 6)\n",
    "DimPlot(EC_Endo_cells, reduction = \"umap\", label = TRUE, repel = TRUE, label.size = 6)"
   ]
  },
  {
   "cell_type": "code",
   "execution_count": null,
   "metadata": {
    "vscode": {
     "languageId": "r"
    }
   },
   "outputs": [],
   "source": [
    "EC_Endo_cells_markers <- FindAllMarkers(EC_Endo_cells, only.pos = TRUE, min.pct = 0.25, logfc.threshold = 0.25)\n",
    "EC_Endo_cells_markers %>% head\n",
    "EC_Endo_cells_markers %>% group_by(cluster) %>% top_n(n = 5, wt = avg_log2FC) %>% ungroup() %>% arrange(cluster, avg_log2FC) %>% head(20)\n",
    "EC_Endo_cells_markers %>% group_by(cluster) %>% arrange(cluster, desc(avg_log2FC)) %>% write.csv(file = \"results_seurat/EC_Endo_cells_markers.csv\")"
   ]
  },
  {
   "cell_type": "code",
   "execution_count": null,
   "metadata": {
    "vscode": {
     "languageId": "r"
    }
   },
   "outputs": [],
   "source": [
    "FeaturePlot(EC_Endo_cells, features = c(\"notch1b\"), label=TRUE, reduction = \"umap\", label.size = 6)\n",
    "VlnPlot(EC_Endo_cells, features = c(\"notch1b\"), split.by = \"condition\")"
   ]
  },
  {
   "cell_type": "code",
   "execution_count": null,
   "metadata": {
    "vscode": {
     "languageId": "r"
    }
   },
   "outputs": [],
   "source": [
    "# render the plot to be bigger\n",
    "# options(repr.plot.width=18, repr.plot.height=32)\n",
    "# make a heatmap usingd DoHeatmap using the markers mentioned above\n",
    "DoHeatmap(object = EC_Endo_cells, features = c(FB, VF, EC_apln, EC_lyve1, EC_plvapb, CM_dediff, CM_atrium, CM_ventricle, encar_endo_atrium, encar_frzb, encar_endo_ventricle))\n",
    "# options(repr.plot.width=12, repr.plot.height=12)\n",
    "DoHeatmap(object = EC_Endo_cells, features = c(VF, valve_markers_nat))\n",
    "options(repr.plot.width=12, repr.plot.height=12)"
   ]
  },
  {
   "cell_type": "code",
   "execution_count": null,
   "metadata": {
    "vscode": {
     "languageId": "r"
    }
   },
   "outputs": [],
   "source": [
    "DoHeatmap(object = EC_Endo_cells, features = c(VF, valve_markers_nat, \"spns1\", \"spns2\"), group.by = \"condition\")"
   ]
  },
  {
   "cell_type": "code",
   "execution_count": null,
   "metadata": {
    "vscode": {
     "languageId": "r"
    }
   },
   "outputs": [],
   "source": [
    "DotPlot(object = EC_Endo_cells, features = unique(c(VF, valve_markers_nat, \"spns1\", \"spns2\")), group.by = \"SCT_snn_res.0.6\", split.by = \"condition\")+ RotatedAxis()\n",
    "# VlnPlot(object = combined_sct, features = genes_to_annotate, stack = TRUE, group.by = \"integrated_snn_res.0.4\") + NoLegend()"
   ]
  },
  {
   "cell_type": "code",
   "execution_count": null,
   "metadata": {
    "vscode": {
     "languageId": "r"
    }
   },
   "outputs": [],
   "source": [
    "EC_Endo_cells@meta.data$EC_identity <- NULL\n",
    "EC_Endo_cells@meta.data$EC_identity[EC_Endo_cells@meta.data$`SCT_snn_res.0.6`==0] <- \"EC_1\"\n",
    "EC_Endo_cells@meta.data$EC_identity[EC_Endo_cells@meta.data$`SCT_snn_res.0.6`==1] <- \"EC_2\"\n",
    "EC_Endo_cells@meta.data$EC_identity[EC_Endo_cells@meta.data$`SCT_snn_res.0.6`==2] <- \"Valve_cells\"\n",
    "EC_Endo_cells@meta.data$EC_identity[EC_Endo_cells@meta.data$`SCT_snn_res.0.6`==3] <- \"EC_3\"\n",
    "EC_Endo_cells@meta.data$EC_identity[EC_Endo_cells@meta.data$`SCT_snn_res.0.6`==4] <- \"EC_4\"\n",
    "\n",
    "head(EC_Endo_cells@meta.data)\n",
    "\n",
    "DimPlot(EC_Endo_cells, group.by = \"EC_identity\", label = TRUE, repel = TRUE, label.size = 6)"
   ]
  },
  {
   "cell_type": "code",
   "execution_count": null,
   "metadata": {
    "vscode": {
     "languageId": "r"
    }
   },
   "outputs": [],
   "source": [
    "table(EC_Endo_cells@meta.data$condition)\n",
    "table(EC_Endo_cells@meta.data$condition, EC_Endo_cells@meta.data$`EC_identity`)"
   ]
  },
  {
   "cell_type": "code",
   "execution_count": 13,
   "metadata": {
    "vscode": {
     "languageId": "r"
    }
   },
   "outputs": [],
   "source": [
    "Idents(EC_Endo_cells) <- \"EC_identity\""
   ]
  },
  {
   "cell_type": "code",
   "execution_count": null,
   "metadata": {
    "vscode": {
     "languageId": "r"
    }
   },
   "outputs": [],
   "source": [
    "\n",
    "DefaultAssay(EC_Endo_cells) = \"RNA\"\n",
    "DEG_Libra_edger_lrt_broad_EC_endo <- run_de(input = EC_Endo_cells, meta=meta, replicate_col = \"replicate\", cell_type_col = \"EC_identity\",\n",
    "       label_col = \"condition\",  n_threads = 8)\n",
    "DefaultAssay(EC_Endo_cells)  <- \"integrated\""
   ]
  },
  {
   "cell_type": "code",
   "execution_count": null,
   "metadata": {
    "vscode": {
     "languageId": "r"
    }
   },
   "outputs": [],
   "source": [
    "DEG_Libra_edger_lrt_broad_EC_endo <- DEG_Libra_edger_lrt_broad_EC_endo %>% group_by(cell_type) %>% arrange(desc(abs(avg_logFC)),.by_group = TRUE, p_val_adj)\n",
    "DEG_Libra_edger_lrt_broad_EC_endo%>% head\n",
    "write.csv(DEG_Libra_edger_lrt_broad_EC_endo, \"results_seurat/mut_vs_sib_libra_EdgeR_Lrt_broad_mt_removed_EC_endo.csv\")"
   ]
  },
  {
   "attachments": {},
   "cell_type": "markdown",
   "metadata": {},
   "source": [
    "## sub cluster FBs"
   ]
  },
  {
   "cell_type": "code",
   "execution_count": null,
   "metadata": {
    "vscode": {
     "languageId": "r"
    }
   },
   "outputs": [],
   "source": [
    "FB_cells <- subset(combined_sct, subset = cell_type == \"FB_1\" | cell_type == \"FB_2\" )\n",
    "FB_cells\n",
    "FB_cells <- SCTransform(FB_cells, verbose = FALSE)\n",
    "FB_cells <- RunPCA(FB_cells, verbose = FALSE, npcs = 50)\n",
    "ElbowPlot(FB_cells,ndims = 50)"
   ]
  },
  {
   "cell_type": "code",
   "execution_count": null,
   "metadata": {
    "vscode": {
     "languageId": "r"
    }
   },
   "outputs": [],
   "source": [
    "FB_cells <- RunUMAP(FB_cells, dims = 1:50)\n",
    "FB_cells <- FindNeighbors(object = FB_cells)\n",
    "FB_cells <- FindClusters(FB_cells, resolution = c(0.2, 0.4, 0.6, 0.8, 1.0, 1.2))"
   ]
  },
  {
   "cell_type": "code",
   "execution_count": null,
   "metadata": {
    "vscode": {
     "languageId": "r"
    }
   },
   "outputs": [],
   "source": [
    "DimPlot(FB_cells, reduction = \"umap\", group.by = \"orig.ident\", label = TRUE, repel = TRUE)\n"
   ]
  },
  {
   "cell_type": "code",
   "execution_count": null,
   "metadata": {
    "vscode": {
     "languageId": "r"
    }
   },
   "outputs": [],
   "source": [
    "DimPlot(FB_cells, reduction = \"umap\", group.by = \"SCT_snn_res.0.2\", label = TRUE, repel = TRUE, label.size = 6)\n",
    "DimPlot(FB_cells, reduction = \"umap\", group.by = \"SCT_snn_res.0.4\", label = TRUE, repel = TRUE, label.size = 6)\n",
    "DimPlot(FB_cells, reduction = \"umap\", group.by = \"SCT_snn_res.0.6\", label = TRUE, repel = TRUE, label.size = 6)\n",
    "DimPlot(FB_cells, reduction = \"umap\", group.by = \"SCT_snn_res.0.8\", label = TRUE, repel = TRUE, label.size = 6)\n",
    "DimPlot(FB_cells, reduction = \"umap\", group.by = \"SCT_snn_res.1\", label = TRUE, repel = TRUE, label.size = 6)\n",
    "DimPlot(FB_cells, reduction = \"umap\", group.by = \"SCT_snn_res.1.2\", label = TRUE, repel = TRUE, label.size = 6)"
   ]
  },
  {
   "cell_type": "code",
   "execution_count": null,
   "metadata": {
    "vscode": {
     "languageId": "r"
    }
   },
   "outputs": [],
   "source": [
    "Idents(FB_cells) <- \"SCT_snn_res.0.4\"\n",
    "DimPlot(FB_cells, reduction = \"umap\", group.by = \"SCT_snn_res.0.4\", label = TRUE, repel = TRUE, label.size = 6)\n",
    "DimPlot(FB_cells, reduction = \"umap\", label = TRUE, repel = TRUE, label.size = 6)"
   ]
  },
  {
   "cell_type": "code",
   "execution_count": null,
   "metadata": {
    "vscode": {
     "languageId": "r"
    }
   },
   "outputs": [],
   "source": [
    "FB_cells_markers <- FindAllMarkers(FB_cells, only.pos = TRUE, min.pct = 0.25, logfc.threshold = 0.25)\n",
    "FB_cells_markers %>% head\n",
    "FB_cells_markers %>% group_by(cluster) %>% top_n(n = 5, wt = avg_log2FC) %>% ungroup() %>% arrange(cluster, avg_log2FC) %>% head(20)\n",
    "FB_cells_markers %>% group_by(cluster) %>% arrange(cluster, desc(avg_log2FC)) %>% write.csv(file = \"results_seurat/FB_cells_markers.csv\")"
   ]
  },
  {
   "cell_type": "code",
   "execution_count": null,
   "metadata": {
    "vscode": {
     "languageId": "r"
    }
   },
   "outputs": [],
   "source": [
    "FeaturePlot(FB_cells, features = c(\"notch1b\"), label=TRUE, reduction = \"umap\", label.size = 6)\n",
    "VlnPlot(FB_cells, features = c(\"notch1b\"), split.by = \"condition\")"
   ]
  },
  {
   "cell_type": "code",
   "execution_count": null,
   "metadata": {
    "vscode": {
     "languageId": "r"
    }
   },
   "outputs": [],
   "source": [
    "table(FB_cells@meta.data$condition)\n",
    "table(FB_cells@meta.data$condition, FB_cells@meta.data$`SCT_snn_res.0.4`)"
   ]
  },
  {
   "cell_type": "code",
   "execution_count": null,
   "metadata": {
    "vscode": {
     "languageId": "r"
    }
   },
   "outputs": [],
   "source": [
    "\n",
    "DefaultAssay(FB_cells) = \"RNA\"\n",
    "DEG_Libra_edger_lrt_broad_FB <- run_de(input = FB_cells, meta=meta, replicate_col = \"replicate\", cell_type_col = \"SCT_snn_res.0.4\",\n",
    "       label_col = \"condition\",  n_threads = 8)\n",
    "DefaultAssay(FB_cells)  <- \"integrated\""
   ]
  },
  {
   "cell_type": "code",
   "execution_count": null,
   "metadata": {
    "vscode": {
     "languageId": "r"
    }
   },
   "outputs": [],
   "source": []
  },
  {
   "attachments": {},
   "cell_type": "markdown",
   "metadata": {},
   "source": [
    "## Transfer labels from different subclusters to the main clusters"
   ]
  },
  {
   "cell_type": "code",
   "execution_count": null,
   "metadata": {
    "vscode": {
     "languageId": "r"
    }
   },
   "outputs": [],
   "source": [
    "combined_sct@meta.data$cell_name <- rownames(combined_sct@meta.data)\n",
    "combined_sct@meta.data %>% head()"
   ]
  },
  {
   "cell_type": "code",
   "execution_count": null,
   "metadata": {
    "vscode": {
     "languageId": "r"
    }
   },
   "outputs": [],
   "source": [
    "EC_Endo_cells@meta.data$cell_name  <- rownames(EC_Endo_cells@meta.data)\n",
    "EC_Endo_cells %>% head()"
   ]
  },
  {
   "cell_type": "code",
   "execution_count": null,
   "metadata": {
    "vscode": {
     "languageId": "r"
    }
   },
   "outputs": [],
   "source": [
    "EC_Endo_cells@meta.data[,c(\"cell_name\", \"EC_identity\")] %>% head"
   ]
  },
  {
   "cell_type": "code",
   "execution_count": null,
   "metadata": {
    "vscode": {
     "languageId": "r"
    }
   },
   "outputs": [],
   "source": [
    "DimPlot(EC_Endo_cells, label = TRUE)"
   ]
  },
  {
   "cell_type": "code",
   "execution_count": null,
   "metadata": {
    "vscode": {
     "languageId": "r"
    }
   },
   "outputs": [],
   "source": [
    "combined_sct@meta.data <- combined_sct@meta.data[,!colnames(combined_sct@meta.data) %in% c('EC_identity.x','EC_identity.y','EC_identity.x','EC_identity.y','cell_type_EC')]\n",
    "combined_sct@meta.data %>% names()"
   ]
  },
  {
   "cell_type": "code",
   "execution_count": null,
   "metadata": {
    "vscode": {
     "languageId": "r"
    }
   },
   "outputs": [],
   "source": [
    "combined_sct@meta.data <- merge(combined_sct@meta.data, EC_Endo_cells@meta.data[,c(\"cell_name\", \"EC_identity\")], by = \"cell_name\", all.x = TRUE) \n",
    "rownames(combined_sct@meta.data) <- combined_sct@meta.data$cell_name\n",
    "combined_sct@meta.data %>% head"
   ]
  },
  {
   "cell_type": "code",
   "execution_count": null,
   "metadata": {
    "vscode": {
     "languageId": "r"
    }
   },
   "outputs": [],
   "source": [
    "# replace cell_type in combined_sct@meta.data dataframe with entried of EC identity wherever EC_identiy is not NA\n",
    "combined_sct@meta.data$cell_type_EC <- combined_sct@meta.data$cell_type\n",
    "combined_sct@meta.data$cell_type_EC[!is.na(combined_sct@meta.data$EC_identity)] <- combined_sct@meta.data$EC_identity[!is.na(combined_sct@meta.data$EC_identity)]\n",
    "combined_sct@meta.data %>% head\n",
    "combined_sct@meta.data$cell_type %>% unique()\n",
    "combined_sct@meta.data[combined_sct@meta.data$cell_type==\"EC_Endocardium\",] %>% head(10)\n",
    "combined_sct@meta.data$cell_type_EC %>% unique()"
   ]
  },
  {
   "cell_type": "code",
   "execution_count": 48,
   "metadata": {
    "vscode": {
     "languageId": "r"
    }
   },
   "outputs": [],
   "source": [
    "combined_sct@meta.data$cell_type_EC[(combined_sct@meta.data$cell_type_EC)== \"CM_1\"] <- \"Ventricle\"\n",
    "combined_sct@meta.data$cell_type_EC[(combined_sct@meta.data$cell_type_EC)== \"CM_2\"] <- \"Atrium\"\n",
    "combined_sct@meta.data$cell_type_EC[(combined_sct@meta.data$cell_type_EC)== \"CM_3\"] <- \"AV_canal\"\n",
    "combined_sct@meta.data$cell_type_EC[(combined_sct@meta.data$cell_type_EC)== \"FB_2\"] <- \"SMC_BA\"\n",
    "combined_sct@meta.data$cell_type_EC[(combined_sct@meta.data$cell_type_EC)== \"Neurons\"] <- \"unknown_1\"\n",
    "combined_sct@meta.data$cell_type_EC[(combined_sct@meta.data$cell_type_EC)== \"Neurons?\"] <- \"Neurons\"\n"
   ]
  },
  {
   "cell_type": "code",
   "execution_count": 68,
   "metadata": {
    "vscode": {
     "languageId": "r"
    }
   },
   "outputs": [],
   "source": [
    "combined_sct@meta.data$broad_class <- combined_sct@meta.data$cell_type_EC"
   ]
  },
  {
   "cell_type": "code",
   "execution_count": 70,
   "metadata": {
    "vscode": {
     "languageId": "r"
    }
   },
   "outputs": [],
   "source": [
    "combined_sct@meta.data$broad_class[(combined_sct@meta.data$cell_type_EC)== \"Atrium\"] <- \"Myocardial_cells\"\n",
    "combined_sct@meta.data$broad_class[(combined_sct@meta.data$cell_type_EC)== \"AV_canal\"] <- \"Myocardial_cells\"\n",
    "combined_sct@meta.data$broad_class[(combined_sct@meta.data$cell_type_EC)== \"EC_1\"] <- \"Endocardial_cells\"\n",
    "combined_sct@meta.data$broad_class[(combined_sct@meta.data$cell_type_EC)== \"EC_2\"] <- \"Endocardial_cells\"\n",
    "combined_sct@meta.data$broad_class[(combined_sct@meta.data$cell_type_EC)== \"EC_3\"] <- \"Endocardial_cells\"\n",
    "combined_sct@meta.data$broad_class[(combined_sct@meta.data$cell_type_EC)== \"EC_4\"] <- \"Endocardial_cells\"\n",
    "combined_sct@meta.data$broad_class[(combined_sct@meta.data$cell_type_EC)== \"epicardium\"] <- \"Epithelial_cells\"\n",
    "combined_sct@meta.data$broad_class[(combined_sct@meta.data$cell_type_EC)== \"epithelial cells\"] <- \"Epithelial_cells\"\n",
    "combined_sct@meta.data$broad_class[(combined_sct@meta.data$cell_type_EC)== \"Erythrocytes\"] <- \"Erythrocytes\"\n",
    "combined_sct@meta.data$broad_class[(combined_sct@meta.data$cell_type_EC)== \"FB_1\"] <- \"Fibroblast_cells\"\n",
    "combined_sct@meta.data$broad_class[(combined_sct@meta.data$cell_type_EC)== \"Immune cells\"] <- \"Immune_cells\"\n",
    "combined_sct@meta.data$broad_class[(combined_sct@meta.data$cell_type_EC)== \"Neurons\"] <- \"Neuronal_cells\"\n",
    "combined_sct@meta.data$broad_class[(combined_sct@meta.data$cell_type_EC)== \"Skeletal muscle\"] <- \"Muscle_cells\"\n",
    "combined_sct@meta.data$broad_class[(combined_sct@meta.data$cell_type_EC)== \"SMC_BA\"] <- \"Muscle_cells\"\n",
    "combined_sct@meta.data$broad_class[(combined_sct@meta.data$cell_type_EC)== \"unknown_1\"] <- \"Unknown\"\n",
    "combined_sct@meta.data$broad_class[(combined_sct@meta.data$cell_type_EC)== \"unknown_2\"] <- \"Unknown\"\n",
    "combined_sct@meta.data$broad_class[(combined_sct@meta.data$cell_type_EC)== \"Valve_cells\"] <- \"Endocardial_cells\"\n",
    "combined_sct@meta.data$broad_class[(combined_sct@meta.data$cell_type_EC)== \"Ventricle\"] <- \"Myocardial_cells\""
   ]
  },
  {
   "cell_type": "code",
   "execution_count": 72,
   "metadata": {
    "vscode": {
     "languageId": "r"
    }
   },
   "outputs": [],
   "source": [
    "combined_sct@meta.data$cell_type_EC[(combined_sct@meta.data$cell_type_EC)== \"Atrium\"] <- \"CM_Atrium\"\n",
    "combined_sct@meta.data$cell_type_EC[(combined_sct@meta.data$cell_type_EC)== \"AV_canal\"] <- \"CM_AV_canal\"\n",
    "combined_sct@meta.data$cell_type_EC[(combined_sct@meta.data$cell_type_EC)== \"EC_1\"] <- \"EnC_1\"\n",
    "combined_sct@meta.data$cell_type_EC[(combined_sct@meta.data$cell_type_EC)== \"EC_2\"] <- \"EnC_2\"\n",
    "combined_sct@meta.data$cell_type_EC[(combined_sct@meta.data$cell_type_EC)== \"EC_3\"] <- \"EnC_3\"\n",
    "combined_sct@meta.data$cell_type_EC[(combined_sct@meta.data$cell_type_EC)== \"EC_4\"] <- \"EnC_4\"\n",
    "combined_sct@meta.data$cell_type_EC[(combined_sct@meta.data$cell_type_EC)== \"epicardium\"] <- \"Ep_epicardium\"\n",
    "combined_sct@meta.data$cell_type_EC[(combined_sct@meta.data$cell_type_EC)== \"epithelial cells\"] <- \"Ep_epithelial cells\"\n",
    "combined_sct@meta.data$cell_type_EC[(combined_sct@meta.data$cell_type_EC)== \"Erythrocytes\"] <- \"Erythrocytes\"\n",
    "combined_sct@meta.data$cell_type_EC[(combined_sct@meta.data$cell_type_EC)== \"FB_1\"] <- \"FB\"\n",
    "combined_sct@meta.data$cell_type_EC[(combined_sct@meta.data$cell_type_EC)== \"Immune cells\"] <- \"Immune_cells\"\n",
    "combined_sct@meta.data$cell_type_EC[(combined_sct@meta.data$cell_type_EC)== \"Neurons\"] <- \"Neurons\"\n",
    "combined_sct@meta.data$cell_type_EC[(combined_sct@meta.data$cell_type_EC)== \"Skeletal muscle\"] <- \"Mus_Skeletal_muscle\"\n",
    "combined_sct@meta.data$cell_type_EC[(combined_sct@meta.data$cell_type_EC)== \"SMC_BA\"] <- \"Mus_SMC_BA\"\n",
    "combined_sct@meta.data$cell_type_EC[(combined_sct@meta.data$cell_type_EC)== \"unknown_1\"] <- \"unknown_1\"\n",
    "combined_sct@meta.data$cell_type_EC[(combined_sct@meta.data$cell_type_EC)== \"unknown_2\"] <- \"unknown_2\"\n",
    "combined_sct@meta.data$cell_type_EC[(combined_sct@meta.data$cell_type_EC)== \"Valve_cells\"] <- \"EnC_Valve_cells\"\n",
    "combined_sct@meta.data$cell_type_EC[(combined_sct@meta.data$cell_type_EC)== \"Ventricle\"] <- \"CM_Ventricle\"\n"
   ]
  },
  {
   "cell_type": "code",
   "execution_count": null,
   "metadata": {
    "vscode": {
     "languageId": "r"
    }
   },
   "outputs": [],
   "source": [
    "DimPlot(combined_sct, reduction = \"umap\", group.by = \"cell_type_EC\", label = TRUE, repel = TRUE, label.size = 6)"
   ]
  },
  {
   "cell_type": "code",
   "execution_count": 74,
   "metadata": {
    "vscode": {
     "languageId": "r"
    }
   },
   "outputs": [],
   "source": [
    "# change order of combined_sct@meta.data to keep sib first then mutant\n",
    "combined_sct@meta.data$condition <- factor(combined_sct@meta.data$condition,levels = c(\"sib\", \"mut\"))\n",
    "combined_sct@meta.data$orig.ident <- factor(combined_sct@meta.data$orig.ident,levels = c(\"sib_1\",\"sib_2\", \"mut_1\", \"mut_2\"))"
   ]
  },
  {
   "cell_type": "code",
   "execution_count": null,
   "metadata": {
    "vscode": {
     "languageId": "r"
    }
   },
   "outputs": [],
   "source": [
    "unique(combined_sct@meta.data$orig.ident)\n",
    "unique(combined_sct@meta.data$condition)"
   ]
  },
  {
   "cell_type": "code",
   "execution_count": 76,
   "metadata": {
    "vscode": {
     "languageId": "r"
    }
   },
   "outputs": [],
   "source": [
    "combined_sct@meta.data<- combined_sct@meta.data[order(match(combined_sct@meta.data$cell_name,names(combined_sct@active.ident))),]"
   ]
  },
  {
   "cell_type": "code",
   "execution_count": null,
   "metadata": {
    "vscode": {
     "languageId": "r"
    }
   },
   "outputs": [],
   "source": [
    "identical(combined_sct@meta.data$cell_name,names(combined_sct@active.ident))"
   ]
  },
  {
   "cell_type": "code",
   "execution_count": 80,
   "metadata": {
    "vscode": {
     "languageId": "r"
    }
   },
   "outputs": [],
   "source": [
    "Idents(combined_sct) <- \"cell_type_EC\""
   ]
  },
  {
   "cell_type": "code",
   "execution_count": null,
   "metadata": {
    "vscode": {
     "languageId": "r"
    }
   },
   "outputs": [],
   "source": [
    "DimPlot( combined_sct, label = TRUE, repel = TRUE, label.size = 6)"
   ]
  },
  {
   "cell_type": "code",
   "execution_count": null,
   "metadata": {
    "vscode": {
     "languageId": "r"
    }
   },
   "outputs": [],
   "source": [
    "DimPlot( combined_sct, group.by = \"broad_class\",label = TRUE, repel = TRUE, label.size = 6)"
   ]
  },
  {
   "cell_type": "code",
   "execution_count": 83,
   "metadata": {
    "vscode": {
     "languageId": "r"
    }
   },
   "outputs": [],
   "source": [
    "# save seurat object for shiny app\n",
    "saveRDS(combined_sct, \"results_seurat/combined_sct.rds\")"
   ]
  },
  {
   "cell_type": "markdown",
   "metadata": {},
   "source": [
    "# Markers for each cluster and subclusters after cell assignment"
   ]
  },
  {
   "cell_type": "code",
   "execution_count": null,
   "metadata": {
    "vscode": {
     "languageId": "r"
    }
   },
   "outputs": [],
   "source": [
    "# Find markers with all the labels\n",
    "all_markers_cell_assigned <- FindAllMarkers(combined_sct, only.pos = TRUE, min.pct = 0.25, logfc.threshold = 0.25)\n",
    "all_markers_cell_assigned %>% head\n",
    "# arrange by descending log2fc and cell name and write to csv file\n",
    "all_markers_cell_assigned %>% arrange(cluster, desc(avg_log2FC)) %>% write.csv(\"results_seurat/cell_assigned/all_markers_cell_assigned.csv\")"
   ]
  },
  {
   "cell_type": "code",
   "execution_count": null,
   "metadata": {
    "vscode": {
     "languageId": "r"
    }
   },
   "outputs": [],
   "source": [
    "all_markers_cell_assigned_mouse <- merge(all_markers_cell_assigned, Mouse_Genes[!duplicated(Mouse_Genes$ZFIN.symbol),], by.x = \"gene\", by.y = \"ZFIN.symbol\", all.x=TRUE)\n",
    "head(all_markers_cell_assigned_mouse)"
   ]
  },
  {
   "cell_type": "code",
   "execution_count": 86,
   "metadata": {
    "vscode": {
     "languageId": "r"
    }
   },
   "outputs": [],
   "source": [
    "all_markers_cell_assigned_mouse %>% arrange(cluster, desc(abs(avg_log2FC))) %>% write.csv(\"results_seurat/cell_assigned/all_markers_cell_assigned_mouse.csv\")"
   ]
  },
  {
   "cell_type": "code",
   "execution_count": null,
   "metadata": {
    "vscode": {
     "languageId": "r"
    }
   },
   "outputs": [],
   "source": [
    "# make plot bigger\n",
    "options(repr.plot.width=24, repr.plot.height=36)\n",
    "\n",
    "all_markers_cell_assigned %>%\n",
    "    group_by(cluster) %>%\n",
    "    top_n(n = 20, wt = avg_log2FC) -> top10\n",
    "dev.copy(pdf, \"results_seurat/cell_assigned/all_markers_cell_assigned.pdf\", width = 24, height = 36)\n",
    "DoHeatmap(combined_sct, features = top10$gene) + NoLegend()\n",
    "dev.off()\n",
    "# make plots small again\n",
    "options(repr.plot.width=12, repr.plot.height=12)"
   ]
  },
  {
   "cell_type": "markdown",
   "metadata": {},
   "source": [
    "# Differential Expression Analysis using Libra"
   ]
  },
  {
   "cell_type": "code",
   "execution_count": null,
   "metadata": {
    "vscode": {
     "languageId": "r"
    }
   },
   "outputs": [],
   "source": [
    "DefaultAssay(combined_sct) = \"RNA\"\n",
    "DEG_Libra_edger_lrt_cell_assigned<- run_de(input = combined_sct, meta=meta, replicate_col = \"replicate\", cell_type_col = \"cell_type_EC\",\n",
    "       label_col = \"condition\",  n_threads = 8)\n",
    "DefaultAssay(combined_sct)  <- \"integrated\""
   ]
  },
  {
   "cell_type": "code",
   "execution_count": null,
   "metadata": {
    "vscode": {
     "languageId": "r"
    }
   },
   "outputs": [],
   "source": [
    "DEG_Libra_edger_lrt_cell_assigned <- DEG_Libra_edger_lrt_cell_assigned %>% group_by(cell_type) %>% arrange(desc(abs(avg_logFC)),.by_group = TRUE, p_val_adj)\n",
    "DEG_Libra_edger_lrt_cell_assigned%>% head\n",
    "write.csv(DEG_Libra_edger_lrt_cell_assigned, \"results_seurat/cell_assigned/mut_vs_sib_libra_EdgeR_Lrt_cell_assigned.csv\")"
   ]
  },
  {
   "cell_type": "code",
   "execution_count": null,
   "metadata": {
    "vscode": {
     "languageId": "r"
    }
   },
   "outputs": [],
   "source": [
    "# plot heatmaps for significant genes for each cell type with padj < 0.05\n",
    "cell_type <- DEG_Libra_edger_lrt_cell_assigned$cell_type %>% unique %>% as.character %>% sort\n",
    "cell_type\n",
    "\n",
    "for (i in 1:length(cell_type)){\n",
    "    \n",
    "genes_to_plot <- DEG_Libra_edger_lrt_cell_assigned$gene[DEG_Libra_edger_lrt_cell_assigned$p_val_adj<=0.05 & DEG_Libra_edger_lrt_cell_assigned$cell_type==cell_type[i]]\n",
    "print(paste0(\"genes significant in \",cell_type[i], \" are:\"))\n",
    "genes_to_plot %>% print\n",
    "\n",
    "if(length(genes_to_plot)==0){\n",
    "    print(paste0(\"no significant genes in cluster \", cell_type[i]))\n",
    "    next\n",
    "}\n",
    "\n",
    "heatmaps <- DoHeatmap(subset(combined_sct, idents = cell_type[i]),features = genes_to_plot,group.by= \"condition\", assay = \"RNA\",slot = \"counts\" )+ ggtitle(paste0(cell_type[i], \" significant genes\"))\n",
    "print(heatmaps)\n",
    "dev.copy(\n",
    "    pdf,\n",
    "    file = paste0(\"results_seurat/cell_assigned/heatmaps_significant_genes_mut_vs_sib/\",cell_type[i],\"_heatmap_significant_genes_mut_vs_sib_edgerlrt_cell_assigned.pdf\"),\n",
    "    width = 10,\n",
    "    height = 10\n",
    "    )\n",
    "    dev.off ()\n",
    "}"
   ]
  },
  {
   "cell_type": "code",
   "execution_count": null,
   "metadata": {
    "vscode": {
     "languageId": "r"
    }
   },
   "outputs": [],
   "source": [
    "# plot heatmaps for significant genes for each cell type with pval<=0.05\n",
    "cell_type <- DEG_Libra_edger_lrt_cell_assigned$cell_type %>% unique %>% as.character %>% sort\n",
    "cell_type\n",
    "\n",
    "for (i in 1:length(cell_type)){\n",
    "    \n",
    "genes_to_plot <- DEG_Libra_edger_lrt_cell_assigned$gene[DEG_Libra_edger_lrt_cell_assigned$p_val<=0.05 & DEG_Libra_edger_lrt_cell_assigned$cell_type==cell_type[i]]\n",
    "print(paste0(\"genes significant (\", length(genes_to_plot),\") in \",cell_type[i], \" are (printing top 20):\" ))\n",
    "genes_to_plot %>%  head(20) %>% print\n",
    "\n",
    "if(length(genes_to_plot)==0){\n",
    "    print(paste0(\"no significant genes in cluster \", cell_type[i]))\n",
    "    next\n",
    "}\n",
    "\n",
    "heatmaps <- DoHeatmap(subset(combined_sct, idents = cell_type[i]),features = genes_to_plot,group.by= \"condition\", assay = \"RNA\",slot = \"counts\" )+ ggtitle(paste0(cell_type[i], \" significant genes\"))\n",
    "print(heatmaps)\n",
    "dev.copy(\n",
    "    pdf,\n",
    "    file = paste0(\"results_seurat/cell_assigned/heatmaps_significant_genes_mut_vs_sib_pva05/\",cell_type[i],\"_heatmap_significant_genes_mut_vs_sib_edgerlrt_pval05_cell_assigned.pdf\"),\n",
    "    width = 10,\n",
    "    height = 10\n",
    "    )\n",
    "    dev.off ()\n",
    "}"
   ]
  },
  {
   "cell_type": "code",
   "execution_count": null,
   "metadata": {
    "vscode": {
     "languageId": "r"
    }
   },
   "outputs": [],
   "source": [
    "# merge with Mouse genes\n",
    "DEG_Libra_edger_lrt_cell_assigned_mouse <- merge(DEG_Libra_edger_lrt_cell_assigned, Mouse_Genes, by.x = \"gene\", by.y = \"ZFIN.symbol\", all.x = TRUE)\n",
    "DEG_Libra_edger_lrt_cell_assigned_mouse  <- DEG_Libra_edger_lrt_cell_assigned_mouse %>% arrange(cell_type, p_val_adj, desc(abs(avg_logFC)))\n",
    "DEG_Libra_edger_lrt_cell_assigned_mouse %>% write.csv(\"results_seurat/cell_assigned/mut_vs_sib_libra_EdgeR_Lrt_cell_assigned_mouse.csv\")\n",
    "\n",
    "DEG_Libra_edger_lrt_cell_assigned_mouse <- merge(DEG_Libra_edger_lrt_cell_assigned, Mouse_Genes[!duplicated(Mouse_Genes$ZFIN.symbol),], by.x = \"gene\", by.y = \"ZFIN.symbol\", all.x = TRUE)\n",
    "DEG_Libra_edger_lrt_cell_assigned_mouse  <- DEG_Libra_edger_lrt_cell_assigned_mouse %>% arrange(cell_type, p_val_adj, desc(abs(avg_logFC)))\n",
    "DEG_Libra_edger_lrt_cell_assigned_mouse %>% head"
   ]
  },
  {
   "cell_type": "markdown",
   "metadata": {},
   "source": [
    "# Number of cells in each cluster"
   ]
  },
  {
   "cell_type": "code",
   "execution_count": null,
   "metadata": {
    "vscode": {
     "languageId": "r"
    }
   },
   "outputs": [],
   "source": [
    "combined_sct@meta.data$condition <- NULL\n",
    "combined_sct@meta.data$condition[grepl(\"sib\",combined_sct@meta.data$orig.ident)] <- \"sib\"\n",
    "combined_sct@meta.data$condition[grepl(\"mut\",combined_sct@meta.data$orig.ident)] <- \"mut\"\n",
    "combined_sct@meta.data$condition %>% unique()"
   ]
  },
  {
   "cell_type": "code",
   "execution_count": null,
   "metadata": {
    "vscode": {
     "languageId": "r"
    }
   },
   "outputs": [],
   "source": [
    "table(combined_sct@meta.data$cell_type, combined_sct@meta.data$orig.ident)\n",
    "table(combined_sct@meta.data$cell_type, combined_sct@meta.data$condition)"
   ]
  },
  {
   "cell_type": "code",
   "execution_count": null,
   "metadata": {
    "vscode": {
     "languageId": "r"
    }
   },
   "outputs": [],
   "source": [
    "cell_type_numbers <- table(combined_sct@meta.data$cell_type_EC, combined_sct@meta.data$orig.ident)\n",
    "cell_type_numbers <- as.data.frame(cell_type_numbers)\n",
    "cell_type_numbers %>% head\n",
    "cell_type_numbers <- cell_type_numbers %>% dplyr::rename(cell_type = Var1, sample_name = Var2)\n",
    "cell_type_numbers$sample_name <- factor(cell_type_numbers$sample_name, levels = c(\"sib_1\",\"sib_2\", \"mut_1\", \"mut_2\"))\n",
    "cell_type_numbers %>% write.csv(\"results_seurat/cell_type_numbers.csv\")\n",
    "cell_type_numbers %>% head"
   ]
  },
  {
   "cell_type": "code",
   "execution_count": null,
   "metadata": {
    "vscode": {
     "languageId": "r"
    }
   },
   "outputs": [],
   "source": [
    "# plot these percentages using ggplot2\n",
    "# save the graph as a pdf file\n",
    "# dev.copy(pdf, \"results_seurat/cell_type_percentages_normalized.pdf\", width = 10, height = 10)\n",
    "ggplot(cell_type_percentages, aes(x = cell_type, y = Freq, fill = sample_name)) +\n",
    "  geom_bar(stat = \"identity\", position = \"fill\") +\n",
    "  theme(axis.text.x = element_text(angle = 90, hjust = 1, vjust = 0.5)) +\n",
    "  labs(x = \"Cell_type\", y = \"Percentage of cells\", fill = \"Sample name\")\n",
    "# dev.off()"
   ]
  },
  {
   "cell_type": "code",
   "execution_count": null,
   "metadata": {
    "vscode": {
     "languageId": "r"
    }
   },
   "outputs": [],
   "source": [
    "# calculate the percentage of cell in each cell type according to condition\n",
    "cell_type_percentages <- prop.table(table(combined_sct@meta.data$cell_type_EC, combined_sct@meta.data$orig.ident))*100\n",
    "cell_type_percentages <- as.data.frame(cell_type_percentages)\n",
    "cell_type_percentages %>% head\n",
    "cell_type_percentages <- cell_type_percentages %>% dplyr::rename(cell_type = Var1, sample_name = Var2)\n",
    "cell_type_percentages$sample_name <- factor(cell_type_percentages$sample_name, levels = c(\"sib_1\",\"sib_2\", \"mut_1\", \"mut_2\"))\n",
    "cell_type_percentages %>% write.csv(\"results_seurat/cell_type_percentages.csv\")\n",
    "cell_type_percentages %>% head\n",
    "\n",
    "# plot these percentages using ggplot2\n",
    "# save the graph as a pdf file\n",
    "dev.copy(pdf, \"results_seurat/cell_type_percentages_normalized.pdf\", width = 10, height = 10)\n",
    "ggplot(cell_type_percentages, aes(x = cell_type, y = Freq, fill = sample_name)) +\n",
    "  geom_bar(stat = \"identity\", position = \"fill\") +\n",
    "  theme(axis.text.x = element_text(angle = 90, hjust = 1, vjust = 0.5)) +\n",
    "  labs(x = \"Cell_type\", y = \"Percentage of cells\", fill = \"Sample name\")\n",
    "dev.off()\n"
   ]
  },
  {
   "cell_type": "code",
   "execution_count": null,
   "metadata": {
    "vscode": {
     "languageId": "r"
    }
   },
   "outputs": [],
   "source": [
    "# calculate the percentage of cell in each cell type according to condition\n",
    "# save the graph as a pdf file\n",
    "dev.copy(pdf, \"results_seurat/cell_type_percentages.pdf\", width = 10, height = 10)\n",
    "ggplot(cell_type_percentages, aes(x = cell_type, y = Freq, fill = sample_name)) +\n",
    "  geom_bar(stat = \"identity\", position = \"dodge\") +\n",
    "  theme(axis.text.x = element_text(angle = 90, hjust = 1, vjust = 0.5)) +\n",
    "  labs(x = \"Cell_type\", y = \"Percentage of cells\", fill = \"Sample name\")\n",
    "dev.off()"
   ]
  },
  {
   "cell_type": "code",
   "execution_count": null,
   "metadata": {
    "vscode": {
     "languageId": "r"
    }
   },
   "outputs": [],
   "source": [
    "cell_type_cond_numbers <- table(combined_sct@meta.data$cell_type_EC, combined_sct@meta.data$condition)\n",
    "cell_type_cond_numbers <- as.data.frame(cell_type_cond_numbers)\n",
    "cell_type_cond_numbers <- cell_type_cond_numbers %>% dplyr::rename(cell_type = Var1, sample_name = Var2)\n",
    "cell_type_cond_numbers$sample_name <- factor(cell_type_cond_numbers$sample_name, levels = c(\"sib\",\"mut\"))\n",
    "cell_type_cond_numbers %>% write.csv(\"results_seurat/cell_type_cond_numbers.csv\")\n",
    "cell_type_cond_numbers"
   ]
  },
  {
   "cell_type": "code",
   "execution_count": null,
   "metadata": {
    "vscode": {
     "languageId": "r"
    }
   },
   "outputs": [],
   "source": [
    "# calculate the percentage of cell in each cell type according to condition\n",
    "cell_type_percentages_cond <- prop.table(table(combined_sct@meta.data$cell_type_EC, combined_sct@meta.data$condition))*100\n",
    "cell_type_percentages_cond <- as.data.frame(cell_type_percentages_cond)\n",
    "cell_type_percentages_cond %>% head\n",
    "cell_type_percentages_cond <- cell_type_percentages_cond %>% dplyr::rename(cell_type = Var1, condition = Var2)\n",
    "cell_type_percentages_cond$condition <- factor(cell_type_percentages_cond$condition, levels = c(\"sib\",\"mut\"))\n",
    "cell_type_percentages_cond %>% write.csv(\"results_seurat/cell_type_percentages_cond.csv\")\n",
    "cell_type_percentages_cond %>% head\n",
    "# plot these percentages using ggplot2\n",
    "# save the graph as a pdf file\n",
    "dev.copy(pdf, \"results_seurat/cell_type_percentages_cond_normalized.pdf\", width = 10, height = 10)\n",
    "ggplot(cell_type_percentages_cond, aes(x = cell_type, y = Freq, fill = condition)) +\n",
    "  geom_bar(stat = \"identity\", position = \"fill\") +\n",
    "  theme(axis.text.x = element_text(angle = 90, hjust = 1, vjust=0.5)) +\n",
    "  labs(x = \"Condition\", y = \"Percentage of cells\", fill = \"Cell type\")\n",
    "  dev.off()"
   ]
  },
  {
   "cell_type": "code",
   "execution_count": null,
   "metadata": {
    "vscode": {
     "languageId": "r"
    }
   },
   "outputs": [],
   "source": [
    "# calculate the percentage of cell in each cell type according to condition\n",
    "# plot these percentages using ggplot2\n",
    "# save the graph as a pdf file\n",
    "dev.copy(pdf, \"results_seurat/cell_type_percentages_cond.pdf\", width = 10, height = 10)\n",
    "ggplot(cell_type_percentages_cond, aes(x = cell_type, y = Freq, fill = condition)) +\n",
    "  geom_bar(stat = \"identity\", position = \"dodge\") +\n",
    "  theme(axis.text.x = element_text(angle = 90, hjust = 1, vjust=0.5)) +\n",
    "  labs(x = \"Condition\", y = \"Percentage of cells\", fill = \"Cell type\")\n",
    "  dev.off()"
   ]
  },
  {
   "cell_type": "markdown",
   "metadata": {},
   "source": [
    "# Pathway analysis for Differential Genes in each cluster"
   ]
  },
  {
   "cell_type": "code",
   "execution_count": null,
   "metadata": {
    "vscode": {
     "languageId": "r"
    }
   },
   "outputs": [],
   "source": [
    "cell_type <- DEG_Libra_edger_lrt_cell_assigned$cell_type %>% unique %>% as.character %>% sort\n",
    "cell_type"
   ]
  },
  {
   "cell_type": "code",
   "execution_count": null,
   "metadata": {
    "vscode": {
     "languageId": "r"
    }
   },
   "outputs": [],
   "source": [
    "DEG_Libra_edger_lrt_cell_assigned_mouse <- merge(DEG_Libra_edger_lrt_cell_assigned, Mouse_Genes[!duplicated(Mouse_Genes$ZFIN.symbol),], by.x = \"gene\", by.y = \"ZFIN.symbol\", all.x = TRUE)\n",
    "DEG_Libra_edger_lrt_cell_assigned_mouse  <- DEG_Libra_edger_lrt_cell_assigned_mouse %>% arrange(cell_type, p_val_adj, desc(abs(avg_logFC)))\n",
    "DEG_Libra_edger_lrt_cell_assigned_mouse %>% head"
   ]
  },
  {
   "cell_type": "code",
   "execution_count": null,
   "metadata": {
    "vscode": {
     "languageId": "r"
    }
   },
   "outputs": [],
   "source": [
    "cell_type <- DEG_Libra_edger_lrt_cell_assigned$cell_type %>% unique %>% as.character %>% sort\n",
    "cell_type"
   ]
  },
  {
   "cell_type": "markdown",
   "metadata": {},
   "source": [
    "## Over representation Analysis"
   ]
  },
  {
   "cell_type": "code",
   "execution_count": null,
   "metadata": {
    "vscode": {
     "languageId": "r"
    }
   },
   "outputs": [],
   "source": [
    "pval_enrich <- 0.2\n",
    "cell_type <- DEG_Libra_edger_lrt_cell_assigned$cell_type %>% unique %>% as.character %>% sort\n",
    "cell_type\n",
    "# Loop through each cell type\n",
    "for(i in cell_type){\n",
    "    # Print message indicating which cell type is being analyzed\n",
    "    message(paste0(\"Molecular function Enrichments for Cell type: \", i))\n",
    "    \n",
    "    # Perform GO enrichment analysis for DEG for the current cell type\n",
    "    compGO_MF_diff <- enrichGO(gene = DEG_Libra_edger_lrt_cell_assigned_mouse$MGI.symbol[DEG_Libra_edger_lrt_cell_assigned_mouse$cell_type==i & DEG_Libra_edger_lrt_cell_assigned_mouse$p_val<=0.05], pvalueCutoff  = pval_enrich,keyType = \"SYMBOL\",\n",
    "                             pAdjustMethod = \"BH\",OrgDb = \"org.Mm.eg.db\", ont = \"MF\")\n",
    "    \n",
    "    # If no enriched pathways are found, print message and move on to next cell type\n",
    "    if(is.null(compGO_MF_diff)){\n",
    "        message(paste0(\"Cell type: \", i, \" done\"))\n",
    "        message(paste0(\"****************************************************************************************\"))\n",
    "        message(paste0(\"\\n\"))\n",
    "        next\n",
    "    }\n",
    "    if(sum(compGO_MF_diff@result$p.adjust<pval_enrich)==0){\n",
    "        message(paste0(\"Cell type: \", i, \" done\"))\n",
    "        message(paste0(\"****************************************************************************************\"))\n",
    "        message(paste0(\"\\n\"))\n",
    "        next\n",
    "    }\n",
    "    \n",
    "    # Generate dotplot of enriched pathways for the current cell type\n",
    "    print(dotplot(compGO_MF_diff, showCategory = 15, title = paste0(\"GO Pathway Enrichment Analysis for DEG \\n Molecular Functions for \",i, \" Cells\"), \n",
    "            font.size = 12)+ scale_colour_viridis(option = \"plasma\", direction = 1))\n",
    "    \n",
    "    # Save dotplot as pdf file\n",
    "    dev.copy(\n",
    "    pdf,\n",
    "    file = paste0(\"results_seurat/cell_assigned/pathways_DEG_pval05/Molecular_function/\",i,\"_GO_MF_pathways_pval05_plasma.pdf\"),\n",
    "    width = 10,\n",
    "    height = 8\n",
    "    )\n",
    "    dev.off ()\n",
    "    \n",
    "    # Convert enriched pathways data to data frame and calculate decimal ratios\n",
    "    compGO_MF_diff_df <- as.data.frame(compGO_MF_diff)\n",
    "    compGO_MF_diff_df$GeneRatio_decimal <- compGO_MF_diff_df$GeneRatio\n",
    "    compGO_MF_diff_df$GeneRatio_decimal <- sapply(compGO_MF_diff_df$GeneRatio_decimal, \n",
    "                                                  function(x) (eval(parse(text = as.character(x)))))\n",
    "    compGO_MF_diff_df$BgRatio_decimal <- compGO_MF_diff_df$BgRatio\n",
    "    compGO_MF_diff_df$BgRatio_decimal <- sapply(compGO_MF_diff_df$BgRatio_decimal, \n",
    "                                                function(x) (eval(parse(text = as.character(x)))))\n",
    "    compGO_MF_diff_df <- compGO_MF_diff_df %>% tidyr::separate_rows(geneID, sep = \"/\", convert = FALSE) %>%\n",
    "      arrange(desc(GeneRatio_decimal))\n",
    "    \n",
    "    # Print the first few rows of the enriched pathways data frame\n",
    "    compGO_MF_diff_df %>% head \n",
    "    \n",
    "    # Save enriched pathways data frame as CSV file\n",
    "    write.csv(compGO_MF_diff_df, paste0(\"results_seurat/cell_assigned/pathways_DEG_pval05/Molecular_function/\",i,\"_GO_MF_pathways_pval05.csv\"))\n",
    "    \n",
    "    # Print message indicating that analysis for the current cell type is complete\n",
    "    message(paste0(\"Cell type: \", i, \" done\"))\n",
    "    message(paste0(\"****************************************************************************************\"))\n",
    "    message(paste0(\"\\n\"))\n",
    "}                                            \n",
    "                                                \n",
    "# Loop through each cell type\n",
    "for(i in cell_type){                           \n",
    "    # Print message indicating which cell type is being processed\n",
    "    message(paste0(\"Cellular component Enrichments for Cell type: \", i))\n",
    "    \n",
    "    # Perform GO enrichment analysis for DEG for cellular components\n",
    "    compGO_CC_diff <- enrichGO(gene = DEG_Libra_edger_lrt_cell_assigned_mouse$MGI.symbol[DEG_Libra_edger_lrt_cell_assigned_mouse$cell_type==i & DEG_Libra_edger_lrt_cell_assigned_mouse$p_val<=0.05], \n",
    "                               pvalueCutoff  = pval_enrich,\n",
    "                               keyType = \"SYMBOL\",\n",
    "                               pAdjustMethod = \"BH\",\n",
    "                               OrgDb = \"org.Mm.eg.db\",\n",
    "                               ont = \"CC\")\n",
    "    \n",
    "    # If there are no enriched pathways, skip to the next cell type\n",
    "    if(is.null(compGO_CC_diff)){\n",
    "        message(paste0(\"Cell type: \", i, \" done\"))\n",
    "        message(paste0(\"****************************************************************************************\"))\n",
    "        message(paste0(\"\\n\"))\n",
    "        next\n",
    "    }\n",
    "    if(sum(compGO_CC_diff@result$p.adjust<pval_enrich)==0){\n",
    "        message(paste0(\"Cell type: \", i, \" done\"))\n",
    "        message(paste0(\"****************************************************************************************\"))\n",
    "        message(paste0(\"\\n\"))\n",
    "        next\n",
    "    }\n",
    "    # Generate a dotplot of enriched pathways for cellular components\n",
    "    print(dotplot(compGO_CC_diff, \n",
    "                  showCategory = 15, \n",
    "                  title = paste0(\"GO Pathway Enrichment Analysis for DEG \\n Cellular components for \",i, \" Cells\"), \n",
    "                  font.size = 12)+ scale_colour_viridis(option = \"plasma\", direction = 1))\n",
    "    \n",
    "    # Save the dotplot as an pdf file\n",
    "    # dev.new()\n",
    "    dev.copy(\n",
    "        pdf,\n",
    "        file = paste0(\"results_seurat/cell_assigned/pathways_DEG_pval05/Cellular_component/\",i,\"_GO_CC_pathways_pval05_plasma.pdf\"),\n",
    "        width = 10,\n",
    "        height = 8\n",
    "    )\n",
    "    dev.off ()\n",
    "    \n",
    "    # Convert the enriched pathways data to a data frame\n",
    "    compGO_CC_diff_df <- as.data.frame(compGO_CC_diff)\n",
    "    \n",
    "    # Convert GeneRatio and BgRatio to decimal format\n",
    "    compGO_CC_diff_df$GeneRatio_decimal <- compGO_CC_diff_df$GeneRatio\n",
    "    compGO_CC_diff_df$GeneRatio_decimal <- sapply(compGO_CC_diff_df$GeneRatio_decimal, \n",
    "                                                  function(x) (eval(parse(text = as.character(x)))))\n",
    "    compGO_CC_diff_df$BgRatio_decimal <- compGO_CC_diff_df$BgRatio\n",
    "    compGO_CC_diff_df$BgRatio_decimal <- sapply(compGO_CC_diff_df$BgRatio_decimal, \n",
    "                                                function(x) (eval(parse(text = as.character(x)))))\n",
    "    \n",
    "    # Separate gene IDs and arrange by GeneRatio_decimal in descending order\n",
    "    compGO_CC_diff_df <- compGO_CC_diff_df %>% \n",
    "        tidyr::separate_rows(geneID, sep = \"/\", convert = FALSE) %>%\n",
    "        arrange(desc(GeneRatio_decimal))\n",
    "    \n",
    "    # Print the first few rows of the enriched pathways data frame\n",
    "    compGO_CC_diff_df %>% head\n",
    "    \n",
    "    # Save the enriched pathways data frame as a CSV file\n",
    "    write.csv(compGO_CC_diff_df, paste0(\"results_seurat/cell_assigned/pathways_DEG_pval05/Cellular_component/\",i,\"_GO_CC_pathways_pval05.csv\"))  \n",
    "    \n",
    "    # Print message indicating that the cell type is done processing\n",
    "    message(paste0(\"Cell type: \", i, \" done\"))\n",
    "    message(paste0(\"****************************************************************************************\"))\n",
    "    message(paste0(\"\\n\"))\n",
    "}                                                                                    \n",
    "    \n",
    "                                                \n",
    "# Loop through each cell type\n",
    "for(i in cell_type){\n",
    "    # Print message indicating which cell type is being processed\n",
    "    message(paste0(\"Biological pathways Enrichments for Cell type: \", i))\n",
    "    \n",
    "    # Perform GO enrichment analysis for DEG for biological pathways\n",
    "    compGO_BP_diff <- enrichGO(gene = DEG_Libra_edger_lrt_cell_assigned_mouse$MGI.symbol[DEG_Libra_edger_lrt_cell_assigned_mouse$cell_type==i & DEG_Libra_edger_lrt_cell_assigned_mouse$p_val<=0.05], pvalueCutoff  = pval_enrich,keyType = \"SYMBOL\",\n",
    "                             pAdjustMethod = \"BH\",OrgDb = \"org.Mm.eg.db\", ont = \"BP\")\n",
    "    \n",
    "    # If there are no enriched pathways, skip to the next cell type\n",
    "    if(is.null(compGO_BP_diff)){\n",
    "        message(paste0(\"Cell type: \", i, \" done\"))\n",
    "        message(paste0(\"****************************************************************************************\"))\n",
    "        message(paste0(\"\\n\"))\n",
    "        next\n",
    "    }\n",
    "    if(sum(compGO_BP_diff@result$p.adjust<pval_enrich)==0){\n",
    "        message(paste0(\"Cell type: \", i, \" done\"))\n",
    "        message(paste0(\"****************************************************************************************\"))\n",
    "        message(paste0(\"\\n\"))\n",
    "        next\n",
    "    }\n",
    "    # Create a dotplot of the enriched pathways\n",
    "    print(dotplot(compGO_BP_diff, showCategory = 15, title = paste0(\"GO Pathway Enrichment Analysis for DEG \\n Biological pathways for \",i, \" Cells\"), \n",
    "            font.size = 12)+ scale_colour_viridis(option = \"plasma\", direction = 1))\n",
    "    \n",
    "    # Save the dotplot as an pdf file\n",
    "    dev.copy(\n",
    "    pdf,\n",
    "    file = paste0(\"results_seurat/cell_assigned/pathways_DEG_pval05/Biological_pathways/\",i,\"_GO_BP_pathways_pval05_plasma.pdf\"),\n",
    "    width = 10,\n",
    "    height = 8\n",
    "    )\n",
    "    dev.off ()\n",
    "    \n",
    "    # Convert the enriched pathways data to a dataframe and calculate decimal ratios\n",
    "    compGO_BP_diff_df <- as.data.frame(compGO_BP_diff)\n",
    "    compGO_BP_diff_df$GeneRatio_decimal <- compGO_BP_diff_df$GeneRatio\n",
    "    compGO_BP_diff_df$GeneRatio_decimal <- sapply(compGO_BP_diff_df$GeneRatio_decimal, \n",
    "                                                  function(x) (eval(parse(text = as.character(x)))))\n",
    "    compGO_BP_diff_df$BgRatio_decimal <- compGO_BP_diff_df$BgRatio\n",
    "    compGO_BP_diff_df$BgRatio_decimal <- sapply(compGO_BP_diff_df$BgRatio_decimal, \n",
    "                                                function(x) (eval(parse(text = as.character(x)))))\n",
    "    \n",
    "    # Separate the gene IDs into separate rows and sort by descending GeneRatio_decimal\n",
    "    compGO_BP_diff_df <- compGO_BP_diff_df %>% tidyr::separate_rows(geneID, sep = \"/\", convert = FALSE) %>%\n",
    "      arrange(desc(GeneRatio_decimal))\n",
    "    \n",
    "    # Print the first few rows of the enriched pathways dataframe\n",
    "    compGO_BP_diff_df %>% head\n",
    "    \n",
    "    # Save the enriched pathways dataframe as a CSV file\n",
    "    write.csv(compGO_BP_diff_df, paste0(\"results_seurat/cell_assigned/pathways_DEG_pval05/Biological_pathways/\",i,\"_GO_BP_pathways_pval05.csv\")) \n",
    "    \n",
    "    # Print message indicating that the cell type is done processing\n",
    "    message(paste0(\"Cell type: \", i, \" done\"))\n",
    "    message(paste0(\"****************************************************************************************\"))\n",
    "    message(paste0(\"\\n\"))\n",
    "}"
   ]
  },
  {
   "cell_type": "markdown",
   "metadata": {},
   "source": [
    "## Geneset Enrichment Analysis"
   ]
  },
  {
   "cell_type": "code",
   "execution_count": null,
   "metadata": {
    "vscode": {
     "languageId": "r"
    }
   },
   "outputs": [],
   "source": [
    "cell_type <- DEG_Libra_edger_lrt_cell_assigned$cell_type %>% unique %>% as.character %>% sort\n",
    "cell_type"
   ]
  },
  {
   "cell_type": "code",
   "execution_count": null,
   "metadata": {
    "vscode": {
     "languageId": "r"
    }
   },
   "outputs": [],
   "source": [
    "pval_enrich <- 0.2\n",
    "cell_type <- DEG_Libra_edger_lrt_cell_assigned$cell_type %>% unique %>% as.character %>% sort\n",
    "cell_type\n",
    "# Loop through each cell type\n",
    "for(i in cell_type){\n",
    "    # Print message indicating which cell type is being analyzed\n",
    "    message(paste0(\"Molecular function Enrichments for Cell type: \", i))\n",
    "        \n",
    "    # create gene list for the current cell type\n",
    "    gene_list_df <- DEG_Libra_edger_lrt_cell_assigned_mouse[DEG_Libra_edger_lrt_cell_assigned_mouse$cell_type==i & DEG_Libra_edger_lrt_cell_assigned_mouse$p_val<=0.05,]\n",
    "    gene_list_df <- gene_list_df %>% arrange(desc(avg_logFC))\n",
    "    gene_list_df <- gene_list_df[!is.na(gene_list_df$MGI.symbol),]\n",
    "    gene_list_df <- gene_list_df[!duplicated(gene_list_df$MGI.symbol),]\n",
    "    gene_list <- gene_list_df %>% pull(avg_logFC)\n",
    "    names(gene_list) <- gene_list_df %>% pull(MGI.symbol)\n",
    "\n",
    "    gene_list <- gene_list[!duplicated(gene_list)]\n",
    "     if(is.null(gene_list)|length(gene_list)==0){\n",
    "      \n",
    "        message(paste0(\"Cell type: \", i, \" done\"))\n",
    "        message(paste0(\"****************************************************************************************\"))\n",
    "        message(paste0(\"\\n\"))\n",
    "        next\n",
    "    }\n",
    "    # Perform GO enrichment analysis for DEG for the current cell type\n",
    "    compGO_MF_diff <- gseGO(gene = gene_list, pvalueCutoff  = pval_enrich,keyType = \"SYMBOL\",\n",
    "                             pAdjustMethod = \"BH\",OrgDb = \"org.Mm.eg.db\", ont = \"MF\")\n",
    "    # If no enriched pathways are found, print message and move on to next cell type\n",
    "    if(is.null(compGO_MF_diff)|nrow(compGO_MF_diff@result)==0){\n",
    "        message(paste0(\"Cell type: \", i, \" done\"))\n",
    "        message(paste0(\"****************************************************************************************\"))\n",
    "        message(paste0(\"\\n\"))\n",
    "        next\n",
    "    }\n",
    "    if(sum(compGO_MF_diff@result$p.adjust<pval_enrich)==0){\n",
    "        message(paste0(\"Cell type: \", i, \" done\"))\n",
    "        message(paste0(\"****************************************************************************************\"))\n",
    "        message(paste0(\"\\n\"))\n",
    "        next\n",
    "    }\n",
    "    # Generate dotplot of enriched pathways for the current cell type\n",
    "   print(dotplot(compGO_MF_diff, showCategory = 15, title = paste0(\"GO Pathway Geneset Enrichment Analysis for DEG \\n Molecular Functions for \",i, \" Cells\"), \n",
    "            font.size = 12) + facet_grid(.~.sign)+ scale_colour_viridis(option = \"plasma\", direction = 1))\n",
    "    # Save dotplot as pdf file\n",
    "    dev.copy(\n",
    "    pdf,\n",
    "    file = paste0(\"results_seurat/cell_assigned/pathways_DEG_pval05_GSE/Molecular_function/\",i,\"_gse_GO_MF_pathways_pval05_plasma.pdf\"),\n",
    "    width = 10,\n",
    "    height = 8\n",
    "    )\n",
    "    dev.off ()\n",
    "    \n",
    "    # Convert enriched pathways data to data frame and calculate decimal ratios\n",
    "    # Generate dotplot of enriched pathways for the current cell type\n",
    "  \n",
    "    \n",
    "        compGO_MF_diff_df <- as.data.frame(compGO_MF_diff)\n",
    "        compGO_MF_diff_df\n",
    "\n",
    "    compGO_MF_diff_df <- compGO_MF_diff_df %>% tidyr::separate_rows(core_enrichment, sep = \"/\", convert = FALSE) %>%\n",
    "      arrange((p.adjust))\n",
    "    \n",
    "    # Save enriched pathways data frame as CSV file\n",
    "    write.csv(compGO_MF_diff_df, paste0(\"results_seurat/cell_assigned/pathways_DEG_pval05_GSE/Molecular_function/\",i,\"_gse_GO_MF_pathways_pval05.csv\"))\n",
    "    \n",
    "    # Print message indicating that analysis for the current cell type is complete\n",
    "    message(paste0(\"Cell type: \", i, \" done\"))\n",
    "    message(paste0(\"****************************************************************************************\"))\n",
    "    message(paste0(\"\\n\"))\n",
    "}                                            \n",
    "                                                \n",
    "# Loop through each cell type\n",
    "for(i in cell_type){                           \n",
    "    # Print message indicating which cell type is being processed\n",
    "    message(paste0(\"Cellular component Enrichments for Cell type: \", i))\n",
    "    \n",
    "     # create gene list for the current cell type\n",
    "    gene_list_df <- DEG_Libra_edger_lrt_cell_assigned_mouse[DEG_Libra_edger_lrt_cell_assigned_mouse$cell_type==i & DEG_Libra_edger_lrt_cell_assigned_mouse$p_val<=0.05,]\n",
    "    gene_list_df <- gene_list_df %>% arrange(desc(avg_logFC))\n",
    "    gene_list_df <- gene_list_df[!is.na(gene_list_df$MGI.symbol),]\n",
    "    gene_list_df <- gene_list_df[!duplicated(gene_list_df$MGI.symbol),]\n",
    "    gene_list <- gene_list_df %>% pull(avg_logFC)\n",
    "    names(gene_list) <- gene_list_df %>% pull(MGI.symbol)\n",
    "\n",
    "    gene_list <- gene_list[!duplicated(gene_list)]\n",
    "\n",
    "\n",
    "    gene_list <- gene_list[!duplicated(gene_list)]\n",
    "     if(is.null(gene_list)|length(gene_list)==0){\n",
    "        # print(\"trace_gene_if\")\n",
    "        message(paste0(\"Cell type: \", i, \" done\"))\n",
    "        message(paste0(\"****************************************************************************************\"))\n",
    "        message(paste0(\"\\n\"))\n",
    "        next\n",
    "    }\n",
    "    # Perform GO enrichment analysis for DEG for cellular components\n",
    "    compGO_CC_diff <- gseGO(gene = gene_list, \n",
    "                               pvalueCutoff  = pval_enrich,\n",
    "                               keyType = \"SYMBOL\",\n",
    "                               pAdjustMethod = \"BH\",\n",
    "                               OrgDb = \"org.Mm.eg.db\",\n",
    "                               ont = \"CC\")\n",
    "    \n",
    "    # If there are no enriched pathways, skip to the next cell type\n",
    "    if(is.null(compGO_CC_diff)|nrow(compGO_CC_diff@result)==0){\n",
    "        message(paste0(\"Cell type: \", i, \" done\"))\n",
    "        message(paste0(\"****************************************************************************************\"))\n",
    "        message(paste0(\"\\n\"))\n",
    "        next\n",
    "    }\n",
    "    if(sum(compGO_CC_diff@result$p.adjust<pval_enrich)==0){\n",
    "        message(paste0(\"Cell type: \", i, \" done\"))\n",
    "        message(paste0(\"****************************************************************************************\"))\n",
    "        message(paste0(\"\\n\"))\n",
    "        next\n",
    "    }\n",
    "    # Generate a dotplot of enriched pathways for cellular components\n",
    "    print(dotplot(compGO_CC_diff, \n",
    "                  showCategory = 15, \n",
    "                  title = paste0(\"GO Pathway Geneset Enrichment Analysis for DEG \\n Cellular components for \",i, \" Cells\"), \n",
    "                  font.size = 12)+ facet_grid(.~.sign)+ scale_colour_viridis(option = \"plasma\", direction = 1))\n",
    "    \n",
    "    # Save the dotplot as an pdf file\n",
    "\n",
    "    dev.copy(\n",
    "        pdf,\n",
    "        file = paste0(\"results_seurat/cell_assigned/pathways_DEG_pval05_GSE/Cellular_component/\",i,\"_gse_GO_CC_pathways_pval05_plasma.pdf\"),\n",
    "        width = 10,\n",
    "        height = 8\n",
    "    )\n",
    "    dev.off ()\n",
    "    \n",
    "    # Convert the enriched pathways data to a data frame\n",
    "    compGO_CC_diff_df <- as.data.frame(compGO_CC_diff)\n",
    "    compGO_CC_diff_df <- compGO_CC_diff_df %>% \n",
    "        tidyr::separate_rows(core_enrichment, sep = \"/\", convert = FALSE) %>%\n",
    "        arrange(p.adjust)\n",
    "    \n",
    "    # Print the first few rows of the enriched pathways data frame\n",
    "    compGO_CC_diff_df %>% head\n",
    "    \n",
    "    # Save the enriched pathways data frame as a CSV file\n",
    "    write.csv(compGO_CC_diff_df, paste0(\"results_seurat/cell_assigned/pathways_DEG_pval05_GSE/Cellular_component/\",i,\"_gse_GO_CC_pathways_pval05.csv\"))  \n",
    "    \n",
    "    # Print message indicating that the cell type is done processing\n",
    "    message(paste0(\"Cell type: \", i, \" done\"))\n",
    "    message(paste0(\"****************************************************************************************\"))\n",
    "    message(paste0(\"\\n\"))\n",
    "}                                                                                    \n",
    "    \n",
    "                                                \n",
    "# Loop through each cell type\n",
    "for(i in cell_type){\n",
    "    # Print message indicating which cell type is being processed\n",
    "    message(paste0(\"Biological pathways Enrichments for Cell type: \", i))\n",
    "    \n",
    "    gene_list_df <- DEG_Libra_edger_lrt_cell_assigned_mouse[DEG_Libra_edger_lrt_cell_assigned_mouse$cell_type==i & DEG_Libra_edger_lrt_cell_assigned_mouse$p_val<=0.05,]\n",
    "    gene_list_df <- gene_list_df %>% arrange(desc(avg_logFC))\n",
    "    gene_list_df <- gene_list_df[!is.na(gene_list_df$MGI.symbol),]\n",
    "    gene_list_df <- gene_list_df[!duplicated(gene_list_df$MGI.symbol),]\n",
    "    gene_list <- gene_list_df %>% pull(avg_logFC)\n",
    "    names(gene_list) <- gene_list_df %>% pull(MGI.symbol)\n",
    "\n",
    "    gene_list <- gene_list[!duplicated(gene_list)]\n",
    "    gene_list %>% head\n",
    "    gene_list %>% length\n",
    "    gene_list_df %>% head()\n",
    "\n",
    "\n",
    "    gene_list <- gene_list[!duplicated(gene_list)]\n",
    "     if(is.null(gene_list)|length(gene_list)==0){\n",
    "        # print(\"trace_gene_if\")\n",
    "        message(paste0(\"Cell type: \", i, \" done\"))\n",
    "        message(paste0(\"****************************************************************************************\"))\n",
    "        message(paste0(\"\\n\"))\n",
    "        next\n",
    "    }\n",
    "    # Perform GO enrichment analysis for DEG for biological pathways\n",
    "    compGO_BP_diff <- gseGO(gene = gene_list, pvalueCutoff  = pval_enrich,keyType = \"SYMBOL\",\n",
    "                             pAdjustMethod = \"BH\",OrgDb = \"org.Mm.eg.db\", ont = \"BP\")\n",
    "    \n",
    "    # If there are no enriched pathways, skip to the next cell type\n",
    "    if(is.null(compGO_BP_diff)|nrow(compGO_BP_diff@result)==0){\n",
    "        message(paste0(\"Cell type: \", i, \" done\"))\n",
    "        message(paste0(\"****************************************************************************************\"))\n",
    "        message(paste0(\"\\n\"))\n",
    "        next\n",
    "    }\n",
    "    if(sum(compGO_BP_diff@result$p.adjust<pval_enrich)==0){\n",
    "        message(paste0(\"Cell type: \", i, \" done\"))\n",
    "        message(paste0(\"****************************************************************************************\"))\n",
    "        message(paste0(\"\\n\"))\n",
    "        next\n",
    "    }\n",
    "    # Create a dotplot of the enriched pathways\n",
    "    print(dotplot(compGO_BP_diff, showCategory = 15, title = paste0(\"GO Pathway Geneset Enrichment Analysis for DEG \\n Biological pathways for \",i, \" Cells\"), \n",
    "            font.size = 12)+ facet_grid(.~.sign)+ scale_colour_viridis(option = \"plasma\", direction = 1))\n",
    "    \n",
    "    # Save the dotplot as an pdf file\n",
    "    dev.copy(\n",
    "    pdf,\n",
    "    file = paste0(\"results_seurat/cell_assigned/pathways_DEG_pval05_GSE/Biological_pathways/\",i,\"_gse_GO_BP_pathways_pval05_plasma.pdf\"),\n",
    "    width = 10,\n",
    "    height = 8\n",
    "    )\n",
    "    dev.off ()\n",
    "    \n",
    "    # Convert the enriched pathways data to a dataframe and calculate decimal ratios\n",
    "    compGO_BP_diff_df <- as.data.frame(compGO_BP_diff)\n",
    "    \n",
    "    # Separate the gene IDs into separate rows and sort by descending GeneRatio_decimal\n",
    "    compGO_BP_diff_df <- compGO_BP_diff_df %>% tidyr::separate_rows(core_enrichment, sep = \"/\", convert = FALSE) %>%\n",
    "      arrange(p.adjust)\n",
    "    \n",
    "    # Print /the first few rows of the enriched pathways dataframe\n",
    "    compGO_BP_diff_df %>% head\n",
    "    \n",
    "    # Save the enriched pathways dataframe as a CSV file\n",
    "    write.csv(compGO_BP_diff_df, paste0(\"results_seurat/cell_assigned/pathways_DEG_pval05_GSE/Biological_pathways/\",i,\"_gse_GO_BP_pathways_pval05.csv\")) \n",
    "    \n",
    "    # Print message indicating that the cell type is done processing\n",
    "    message(paste0(\"Cell type: \", i, \" done\"))\n",
    "    message(paste0(\"****************************************************************************************\"))\n",
    "    message(paste0(\"\\n\"))\n",
    "}"
   ]
  },
  {
   "cell_type": "markdown",
   "metadata": {},
   "source": [
    "# Graph for Number of DEGs"
   ]
  },
  {
   "cell_type": "code",
   "execution_count": null,
   "metadata": {
    "vscode": {
     "languageId": "r"
    }
   },
   "outputs": [],
   "source": [
    "broad_sub_cluster_names <- combined_sct@meta.data %>% dplyr::select(cell_type_EC, broad_class) %>% distinct() %>% arrange(cell_type_EC)\n",
    "rownames(broad_sub_cluster_names) <- NULL\n",
    "broad_sub_cluster_names"
   ]
  },
  {
   "cell_type": "code",
   "execution_count": null,
   "metadata": {
    "vscode": {
     "languageId": "r"
    }
   },
   "outputs": [],
   "source": [
    "# filter the data for signicant values with padj <= 0.05\n",
    "DEG_Libra_edger_lrt_cell_assigned_sig_padj05 <- DEG_Libra_edger_lrt_cell_assigned %>% filter(p_val_adj<=0.05)\n",
    "# count how many genes are significant for each cell type\n",
    "num_of_DEG_padj05 <- DEG_Libra_edger_lrt_cell_assigned_sig_padj05 %>% group_by(cell_type) %>% summarise(n=n()) %>% arrange(desc(n))\n",
    "num_of_DEG_padj05"
   ]
  },
  {
   "cell_type": "code",
   "execution_count": null,
   "metadata": {
    "vscode": {
     "languageId": "r"
    }
   },
   "outputs": [],
   "source": [
    "# filter the data for signicant values with padj <= 0.05\n",
    "DEG_Libra_edger_lrt_cell_assigned_sig_pval05 <- DEG_Libra_edger_lrt_cell_assigned %>% filter(p_val<=0.05)\n",
    "# count how many genes are significant for each cell type\n",
    "num_of_DEG_pval05 <- DEG_Libra_edger_lrt_cell_assigned_sig_pval05 %>% group_by(cell_type) %>% summarise(n=n()) %>% arrange(desc(n))\n",
    "num_of_DEG_pval05"
   ]
  },
  {
   "cell_type": "code",
   "execution_count": null,
   "metadata": {
    "vscode": {
     "languageId": "r"
    }
   },
   "outputs": [],
   "source": [
    "\n",
    "num_of_DEG_pval05 <-merge(num_of_DEG_pval05, broad_sub_cluster_names, by.x = \"cell_type\", by.y = \"cell_type_EC\", all.x = TRUE)\n",
    "head(num_of_DEG_pval05)\n"
   ]
  },
  {
   "cell_type": "code",
   "execution_count": null,
   "metadata": {
    "vscode": {
     "languageId": "r"
    }
   },
   "outputs": [],
   "source": [
    "num_of_DEG_pval05 <- num_of_DEG_pval05 %>% group_by(broad_class) %>% arrange(desc(n),cell_type,broad_class, .by_group = TRUE) \n",
    "num_of_DEG_pval05"
   ]
  },
  {
   "cell_type": "code",
   "execution_count": null,
   "metadata": {
    "vscode": {
     "languageId": "r"
    }
   },
   "outputs": [],
   "source": [
    "# plot a bar graph coloring the bars by broad_class arrange descending in each group\n",
    "num_of_DEG_pval05 %>% group_by(broad_class) %>%  arrange(desc(n),cell_type,broad_class, .by_group = TRUE)  %>% ggplot()+aes(x=cell_type, y=n, fill=broad_class) + geom_bar(stat=\"identity\") + theme(axis.text.x = element_text(angle = 90, hjust = 1)) + labs(title = \"Number of DEG with pval <= 0.05\", x = \"Cell type\", y = \"Number of DEG\")\n"
   ]
  },
  {
   "cell_type": "code",
   "execution_count": null,
   "metadata": {
    "vscode": {
     "languageId": "r"
    }
   },
   "outputs": [],
   "source": []
  },
  {
   "cell_type": "markdown",
   "metadata": {},
   "source": [
    "# Heatmaps for all OFT and AV genes"
   ]
  },
  {
   "cell_type": "code",
   "execution_count": 129,
   "metadata": {
    "vscode": {
     "languageId": "r"
    }
   },
   "outputs": [],
   "source": [
    "OFT_related_genes_all <- c(\"axin2\", \"acvr1l\", \"atf2\", \"bmp4\", \"bmp7a\", \"bmp7b\", \"bmpr1aa\", \"bmpr1ab\", \"bmpr2a\", \"bmpr2b\", \"cdc42\", \"cited2\", \"crkl\", \"ctnnb1\", \"dhrs3a\", \"dhrs3b\", \"dicer1\", \"dmgdh\",  \"doc2b\", \"dpt\", \"dvl1a\", \"dvl1b\", \"dvl2\", \"dvl3a\", \"dvl3b\", \"edn1\", \"ednraa\", \"elnb\", \"engase\", \"enpp2\", \"eya1\", \"fgf10a\", \"fgf8a\", \"fgf8b\", \"fgfr1a\", \"fn1a\", \"foxc1a\", \"foxc1b\", \"foxh1\", \"fpgs\", \"fzd1\", \"fzd2\", \"gata4\", \"gata6\", \"gja5a\", \"gja5b\", \"hand2\", \"her6\", \"her9\", \"hey1\", \"hey2\", \"heyl\", \"hmgcrb\", \"ilk\", \"isl1\", \"isl1a\", \"jag1a\", \"jag1b\", \"jun\", \"klf2a\", \"klf2b\", \"lef1\", \"lrp2a\", \"lrp6\", \"mef2ca\", \"mylka\", \"ndr1\", \"nipbla\", \"nipblb\", \"nkd1\", \"nkx2.5\", \"nog1\", \"nog2\", \"nog3\", \"nos2a\", \"nos2b\", \"nostrin\", \"notch1a\", \"notch1b\", \"notum1a\", \"notum1b\", \"npy1r\", \"npy2r\", \"npy5r\", \"nrp1a\", \"nrp1b\", \"nrp2a\", \"nrp2b\", \"parvaa\", \"piezo1\", \"piezo2a.2\", \"pitx2\", \"pkd2\", \"plek\", \"plxnd1\", \"postnb\", \"rarb\", \"robo1\", \"robo2\", \"ryr1a\", \"ryr1b\", \"sec24b\", \"sema3c\", \"sfrp2\", \"shha\", \"shhb\", \"six1a\", \"six1b\", \"smad1\", \"smad4a\", \"smad4b\", \"smad5\", \"smad6a\", \"smad6b\", \"smad9\", \"smarca4a\", \"smarca4b\", \"sox11a\", \"sox11b\", \"sox17\", \"sox32\", \"tbx1\", \"tbx20\", \"tbx2a\", \"tbx2b\", \"tbx3a\", \"tbx3b\", \"tbx5a\", \"tbx5b\", \"tfap2a\", \"tgfb1a\", \"tgfb2\", \"tgfb3\", \"tgfbr2a\", \"tgfbr2b\", \"tgfbr2l\", \"tgfbr3\", \"thbs1a\", \"thbs1b\", \"trpv4\", \"twist1a\", \"twist1b\", \"vangl2\", \"wnt11\", \"wnt11f2\", \"wnt16\", \"wnt5a\", \"wnt9b\", \"zfpm1\", \"zfpm2a\", \"zfpm2b\") "
   ]
  },
  {
   "cell_type": "code",
   "execution_count": null,
   "metadata": {
    "vscode": {
     "languageId": "r"
    }
   },
   "outputs": [],
   "source": [
    "# change graph size\n",
    "options(repr.plot.width=24, repr.plot.height=24)\n",
    "dittoHeatmap(subset(combined_sct,subset =  (cell_type_EC %in% c( 'EnC_1', 'EnC_2', 'EnC_3', 'EnC_4', 'EnC_Valve_cells' ))), isGene(OFT_related_genes_all,combined_sct, return.values = TRUE),\n",
    "    annot.by = c(\"cell_type_EC\", \"condition\"), complex = TRUE,\n",
    "    heatmap.colors = PurpleAndYellow(50),\n",
    "    # scaled.to.max=TRUE,\n",
    "    # scale='none',\n",
    "    heatmap.colors.max.scaled = PurpleAndYellow(50))"
   ]
  },
  {
   "cell_type": "code",
   "execution_count": 95,
   "metadata": {
    "vscode": {
     "languageId": "r"
    }
   },
   "outputs": [],
   "source": [
    "AV_related_genes_all <- c(\"acvr1l\", \"adamts5\", \"anxa5b\", \"apcdd1l\", \"aplnra\", \"aplnrb\", \"axin2\", \"bgna\", \"bmp2a\", \"bmp2b\", \"bmp4\", \"bmpr1aa\", \"bmpr1ab\", \"bmpr2a\", \"bmpr2b\", \"c7a\", \"c7b\", \"ccdc80\", \"ccn1\", \"cldn5a\", \"cldn5b\", \"clu\", \"col1a1a\", \"col1a1b\", \"col1a2\", \"col2a1a\", \"col9a2\", \"crabp2a\", \"crabp2b\", \"cthrc1a\", \"cthrc1b\", \"dchs1b\", \"dcn\", \"dkk3a\", \"dkk3b\", \"dll4\", \"dmgdh\", \"doc2b\", \"dpt\", \"dusp2\", \"efna1a\", \"efna1b\", \"egfl7\", \"elnb\", \"emilin1a\", \"emilin1b\", \"eng\", \"enpp2\", \"esama\", \"esamb\", \"fbln1\", \"fbln2\", \"flna\", \"flrt2\", \"fmoda\", \"fmodb\", \"fstl1a\", \"gata3\", \"gata4\", \"gata5\", \"gja5a\", \"gja5b\", \"gpc3\", \"hapln1a\", \"hapln1b\", \"has2\", \"hey1\", \"hey2\", \"heyl\", \"hspg2\", \"id2a\", \"id2b\", \"id3\", \"id4\", \"igfbp7\", \"ipo11\", \"itga4\", \"itga5\", \"jag1a\", \"jag1b\", \"junba\", \"klf2a\", \"klf2b\", \"lef1\", \"limch1a\", \"limch1b\", \"lmna\", \"loxl2a\", \"loxl2b\", \"lum\", \"mdm2\", \"mdm4\", \"mxra5a\", \"mxra8a\", \"mxra8b\", \"myh10\", \"naglu\", \"ncam1a\", \"ncam1b\", \"nfatc1\", \"nkd1\", \"nos3\", \"notch1a\", \"notch1b\", \"notum1a\", \"notum1b\", \"nrg1\", \"nrg2a\", \"nrg2b\", \"ociad2\", \"pam\", \"pdgfaa\", \"pdlim3a\", \"pdlim3b\", \"piezo1\", \"pitx2\", \"plek\", \"postnb\", \"prc1a\", \"prc1b\", \"prrx1a\", \"prrx1b\", \"rb1\", \"rbp1.1\", \"rbpja\", \"rbpjb\", \"rnd2\", \"robo1\", \"robo2\", \"s100a11\", \"samd11\", \"scinla\", \"serpine2\", \"serpinf1\", \"sgk1\", \"slit2\", \"slit3\", \"smad2\", \"smad4a\", \"smad4b\", \"smad6a\", \"smad6b\", \"snai1a\", \"snai1b\", \"sost\", \"sox4a\", \"sox9a\", \"sox9b\", \"sparc\", \"sparcl1\", \"spp1\", \"tbx20\", \"tbx2a\", \"tbx2b\", \"tbx3a\", \"tbx3b\", \"tbx5a\", \"tbx5b\", \"tgfb1a\", \"tgfb1b\", \"tgfb2\", \"tgfbi\", \"tgfbr2a\", \"tgfbr2b\", \"tgm2a\", \"tgm2b\", \"thbs1a\", \"tie1\", \"tnfrsf1a\", \"tnfrsf1b\", \"twist1a\", \"twist1b\", \"upp1\", \"vcana\", \"vcanb\", \"wnt16\", \"wnt4\", \"wnt9b\", \"zbtb20\", \"zfpm1\", \"zfpm2a\", \"zfpm2b\")"
   ]
  },
  {
   "cell_type": "code",
   "execution_count": null,
   "metadata": {
    "vscode": {
     "languageId": "r"
    }
   },
   "outputs": [],
   "source": [
    "# change graph size\n",
    "options(repr.plot.width=24, repr.plot.height=24)\n",
    "DoHeatmap(combined_sct, features= AV_related_genes_all) + NoLegend() + ggtitle(\"AV related genes\")\n",
    "DoHeatmap(combined_sct, features= AV_related_genes_all,assay = \"RNA\",slot = \"counts\" ) + ggtitle(\"AV related genes\") + NoLegend()"
   ]
  },
  {
   "cell_type": "code",
   "execution_count": null,
   "metadata": {
    "vscode": {
     "languageId": "r"
    }
   },
   "outputs": [],
   "source": [
    "# change graph size\n",
    "options(repr.plot.width=24, repr.plot.height=24)\n",
    "dev.copy(\n",
    "    pdf,\n",
    "    file = paste0(\"results_seurat/cell_assigned/OFT_related_genes_in_Endocardial_cells_normalized_data.pdf\"),\n",
    "    width = 10,\n",
    "    height = 18\n",
    "    )\n",
    "dittoHeatmap(subset(combined_sct,subset =  (cell_type_EC %in% c( 'EnC_1', 'EnC_2', 'EnC_3', 'EnC_4', 'EnC_Valve_cells' ))), isGene(OFT_related_genes_all,combined_sct, return.values = TRUE),\n",
    "    annot.by = c(\"cell_type_EC\", \"condition\"), complex = TRUE,\n",
    "    heatmap.colors = PurpleAndYellow(50),\n",
    "    # scaled.to.max=TRUE,\n",
    "    # scale='none',\n",
    "    use_raster=TRUE,\n",
    "    heatmap.colors.max.scaled = PurpleAndYellow(50),\n",
    "    main= \"OFT_related_genes_all (normalized data)\")\n",
    "dev.off()"
   ]
  },
  {
   "cell_type": "markdown",
   "metadata": {},
   "source": [
    "### AV in CM"
   ]
  },
  {
   "cell_type": "code",
   "execution_count": null,
   "metadata": {
    "vscode": {
     "languageId": "r"
    }
   },
   "outputs": [],
   "source": [
    "# change graph size\n",
    "options(repr.plot.width=24, repr.plot.height=24)\n",
    "dev.copy(\n",
    "    pdf,\n",
    "    file = paste0(\"results_seurat/cell_assigned/AV_related_genes_in_CM_cells_normalized_data.pdf\"),\n",
    "    width = 10,\n",
    "    height = 18\n",
    "    )\n",
    "dittoHeatmap(subset(combined_sct,subset =  (cell_type_EC %in% c( 'CM_Ventricle', 'CM_Atrium', 'CM_AV_canal' ))), isGene(AV_related_genes_all,combined_sct, return.values = TRUE),\n",
    "    annot.by = c(\"cell_type_EC\", \"condition\"), complex = TRUE,\n",
    "    heatmap.colors = PurpleAndYellow(50),\n",
    "    # scaled.to.max=TRUE,\n",
    "    # scale='none',\n",
    "    use_raster=TRUE,\n",
    "    heatmap.colors.max.scaled = PurpleAndYellow(50),\n",
    "    main= \"AV_related_genes_all in CM cells (normalized data)\")\n",
    "\n",
    "\n",
    "\n",
    "dev.off()\n",
    "\n",
    "\n"
   ]
  },
  {
   "cell_type": "code",
   "execution_count": null,
   "metadata": {
    "vscode": {
     "languageId": "r"
    }
   },
   "outputs": [],
   "source": [
    "options(repr.plot.width=24, repr.plot.height=18)\n",
    "dev.copy(\n",
    "    pdf,\n",
    "    file = paste0(\"results_seurat/cell_assigned/AV_related_genes_in_CM_cells_raw_counts.pdf\"),\n",
    "    width = 10,\n",
    "    height = 18\n",
    "    )\n",
    "    \n",
    "dittoHeatmap(subset(combined_sct,subset =  (cell_type_EC %in% c( 'CM_Ventricle', 'CM_Atrium', 'CM_AV_canal' ))), \n",
    "            isGene(OFT_related_genes_all,combined_sct, assay = \"RNA\",return.values = TRUE),\n",
    "            assay = \"RNA\",\n",
    "            slot = \"counts\",\n",
    "            annot.by = c(\"cell_type_EC\",\"condition\" ), complex = TRUE,\n",
    "            scaled.to.max = TRUE,\n",
    "            scale = 'row',\n",
    "            use_raster=TRUE,\n",
    "            heatmap.colors = PurpleAndYellow(50),\n",
    "            heatmap.colors.max.scaled = PurpleAndYellow(25),\n",
    "            main = \"AV_related_genes_all in CM cells (raw counts)\",\n",
    "    ) %>% print\n",
    "dev.off ()"
   ]
  },
  {
   "cell_type": "code",
   "execution_count": null,
   "metadata": {
    "vscode": {
     "languageId": "r"
    }
   },
   "outputs": [],
   "source": [
    "# change graph size\n",
    "options(repr.plot.width=24, repr.plot.height=24)\n",
    "dev.copy(\n",
    "    pdf,\n",
    "    file = paste0(\"results_seurat/cell_assigned/OFT_related_genes_in_BA_FB_cells_normalized_data.pdf\"),\n",
    "    width = 10,\n",
    "    height = 18\n",
    "    )\n",
    "dittoHeatmap(subset(combined_sct,subset =  (cell_type_EC %in% c( 'Mus_SMC_BA', 'FB' ))), isGene(OFT_related_genes_all,combined_sct, return.values = TRUE),\n",
    "    annot.by = c(\"cell_type_EC\", \"condition\"), complex = TRUE,\n",
    "    heatmap.colors = PurpleAndYellow(50),\n",
    "    # scaled.to.max=TRUE,\n",
    "    # scale='none',\n",
    "    use_raster=TRUE,\n",
    "    heatmap.colors.max.scaled = PurpleAndYellow(50),\n",
    "    main= \"OFT_related_genes_all in BA_FB cells (normalized data)\")\n",
    "dev.off()"
   ]
  },
  {
   "cell_type": "code",
   "execution_count": null,
   "metadata": {
    "vscode": {
     "languageId": "r"
    }
   },
   "outputs": [],
   "source": [
    "options(repr.plot.width=24, repr.plot.height=18)\n",
    "dev.copy(\n",
    "    svg,\n",
    "    file = paste0(\"results_seurat/cell_assigned/OFT_related_genes_in_BA_FB_cells_raw_counts.svg\"),\n",
    "    width = 10,\n",
    "    height = 18\n",
    "    )\n",
    "    \n",
    "dittoHeatmap(subset(combined_sct,subset =  (cell_type_EC %in% c( 'Mus_SMC_BA', 'FB' ))), \n",
    "            isGene(OFT_related_genes_all,combined_sct, assay = \"RNA\",return.values = TRUE),\n",
    "            assay = \"RNA\",\n",
    "            slot = \"counts\",\n",
    "            annot.by = c(\"cell_type_EC\",\"condition\" ), complex = TRUE,\n",
    "            scaled.to.max = TRUE,\n",
    "            scale = 'row',\n",
    "            use_raster=TRUE,\n",
    "            heatmap.colors = PurpleAndYellow(50),\n",
    "            heatmap.colors.max.scaled = PurpleAndYellow(25),\n",
    "            main = \"OFT related genes in Mus_SMC_BA and FB cells (raw counts)\",\n",
    "    ) %>% print\n",
    "dev.off ()\n"
   ]
  },
  {
   "cell_type": "code",
   "execution_count": null,
   "metadata": {
    "vscode": {
     "languageId": "r"
    }
   },
   "outputs": [],
   "source": [
    "# change graph size\n",
    "options(repr.plot.width=24, repr.plot.height=24)\n",
    "dev.copy(\n",
    "    pdf,\n",
    "    file = paste0(\"results_seurat/cell_assigned/OFT_related_genes_in_BA_Skeletal_muscle_cells_normalized_data.pdf\"),\n",
    "    width = 10,\n",
    "    height = 18\n",
    "    )\n",
    "dittoHeatmap(subset(combined_sct,subset =  (cell_type_EC %in% c( 'Mus_SMC_BA', 'Mus_Skeletal_muscle' ))), isGene(OFT_related_genes_all,combined_sct, return.values = TRUE),\n",
    "    annot.by = c(\"cell_type_EC\", \"condition\"), complex = TRUE,\n",
    "    heatmap.colors = PurpleAndYellow(50),\n",
    "    # scaled.to.max=TRUE,\n",
    "    # scale='none',\n",
    "    use_raster=TRUE,\n",
    "    heatmap.colors.max.scaled = PurpleAndYellow(50),\n",
    "    main= \"OFT_related_genes_all in BA_Skeletal_muscle cells (normalized data)\")\n",
    "dev.off()"
   ]
  },
  {
   "cell_type": "code",
   "execution_count": null,
   "metadata": {
    "vscode": {
     "languageId": "r"
    }
   },
   "outputs": [],
   "source": [
    "options(repr.plot.width=24, repr.plot.height=18)\n",
    "dev.copy(\n",
    "    pdf,\n",
    "    file = paste0(\"results_seurat/cell_assigned/OFT_related_genes_in_BA_Skeletal_muscle_cells_raw_counts.pdf\"),\n",
    "    width = 10,\n",
    "    height = 18\n",
    "    )\n",
    "    \n",
    "dittoHeatmap(subset(combined_sct,subset =  (cell_type_EC %in% c( 'Mus_SMC_BA', 'Mus_Skeletal_muscle' ))), \n",
    "            isGene(OFT_related_genes_all,combined_sct, assay = \"RNA\",return.values = TRUE),\n",
    "            assay = \"RNA\",\n",
    "            slot = \"counts\",\n",
    "            annot.by = c(\"cell_type_EC\",\"condition\" ), complex = TRUE,\n",
    "            scaled.to.max = TRUE,\n",
    "            scale = 'row',\n",
    "            use_raster=TRUE,\n",
    "            heatmap.colors = PurpleAndYellow(50),\n",
    "            heatmap.colors.max.scaled = PurpleAndYellow(25),\n",
    "            main = \"OFT related genes in BA and Skeletal muscle cells (raw counts)\",\n",
    "    ) %>% print\n",
    "dev.off ()"
   ]
  },
  {
   "cell_type": "code",
   "execution_count": null,
   "metadata": {
    "vscode": {
     "languageId": "r"
    }
   },
   "outputs": [],
   "source": []
  },
  {
   "cell_type": "code",
   "execution_count": null,
   "metadata": {
    "vscode": {
     "languageId": "r"
    }
   },
   "outputs": [],
   "source": []
  },
  {
   "cell_type": "markdown",
   "metadata": {},
   "source": [
    "# Transfer FB subclusters to combined_sct"
   ]
  },
  {
   "cell_type": "code",
   "execution_count": null,
   "metadata": {
    "vscode": {
     "languageId": "r"
    }
   },
   "outputs": [],
   "source": [
    "FB_cells@meta.data$FB_identity <- paste0(\"FB_\",(FB_cells@meta.data$SCT_snn_res.0.4)) %>% factor\n",
    "FB_cells@meta.data %>% head"
   ]
  },
  {
   "cell_type": "code",
   "execution_count": null,
   "metadata": {
    "vscode": {
     "languageId": "r"
    }
   },
   "outputs": [],
   "source": [
    "combined_sct@meta.data$cell_name <- rownames(combined_sct@meta.data)\n",
    "combined_sct@meta.data %>% head()\n",
    "FB_cells@meta.data$cell_name  <- rownames(FB_cells@meta.data)\n",
    "FB_cells %>% head()"
   ]
  },
  {
   "cell_type": "code",
   "execution_count": null,
   "metadata": {
    "vscode": {
     "languageId": "r"
    }
   },
   "outputs": [],
   "source": [
    "combined_sct@meta.data <- merge(combined_sct@meta.data, FB_cells@meta.data[,c(\"cell_name\", \"FB_identity\")], by = \"cell_name\", all.x = TRUE) \n",
    "rownames(combined_sct@meta.data) <- combined_sct@meta.data$cell_name\n",
    "combined_sct@meta.data %>% head"
   ]
  },
  {
   "cell_type": "code",
   "execution_count": null,
   "metadata": {
    "vscode": {
     "languageId": "r"
    }
   },
   "outputs": [],
   "source": [
    "combined_sct@meta.data$cell_type_FB <- combined_sct@meta.data$cell_type_EC\n",
    "combined_sct@meta.data$FB_identity <- as.character(combined_sct@meta.data$FB_identity)\n",
    "combined_sct@meta.data$cell_type_FB[!is.na(combined_sct@meta.data$FB_identity)] <- combined_sct@meta.data$FB_identity[!is.na(combined_sct@meta.data$FB_identity)]\n",
    "combined_sct@meta.data$cell_type_FB <- factor(combined_sct@meta.data$cell_type_FB)\n",
    "combined_sct@meta.data %>% head\n"
   ]
  },
  {
   "cell_type": "code",
   "execution_count": 47,
   "metadata": {
    "vscode": {
     "languageId": "r"
    }
   },
   "outputs": [],
   "source": [
    "combined_sct@meta.data$cell_type_FB  <- as.character(combined_sct@meta.data$cell_type_FB)"
   ]
  },
  {
   "cell_type": "code",
   "execution_count": null,
   "metadata": {
    "vscode": {
     "languageId": "r"
    }
   },
   "outputs": [
    {
     "data": {
      "text/html": [
       "<strong>svg:</strong> 3"
      ],
      "text/latex": [
       "\\textbf{svg:} 3"
      ],
      "text/markdown": [
       "**svg:** 3"
      ],
      "text/plain": [
       "svg \n",
       "  3 "
      ]
     },
     "metadata": {},
     "output_type": "display_data"
    },
    {
     "data": {
      "text/html": [
       "<strong>png:</strong> 2"
      ],
      "text/latex": [
       "\\textbf{png:} 2"
      ],
      "text/markdown": [
       "**png:** 2"
      ],
      "text/plain": [
       "png \n",
       "  2 "
      ]
     },
     "metadata": {},
     "output_type": "display_data"
    }
   ],
   "source": [
    "# change graph size\n",
    "options(repr.plot.width=24, repr.plot.height=24)\n",
    "dev.copy(\n",
    "    pdf,\n",
    "    file = paste0(\"results_seurat/cell_assigned/AV_related_genes_in_FBs_and_unknown_2_normalized_data.pdf\"),\n",
    "    width = 10,\n",
    "    height = 18\n",
    "    )\n",
    "dittoHeatmap(subset(combined_sct,subset =  (cell_type_FB %in% c( 'FB_0','FB_1','FB_2','FB_3','unknown_2' ))), isGene(AV_related_genes_all,combined_sct, return.values = TRUE),\n",
    "    annot.by = c(\"cell_type_FB\", \"condition\"), complex = TRUE,\n",
    "    heatmap.colors = PurpleAndYellow(50),\n",
    "    # scaled.to.max=TRUE,\n",
    "    # scale='none',\n",
    "    use_raster=TRUE,\n",
    "    heatmap.colors.max.scaled = PurpleAndYellow(50),\n",
    "    main= \"AV_related_genes_all in FBs and unknown_2 cells (normalized data)\")\n",
    "dev.off()"
   ]
  },
  {
   "cell_type": "code",
   "execution_count": null,
   "metadata": {
    "vscode": {
     "languageId": "r"
    }
   },
   "outputs": [],
   "source": [
    "options(repr.plot.width=24, repr.plot.height=18)\n",
    "dev.copy(\n",
    "    pdf,\n",
    "    file = paste0(\"results_seurat/cell_assigned/AV_related_genes_in_FBs_and_unknown_2_raw_counts.pdf\"),\n",
    "    width = 10,\n",
    "    height = 18\n",
    "    )\n",
    "    \n",
    "dittoHeatmap(subset(combined_sct,subset =  (cell_type_EC %in% c( 'FB_0','FB_1','FB_2','FB_3','unknown_2' ))), \n",
    "            isGene(AV_related_genes_all,combined_sct, assay = \"RNA\",return.values = TRUE),\n",
    "            assay = \"RNA\",\n",
    "            slot = \"counts\",\n",
    "            annot.by = c(\"cell_type_EC\",\"condition\" ), complex = TRUE,\n",
    "            scaled.to.max = TRUE,\n",
    "            scale = 'row',\n",
    "            use_raster=TRUE,\n",
    "            heatmap.colors = PurpleAndYellow(50),\n",
    "            heatmap.colors.max.scaled = PurpleAndYellow(25),\n",
    "            main = \"AV_related_genes_all in FBs and unknown_2 cells (raw counts)\",\n",
    "    ) %>% print\n",
    "dev.off ()"
   ]
  },
  {
   "cell_type": "markdown",
   "metadata": {
    "vscode": {
     "languageId": "r"
    }
   },
   "source": [
    "# Ligand recepetor analysis using Liana"
   ]
  },
  {
   "cell_type": "code",
   "execution_count": null,
   "metadata": {
    "vscode": {
     "languageId": "r"
    }
   },
   "outputs": [],
   "source": [
    "DefaultAssay(combined_sct) <- \"SCT\"\n",
    "DefaultAssay(combined_sct)"
   ]
  },
  {
   "cell_type": "code",
   "execution_count": null,
   "metadata": {
    "vscode": {
     "languageId": "r"
    }
   },
   "outputs": [],
   "source": [
    "show_homologene()"
   ]
  },
  {
   "cell_type": "code",
   "execution_count": null,
   "metadata": {
    "vscode": {
     "languageId": "r"
    }
   },
   "outputs": [],
   "source": [
    "op_resource <- select_resource(\"Consensus\")[[1]]\n",
    "\n",
    "# Generate orthologous resource\n",
    "ortholog_resource <- generate_homologs(op_resource = op_resource,\n",
    "                                       target_organism = 7955) "
   ]
  },
  {
   "cell_type": "code",
   "execution_count": null,
   "metadata": {
    "vscode": {
     "languageId": "r"
    }
   },
   "outputs": [],
   "source": [
    "liana_mut <- liana_wrap(subset(combined_sct,subset =  (condition %in% c( 'mut' ))), resource = 'custom', # resource has to be set to 'custom' to work with external resources\n",
    "                        external_resource = ortholog_resource)\n",
    "liana_mut %>% dplyr::glimpse()\n",
    "\n",
    "liana_res_mut <- liana_mut %>%\n",
    "  liana_aggregate()\n",
    "\n",
    "liana_res_mut %>%\n",
    "  liana_dotplot(source_groups = c(\"CM_Ventricle\"),\n",
    "                target_groups = c(\"EnC_Valve_cells\", \"CM_AV_canal\"),\n",
    "                ntop = 20)\n",
    "\n",
    "liana_res_mut %>%\n",
    "  liana_dotplot(source_groups = c(\"CM_Atrium\"),\n",
    "                target_groups = c(\"EnC_Valve_cells\", \"CM_AV_canal\"),\n",
    "                ntop = 20)"
   ]
  },
  {
   "cell_type": "code",
   "execution_count": null,
   "metadata": {
    "vscode": {
     "languageId": "r"
    }
   },
   "outputs": [],
   "source": [
    "liana_sib <- liana_wrap(subset(combined_sct,subset =  (condition %in% c( 'sib' ))), resource = 'custom', # resource has to be set to 'custom' to work with external resources\n",
    "                        external_resource = ortholog_resource)\n",
    "liana_sib %>% dplyr::glimpse()\n",
    "\n"
   ]
  },
  {
   "cell_type": "code",
   "execution_count": null,
   "metadata": {
    "vscode": {
     "languageId": "r"
    }
   },
   "outputs": [],
   "source": [
    "liana_res_mut_sig <- liana_res_mut %>% filter(aggregate_rank < 0.05) \n",
    "liana_res_sib_sig <- liana_res_sib %>% filter(aggregate_rank < 0.05)\n",
    "liana_res_mut_sig %>% head\n",
    "liana_res_sib_sig  %>% head"
   ]
  },
  {
   "cell_type": "code",
   "execution_count": 48,
   "metadata": {
    "vscode": {
     "languageId": "r"
    }
   },
   "outputs": [],
   "source": [
    "# add a row to liana_res_mut_sig with source =  CM_AV_canal and target = EnC_3 so that columns are not missing in graphs\n",
    "liana_res_mut_sig_1 <- liana_res_mut_sig %>% add_row(source = \"CM_AV_canal\", target = \"EnC_3\",ligand.complex = \"angpt1\", receptor.complex= \"itga5\")%>% add_row(source = \"CM_AV_canal\", target = \"CM_AV_canal\", ligand.complex = \"fstl1b\", receptor.complex= \"dip2a\")"
   ]
  },
  {
   "cell_type": "code",
   "execution_count": null,
   "metadata": {
    "vscode": {
     "languageId": "r"
    }
   },
   "outputs": [],
   "source": [
    "source <- c( \"CM_Ventricle\", \"CM_Atrium\", \"CM_AV_canal\")\n",
    "target <- c(\"EnC_Valve_cells\", \"EnC_1\", \"EnC_2\", \"EnC_3\", \"EnC_4\")\n",
    "cond <- \"mut\"\n",
    "dev.copy(pdf, paste0(\"results_seurat/cell_assigned/LR_analysis/liana_\", cond,\"_\",  paste0(source, collapse=\"_\"), \"__TO__\", paste0(target,collapse = \"_\"),\"_significant_agg05_15x15_plasma.pdf\", collapse = \"_\"), width = 15, height = 15)\n",
    "liana_res_mut_sig_1 %>%\n",
    "  liana_dotplot(source_groups = source,\n",
    "                target_groups = target,\n",
    "                specificity = \"natmi.edge_specificity\",\n",
    "                magnitude = \"aggregate_rank\",\n",
    "                colour.label = \"Aggregate Rank \\nPval\",\n",
    "                ntop = 20) +\n",
    "                # rotate x axis labels\n",
    "                 theme(axis.text.x = element_text(angle = 45, vjust = 1, hjust=1))+ scale_colour_viridis(option = \"plasma\", direction = 1)\n",
    "dev.off()\n",
    "\n",
    "cond <- \"sib\"\n",
    "\n",
    "dev.copy(pdf, paste0(\"results_seurat/cell_assigned/LR_analysis/liana_\", cond,\"_\",  paste0(source, collapse=\"_\"), \"__TO__\", paste0(target,collapse = \"_\"),\"_significant_agg05_15x15_plasma.pdf\", collapse = \"_\"), width = 15, height = 15)\n",
    "liana_res_sib_sig %>%\n",
    "  liana_dotplot(source_groups = source,\n",
    "                target_groups = target,\n",
    "                specificity = \"natmi.edge_specificity\",\n",
    "                magnitude = \"aggregate_rank\",\n",
    "                colour.label = \"Aggregate Rank \\nPval\",\n",
    "                ntop = 20) +\n",
    "                # rotate x axis labels\n",
    "                 theme(axis.text.x = element_text(angle = 45, vjust = 1, hjust=1))+ scale_colour_viridis(option = \"plasma\", direction = 1)\n",
    "dev.off()"
   ]
  },
  {
   "cell_type": "code",
   "execution_count": null,
   "metadata": {
    "vscode": {
     "languageId": "r"
    }
   },
   "outputs": [],
   "source": [
    "source <- c(\"EnC_Valve_cells\", \"EnC_1\", \"EnC_2\", \"EnC_3\", \"EnC_4\")\n",
    "target <- c( \"CM_Ventricle\", \"CM_Atrium\", \"CM_AV_canal\")\n",
    "cond <- \"mut\"\n",
    "dev.copy(pdf, paste0(\"results_seurat/cell_assigned/LR_analysis/liana_\", cond,\"_\",  paste0(source, collapse=\"_\"), \"__TO__\", paste0(target,collapse = \"_\"),\"_significant_agg05.pdf\", collapse = \"_\"), width = 12, height = 15)\n",
    "liana_res_mut_sig %>%\n",
    "  liana_dotplot(source_groups = source,\n",
    "                target_groups = target,\n",
    "                specificity = \"natmi.edge_specificity\",\n",
    "                magnitude = \"aggregate_rank\",\n",
    "                colour.label = \"Aggregate Rank /npval\",\n",
    "                ntop = 20) +\n",
    "                # rotate x axis labels\n",
    "                 theme(axis.text.x = element_text(angle = 45, vjust = 1, hjust=1))\n",
    "dev.off()\n",
    "\n",
    "cond <- \"sib\"\n",
    "\n",
    "dev.copy(pdf, paste0(\"results_seurat/cell_assigned/LR_analysis/liana_\", cond,\"_\",  paste0(source, collapse=\"_\"), \"__TO__\", paste0(target,collapse = \"_\"),\"_significant_agg05.pdf\", collapse = \"_\"), width = 12, height = 15)\n",
    "liana_res_sib_sig %>%\n",
    "  liana_dotplot(source_groups = source,\n",
    "                target_groups = target,\n",
    "                specificity = \"natmi.edge_specificity\",\n",
    "                magnitude = \"aggregate_rank\",\n",
    "                colour.label = \"Aggregate Rank /npval\",\n",
    "                ntop = 20) +\n",
    "                # rotate x axis labels\n",
    "                 theme(axis.text.x = element_text(angle = 45, vjust = 1, hjust=1))\n",
    "dev.off()"
   ]
  },
  {
   "cell_type": "code",
   "execution_count": 117,
   "metadata": {
    "vscode": {
     "languageId": "r"
    }
   },
   "outputs": [],
   "source": [
    "write.csv(liana_res_mut, file = \"results_seurat/cell_assigned/LR_analysis/liana_mut.csv\")\n",
    "write.csv(liana_res_sib, file = \"results_seurat/cell_assigned/LR_analysis/liana_sib.csv\")\n",
    "\n",
    "write.csv(liana_res_mut_sig, file = \"results_seurat/cell_assigned/LR_analysis/liana_mut_sig_agg05.csv\")\n",
    "write.csv(liana_res_sib_sig, file = \"results_seurat/cell_assigned/LR_analysis/liana_sib_sig_agg05.csv\")"
   ]
  },
  {
   "cell_type": "markdown",
   "metadata": {},
   "source": [
    "# Other Figures for Paper"
   ]
  },
  {
   "cell_type": "code",
   "execution_count": 6,
   "metadata": {
    "vscode": {
     "languageId": "r"
    }
   },
   "outputs": [],
   "source": [
    "# in cell_type_EC change unknown_1 to “neuronal progenitors” and unkown 2 to “chondrocytes\"\n",
    "combined_sct@meta.data$cell_type_EC[combined_sct@meta.data$cell_type_EC== \"unknown_1\"] <- \"Neuronal_Progenitors\"\n",
    "combined_sct@meta.data$cell_type_EC[combined_sct@meta.data$cell_type_EC== \"unknown_2\"] <- \"Chondrocytes\""
   ]
  },
  {
   "cell_type": "code",
   "execution_count": null,
   "metadata": {
    "vscode": {
     "languageId": "r"
    }
   },
   "outputs": [],
   "source": [
    "factor(combined_sct@meta.data$cell_type_EC, levels = sort(unique(combined_sct@meta.data$cell_type_EC))) %>% head"
   ]
  },
  {
   "cell_type": "code",
   "execution_count": 8,
   "metadata": {
    "vscode": {
     "languageId": "r"
    }
   },
   "outputs": [],
   "source": [
    "combined_sct@meta.data$cell_type_EC <- factor(combined_sct@meta.data$cell_type_EC, levels = sort(unique(combined_sct@meta.data$cell_type_EC)))"
   ]
  },
  {
   "cell_type": "code",
   "execution_count": null,
   "metadata": {
    "vscode": {
     "languageId": "r"
    }
   },
   "outputs": [],
   "source": [
    "combined_sct@meta.data <- combined_sct@meta.data[match(names(Idents(combined_sct)),rownames(combined_sct@meta.data)),] \n",
    "combined_sct@meta.data %>% head\n",
    "Idents(combined_sct)  %>% head"
   ]
  },
  {
   "cell_type": "code",
   "execution_count": 11,
   "metadata": {
    "vscode": {
     "languageId": "r"
    }
   },
   "outputs": [],
   "source": [
    "Idents(combined_sct)  <- \"cell_type_EC\""
   ]
  },
  {
   "cell_type": "code",
   "execution_count": null,
   "metadata": {
    "vscode": {
     "languageId": "r"
    }
   },
   "outputs": [],
   "source": [
    "dir.create(\"results_seurat/cell_assigned/figures/\", showWarnings = FALSE)\n",
    "dev.copy(pdf, \"results_seurat/cell_assigned/figures/umap_subclusters_25072023_nolabel.pdf\", \n",
    "width = 20, height = 12)\n",
    "\n",
    "\n",
    "# DimPlot(combined_sct, reduction = \"umap\",label = TRUE, repel = TRUE, label.size=6, pt.size=1\n",
    "# ) + geom_text_repel( max.overlaps = 20)+NoLegend()\n",
    "\n",
    "dittoDimPlot(object = combined_sct, var= \"ident\", reduction = \"umap\", do.label= FALSE, labels.repel= TRUE, labels.size = 6, labels.highlight = FALSE, do.raster= FALSE, color.panel = paletteer_d(\"ggthemes::Tableau_20\", n=length(unique(combined_sct@meta.data$cell_type_EC))))\n",
    "dev.off ()"
   ]
  },
  {
   "cell_type": "code",
   "execution_count": 43,
   "metadata": {
    "vscode": {
     "languageId": "r"
    }
   },
   "outputs": [],
   "source": [
    "Idents(combined_sct) <- as.character(combined_sct@meta.data$cell_type_FB)"
   ]
  },
  {
   "cell_type": "code",
   "execution_count": 32,
   "metadata": {
    "vscode": {
     "languageId": "r"
    }
   },
   "outputs": [],
   "source": [
    "combined_sct@meta.data$cell_type_FB <- factor(combined_sct@meta.data$cell_type_FB, levels = c(unique(sort(combined_sct@meta.data$cell_type_FB))))"
   ]
  },
  {
   "cell_type": "markdown",
   "metadata": {},
   "source": [
    "## Markers for ECs"
   ]
  },
  {
   "cell_type": "code",
   "execution_count": null,
   "metadata": {
    "vscode": {
     "languageId": "r"
    }
   },
   "outputs": [],
   "source": [
    "EnC_cells <- subset(combined_sct, subset= (cell_type_EC%in% c(\"EnC_1\",\"EnC_2\", \"EnC_3\", \"EnC_4\", \"EnC_Valve_cells\")))\n",
    "EnC_cells\n",
    "EnC_cells@meta.data$cell_type_EC <- factor(EnC_cells@meta.data$cell_type_EC, levels = unique(sort(EnC_cells@meta.data$cell_type_EC)))\n",
    "EnC_cells@meta.data$cell_type_EC %>% head\n",
    "\n",
    "EnC_cells@meta.data$condition <- factor(EnC_cells@meta.data$condition, levels = c(\"sib\", \"mut\"))\n",
    "EnC_cells@meta.data$condition %>% head\n",
    "\n",
    "Idents(EnC_cells)  <-  factor(EnC_cells@meta.data$cell_type_EC, levels= sort(unique(EnC_cells@meta.data$cell_type_EC), decreasing = FALSE))\n",
    "Idents(EnC_cells) %>% head\n",
    "# Idents(EnC_cells) %>% unique"
   ]
  },
  {
   "cell_type": "code",
   "execution_count": null,
   "metadata": {
    "vscode": {
     "languageId": "r"
    }
   },
   "outputs": [],
   "source": [
    "Idents(EnC_cells)  <-  factor(EnC_cells@meta.data$cell_type_EC, levels= sort(unique(EnC_cells@meta.data$cell_type_FB)))\n",
    "Idents(EnC_cells) %>% head"
   ]
  },
  {
   "cell_type": "code",
   "execution_count": null,
   "metadata": {
    "vscode": {
     "languageId": "r"
    }
   },
   "outputs": [],
   "source": [
    "options(repr.plot.width=10, repr.plot.height=8)\n",
    "dev.copy(\n",
    "    pdf,\n",
    "    file = paste0(\"results_seurat/cell_assigned/figures/EnC_cells_markers_dot_plot_magma_reordered_25072023_alphabetical_reversed.pdf\"),\n",
    "    width = 12,\n",
    "    height = 8\n",
    "    )\n",
    "DotPlot(object = EnC_cells, features = c(\"id2b\", \"egfl7\", \"esama\", \"doc2b\", \"hapln1b\", \"ednraa\", \"zfpm1\", \"slit3\", \"spp1\", \"hand2\", \"notch1b\", \"fn1a\", \"dchs1b\", \"alcama\", \"col5a1\", \"col1a1a\", \"cdh5\", \"thbs1a\", \"has2\", \"klf2a\", \"sdc2\", \"postnb\", \"mylka\", \"ryr1b\", \"col1a1b\", \"tie1\", \"vcana\", \"rtn4a\", \"tgfb2\", \"elnb\", \"zfpm2b\", \"smad6b\", \"crip2\", \"col1a2\", \"postna\", \"nrp1a\"), dot.min=0, dot.scale = 10, scale.min = 0, scale.max = 75)+ scale_color_viridis(option = \"magma\",direction = -1)+ RotatedAxis()\n",
    "#cols=c(  \"blue\", \"red\"),\n",
    "dev.off()"
   ]
  },
  {
   "cell_type": "markdown",
   "metadata": {},
   "source": [
    "## Violin plot for notch1b"
   ]
  },
  {
   "cell_type": "code",
   "execution_count": null,
   "metadata": {
    "vscode": {
     "languageId": "r"
    }
   },
   "outputs": [],
   "source": [
    "\n",
    "options(repr.plot.width=8, repr.plot.height=10)\n",
    "dev.copy(\n",
    "    pdf,\n",
    "    file = paste0(\"results_seurat/cell_assigned/figures/EnC_cells_Notch1b_dittovln_no_box_mut_sib_11102023.pdf\"),\n",
    "    width = 9,\n",
    "    height = 6\n",
    "    )\n",
    "dittoPlot(object = EnC_cells, var = c(\"notch1b\"), group.by = \"condition\", split.by = \"cell_type_EC\",\n",
    "plots=c(\"vlnplot\", \"jitter\"), split.nrow =1 )\n",
    "dev.off()"
   ]
  },
  {
   "cell_type": "markdown",
   "metadata": {},
   "source": [
    "## CM markers"
   ]
  },
  {
   "cell_type": "code",
   "execution_count": null,
   "metadata": {
    "vscode": {
     "languageId": "r"
    }
   },
   "outputs": [],
   "source": [
    "options(repr.plot.width=10, repr.plot.height=8)\n",
    "dev.copy(\n",
    "    pdf,\n",
    "    file = paste0(\"results_seurat/cell_assigned/figures/CM_cells_markers_dot_plot_new_24072023.pdf\"),\n",
    "    width = 12,\n",
    "    height = 8\n",
    "    )\n",
    "DotPlot(object = EnC_CM_BAcells, features = c(\"alcama\", \"bmpr2b\", \"cd9a\", \"col1a1a\", \"col1a2\", \"desma\", \"doc2b\", \"ednraa\", \"esama\", \"fn1a\", \"hapln1b\", \"mybpc3\", \"notch1b\", \"nrp2a\", \"nrp2b\", \"piezo1\", \"piezo2a.2\", \"postnb\", \"ptpn13\", \"robo1\", \"tgfb2\", \"zfpm1\", \"zfpm2b\"), cols=c(  \"blue\", \"red\"))+ RotatedAxis()\n",
    "dev.off()"
   ]
  },
  {
   "cell_type": "code",
   "execution_count": null,
   "metadata": {
    "vscode": {
     "languageId": "r"
    }
   },
   "outputs": [],
   "source": [
    "options(repr.plot.width=10, repr.plot.height=8)\n",
    "dev.copy(\n",
    "    pdf,\n",
    "    file = paste0(\"results_seurat/cell_assigned/figures/CM_EnC_cells_markers_dot_plot_new_24072023.pdf\"),\n",
    "    width = 12,\n",
    "    height = 8\n",
    "    )\n",
    "DotPlot(object = EnC_CM_BAcells, features = c(\"elnb\", \"mylka\", \"nrp1a\", \"tgfb2\", \"fn1a\", \"notch1b\", \"ednraa\", \"smad6b\", \"alcama\", \"cdh5\", \"col1a1a\", \"col5a1\", \"dchs1b\", \"hand2\", \"has2\", \"klf2a\", \"spp1\", \"thbs1a\", \"col1a1b\", \"postnb\", \"rtn4a\", \"ryr1b\", \"sdc2\", \"tie1\", \"vcana\", \"col1a2\", \"crip2\", \"postna\", \"slit3\", \"zfpm1\", \"zfpm2b\", \"doc2b\", \"egfl7\", \"esama\", \"hapln1b\", \"id2b\", \"bmpr2b\", \"cd9a\", \"desma\", \"mybpc3\", \"nrp2a\", \"nrp2b\", \"piezo1\", \"piezo2a.2\", \"ptpn13\", \"robo1\"), cols=c(  \"blue\", \"red\"))+ RotatedAxis()\n",
    "dev.off()"
   ]
  },
  {
   "cell_type": "code",
   "execution_count": null,
   "metadata": {
    "vscode": {
     "languageId": "r"
    }
   },
   "outputs": [],
   "source": [
    "options(repr.plot.width=12, repr.plot.height=18)\n",
    "dev.copy(\n",
    "    pdf,\n",
    "    file = paste0(\"results_seurat/cell_assigned/figures/CM_EnC_cells_markers_violin_plot_new_24072023.pdf\"),\n",
    "    width = 12,\n",
    "    height = 18\n",
    "    )\n",
    "VlnPlot(object = EnC_CM_BAcells, features = c(\"elnb\", \"mylka\", \"nrp1a\", \"tgfb2\", \"fn1a\", \"notch1b\", \"ednraa\", \"smad6b\", \"alcama\", \"cdh5\", \"col1a1a\", \"col5a1\", \"dchs1b\", \"hand2\", \"has2\", \"klf2a\", \"spp1\", \"thbs1a\", \"col1a1b\", \"postnb\", \"rtn4a\", \"ryr1b\", \"sdc2\", \"tie1\", \"vcana\", \"col1a2\", \"crip2\", \"postna\", \"slit3\", \"zfpm1\", \"zfpm2b\", \"doc2b\", \"egfl7\", \"esama\", \"hapln1b\", \"id2b\", \"bmpr2b\", \"cd9a\", \"desma\", \"mybpc3\", \"nrp2a\", \"nrp2b\", \"piezo1\", \"piezo2a.2\", \"ptpn13\", \"robo1\"), stack = TRUE, flip = TRUE, add.noise = FALSE, same.y.lims = TRUE)+NoLegend()\n",
    "dev.off()"
   ]
  },
  {
   "cell_type": "markdown",
   "metadata": {},
   "source": [
    "## All cell makers"
   ]
  },
  {
   "cell_type": "code",
   "execution_count": null,
   "metadata": {
    "vscode": {
     "languageId": "r"
    }
   },
   "outputs": [],
   "source": [
    "Idents(combined_sct)  <-  factor(combined_sct@meta.data$cell_type_EC, levels= sort(unique(combined_sct@meta.data$cell_type_EC), decreasing = TRUE))\n",
    "Idents(combined_sct) %>% head"
   ]
  },
  {
   "cell_type": "code",
   "execution_count": null,
   "metadata": {
    "vscode": {
     "languageId": "r"
    }
   },
   "outputs": [],
   "source": [
    "options(repr.plot.width=18, repr.plot.height=12)\n",
    "dev.copy(\n",
    "    pdf,\n",
    "    file = paste0(\"results_seurat/cell_assigned/figures/All_cells_markers_dot_plot_magma_25072023_alphabetical_reversed.pdf\"),\n",
    "    width = 18,\n",
    "    height = 12\n",
    "    )\n",
    "DotPlot(object = combined_sct, features = c(\"col11a2\", \"col2a1a\", \"col9a1a\",\"myh6\", \"smtnl1\", \"rgs6\", \"myh7\", \"slc25a5\", \"rpl30\", \"cacna1g\", \"sorbs1\", \"mybpc3\", \"adcy2b\", \"vwf\", \"grb10a\", \"nrg2a\", \"ABR\", \"f8\", \"tbx2a\", \"smad6b\", \"abi3bpb\", \"uqcc2\", \"tpst1l\", \"fam169aa\", \"rspo2\", \"nrg1\", \"notch1b\", \"tbx18\", \"ebf3a.1\", \"podxl\", \"cyt1\", \"krt4\", \"tnks1bp1\", \"hbbe1.3\", \"hbae3\", \"hbae1.1\", \"auts2a\", \"col1a1b\", \"ebf3a\", \"kpna2\", \"mki67\", \"aspm\", \"tnnt3b\", \"neb\", \"myhb\", \"elnb\", \"lsp1a\", \"fbln5\", \"rbfox1\", \"pbx3b\", \"GALNTL6\", \"acsbg1\", \"ankrd33ba\", \"slc25a26\"), dot.min=0, dot.scale = 10, scale.min = 0, scale.max = 100)+ scale_color_viridis(option = \"magma\",direction = -1)+ RotatedAxis()\n",
    "dev.off()"
   ]
  },
  {
   "cell_type": "code",
   "execution_count": null,
   "metadata": {
    "vscode": {
     "languageId": "r"
    }
   },
   "outputs": [],
   "source": [
    "CM_cells <- subset(combined_sct, subset= (cell_type_EC%in% c( \"CM_Atrium\",\"CM_AV_canal\",\"CM_Ventricle\")))\n",
    "# CM_cells\n",
    "CM_cells@meta.data$cell_type_EC %>% unique\n",
    "Idents(CM_cells) %>% unique\n",
    "Idents(CM_cells)  <-  factor(CM_cells@meta.data$cell_type_EC, levels= sort(unique(CM_cells@meta.data$cell_type_EC, decreasing=TRUE)))\n",
    "Idents(CM_cells)  <-  factor(CM_cells@meta.data$cell_type_EC, levels= sort(unique(CM_cells@meta.data$cell_type_EC), decreasing = TRUE))\n",
    "Idents(CM_cells) %>% head"
   ]
  },
  {
   "cell_type": "code",
   "execution_count": null,
   "metadata": {
    "vscode": {
     "languageId": "r"
    }
   },
   "outputs": [],
   "source": [
    "options(repr.plot.width=10, repr.plot.height=8)\n",
    "dev.copy(\n",
    "    pdf,\n",
    "    file = paste0(\"results_seurat/cell_assigned/figures/CM_cells_markers_dot_plot_new_magma_25072023_alphabetical_reversed.pdf\"),\n",
    "    width = 10,\n",
    "    height = 8\n",
    "    )\n",
    "DotPlot(object = CM_cells, features = c(\"ptpn13\", \"mybpc3\", \"zfpm1\", \"alcama\", \"nrp2b\", \"zfpm2b\", \"cd9a\", \"piezo2a.2\", \"esama\", \"nrp2a\", \"bmpr2b\", \"postnb\", \"col1a1a\", \"robo1\", \"hapln1b\", \"notch1b\", \"ednraa\", \"col1a2\", \"fn1a\", \"doc2b\", \"tgfb2\", \"desma\", \"piezo1\"),dot.min=0, dot.scale = 10, scale.min = 0, scale.max = 75)+ scale_colour_viridis(option=\"magma\", direction = -1) + RotatedAxis()\n",
    "dev.off()"
   ]
  },
  {
   "cell_type": "markdown",
   "metadata": {},
   "source": [
    "## Cell Number Graph"
   ]
  },
  {
   "cell_type": "code",
   "execution_count": null,
   "metadata": {
    "vscode": {
     "languageId": "r"
    }
   },
   "outputs": [],
   "source": [
    "cell_type_cond_numbers <- table(combined_sct@meta.data$cell_type_EC, combined_sct@meta.data$condition)\n",
    "cell_type_cond_numbers <- as.data.frame(cell_type_cond_numbers)\n",
    "cell_type_cond_numbers <- cell_type_cond_numbers %>% dplyr::rename(cell_type = Var1, sample_name = Var2)\n",
    "cell_type_cond_numbers$sample_name <- factor(cell_type_cond_numbers$sample_name, levels = c(\"sib\",\"mut\"))\n",
    "# cell_type_cond_numbers %>% write.csv(\"results_seurat/cell_type_cond_numbers_neuronal_prog.csv\")\n",
    "cell_type_cond_numbers"
   ]
  },
  {
   "cell_type": "code",
   "execution_count": null,
   "metadata": {
    "vscode": {
     "languageId": "r"
    }
   },
   "outputs": [],
   "source": [
    "# calculate the percentage of cell in each cell type according to condition\n",
    "cell_type_percentages_cond <- prop.table(table(combined_sct@meta.data$cell_type_EC, combined_sct@meta.data$condition))*100\n",
    "cell_type_percentages_cond <- as.data.frame(cell_type_percentages_cond)\n",
    "cell_type_percentages_cond %>% head\n",
    "cell_type_percentages_cond <- cell_type_percentages_cond %>% dplyr::rename(cell_type = Var1, condition = Var2)\n",
    "cell_type_percentages_cond$condition <- factor(cell_type_percentages_cond$condition, levels = c(\"sib\",\"mut\"))"
   ]
  },
  {
   "cell_type": "code",
   "execution_count": null,
   "metadata": {
    "vscode": {
     "languageId": "r"
    }
   },
   "outputs": [],
   "source": [
    "# calculate the percentage of cell in each cell type according to condition\n",
    "cell_type_percentages_cond <- prop.table(table(combined_sct@meta.data$cell_type_EC, combined_sct@meta.data$condition))*100\n",
    "cell_type_percentages_cond <- as.data.frame(cell_type_percentages_cond)\n",
    "cell_type_percentages_cond %>% head\n",
    "cell_type_percentages_cond <- cell_type_percentages_cond %>% dplyr::rename(cell_type = Var1, condition = Var2)\n",
    "cell_type_percentages_cond$condition <- factor(cell_type_percentages_cond$condition, levels = c(\"sib\",\"mut\"))\n",
    "cell_type_percentages_cond %>% write.csv(\"results_seurat/cell_type_percentages_cond_neuronal_prog.csv\")\n",
    "cell_type_percentages_cond %>% head\n",
    "# plot these percentages using ggplot2\n",
    "# save the graph as a pdf file\n",
    "dev.copy(pdf, \"results_seurat/cell_type_percentages_cond_normalized_neuronal_prog_pattern_flipped.pdf\", width = 10, height = 10)\n",
    "# ggplot(cell_type_percentages_cond, aes(x = cell_type, y = Freq, fill = condition)) +\n",
    "#   geom_bar(stat = \"identity\", position = \"fill\") +\n",
    "#   theme(axis.text.x = element_text(angle = 90, hjust = 1, vjust=0.5)) +\n",
    "#   labs(x = \"Condition\", y = \"Percentage of cells\", fill = \"Cell type\") \n",
    "ggplot(cell_type_percentages_cond, aes(x = cell_type, y = Freq, fill = cell_type, pattern=condition)) +\n",
    "  scale_colour_paletteer_d(\"ggthemes::Tableau_20\")+\n",
    "  scale_fill_paletteer_d(\"ggthemes::Tableau_20\")+\n",
    "  geom_bar_pattern(\n",
    "  # aes(pattern_colour= cell_type),\n",
    "  colour= '#5e5d5d',\n",
    "  pattern_fill= '#4d4d4d',\n",
    "  pattern_alpha=0.2,\n",
    "  pattern_angle= 0,\n",
    "  stat = \"identity\", position = \"fill\",   pattern_spacing= 0.01) +\n",
    "  scale_pattern_manual(values=c('none', 'crosshatch')) +\n",
    "  theme_bw()+\n",
    "  theme(axis.text.x = element_text(angle = 90, hjust = 1, vjust=0.5)) +\n",
    "  labs(x = \"Condition\", y = \"Percentage of cells\", fill = \"Cell type\")+coord_flip()\n",
    "  dev.off()"
   ]
  },
  {
   "cell_type": "code",
   "execution_count": null,
   "metadata": {
    "vscode": {
     "languageId": "r"
    }
   },
   "outputs": [],
   "source": [
    "# calculate the percentage of cell in each cell type according to condition\n",
    "# plot these percentages using ggplot2\n",
    "# save the graph as a pdf file\n",
    "dev.copy(pdf, \"results_seurat/cell_type_percentages_cond_neuronal_prog_pattern_flipped.pdf\", width = 10, height = 10)\n",
    "\n",
    "ggplot(cell_type_percentages_cond, aes(x = cell_type, y = Freq, fill = cell_type, pattern=condition)) +\n",
    "  scale_colour_paletteer_d(\"ggthemes::Tableau_20\")+\n",
    "  scale_fill_paletteer_d(\"ggthemes::Tableau_20\")+\n",
    "  geom_bar_pattern(\n",
    "  # aes(pattern_colour= cell_type),\n",
    "  colour= '#5e5d5d',\n",
    "  pattern_fill= '#4d4d4d',\n",
    "  pattern_alpha=0.2,\n",
    "  pattern_angle= 0,\n",
    "  stat = \"identity\", position = \"dodge\",   pattern_spacing= 0.01) +\n",
    "  scale_pattern_manual(values=c('none', 'crosshatch')) +\n",
    "  theme_bw()+\n",
    "  theme(axis.text.x = element_text(angle = 90, hjust = 1, vjust=0.5)) +\n",
    "  labs(x = \"Condition\", y = \"Percentage of cells\", fill = \"Cell type\")+coord_flip()\n",
    "  dev.off()"
   ]
  },
  {
   "cell_type": "markdown",
   "metadata": {},
   "source": [
    "## Sankey diagram for pathways"
   ]
  },
  {
   "cell_type": "code",
   "execution_count": null,
   "metadata": {
    "vscode": {
     "languageId": "r"
    }
   },
   "outputs": [],
   "source": [
    "GSE_pathways_files <- list.files(path = \"results_seurat/cell_assigned/pathways_DEG_pval05_GSE/Cellular_component\", pattern = \"*.csv\", full.names = TRUE)\n",
    "GSE_pathways_files"
   ]
  },
  {
   "cell_type": "code",
   "execution_count": null,
   "metadata": {
    "vscode": {
     "languageId": "r"
    }
   },
   "outputs": [],
   "source": [
    "GSE_names <- gsub(\"results_seurat/cell_assigned/pathways_DEG_pval05_GSE/Cellular_component/\", \"\", GSE_pathways_files)\n",
    "GSE_names <- gsub(\"_gse_GO_CC_pathways_pval05.csv\", \"\", GSE_names)\n",
    "GSE_names\n",
    "names(GSE_pathways_files) <- GSE_names\n",
    "GSE_pathways_files"
   ]
  },
  {
   "cell_type": "code",
   "execution_count": null,
   "metadata": {
    "vscode": {
     "languageId": "r"
    }
   },
   "outputs": [],
   "source": [
    "pathway_rbind <- purrr::map_df(GSE_pathways_files, \n",
    "                              read.csv, .id = 'id')\n",
    "pathway_rbind$id <- gsub('unknown_2', 'Neuronal_progentiors', pathway_rbind$id)\n",
    "pathway_rbind$id <- gsub('unknown_1', 'Neurons', pathway_rbind$id)\n",
    "pathway_rbind %>% head()\n",
    "pathway_rbind %>% dim()\n",
    "pathway_rbind %>% distinct(id) \n",
    "pathway_rbind %>% distinct(Description)\n",
    "pathway_rbind %>% distinct(Description) %>% as.character()"
   ]
  },
  {
   "cell_type": "code",
   "execution_count": null,
   "metadata": {
    "vscode": {
     "languageId": "r"
    }
   },
   "outputs": [],
   "source": [
    "cell_type <- combined_sct@meta.data$cell_type_EC %>% unique\n",
    "cell_type"
   ]
  },
  {
   "cell_type": "code",
   "execution_count": 36,
   "metadata": {
    "vscode": {
     "languageId": "r"
    }
   },
   "outputs": [],
   "source": [
    "lysosome_related_pathways <- c(\"endosome\", \"lysosome\",\"lytic vacuole\",\"vacuole\",\"vacuolar membrane\", \"late endosome\", \"plasma membrane protein complex\"        ) #, \"vesicle\", \"intracellular vesicle\", "
   ]
  },
  {
   "cell_type": "code",
   "execution_count": null,
   "metadata": {
    "vscode": {
     "languageId": "r"
    }
   },
   "outputs": [],
   "source": [
    "pathway_numbers_selected <-pathway_rbind %>% filter(Description %in% lysosome_related_pathways) \n",
    "pathway_numbers_sankey <- pathway_numbers_selected %>% \n",
    "add_row(id=cell_type[!(cell_type %in% .$id)]) %>% \n",
    "make_long(id, Description)\n",
    "\n",
    "pathway_numbers_sankey <- pathway_numbers_sankey %>% dplyr::arrange(next_node,node) \n",
    "\n",
    "pathway_numbers_sankey$node <- factor(pathway_numbers_sankey$node, levels = c(as.character(cell_type[order(cell_type, decreasing = TRUE)]),lysosome_related_pathways))\n",
    "\n",
    "pathway_numbers_sankey$x <- gsub(\"id\", \"Cell Type\", pathway_numbers_sankey$x)\n",
    "pathway_numbers_sankey$x <- gsub(\"Description\", \"Pathway\", pathway_numbers_sankey$x)\n",
    "\n",
    "pathway_numbers_sankey <- pathway_numbers_sankey %>% filter(!is.na(node))\n",
    "\n",
    "p <- ggplot(pathway_numbers_sankey, aes(x = x, \n",
    "               next_x = next_x, \n",
    "               node = node, \n",
    "               next_node = next_node,\n",
    "               fill=node,\n",
    "               label = node\n",
    "            )\n",
    "               ) +\n",
    "  geom_sankey(width=0.05, flow.alpha = .6, type= \"sankey\") +\n",
    "   \n",
    "  theme_sankey(base_size = 32) +\n",
    "  theme(legend.position = \"none\")+\n",
    "NULL\n",
    "dev.copy(pdf, \"results_seurat/cell_assigned/figures/pathway_sankey_graph_labels_gse_resordered_nolablels.pdf\", width = 15, height = 15)\n",
    "print(p)\n",
    "dev.off()"
   ]
  },
  {
   "cell_type": "code",
   "execution_count": null,
   "metadata": {
    "vscode": {
     "languageId": "r"
    }
   },
   "outputs": [],
   "source": []
  },
  {
   "attachments": {},
   "cell_type": "markdown",
   "metadata": {
    "vscode": {
     "languageId": "r"
    }
   },
   "source": [
    "# Save Rdata and write session info"
   ]
  },
  {
   "cell_type": "code",
   "execution_count": 38,
   "metadata": {
    "vscode": {
     "languageId": "r"
    }
   },
   "outputs": [],
   "source": [
    "save.image(file = \"Myra_spns_snRNAseq_26052023_mt_removed_seurat_integration_25072023.RData\")"
   ]
  },
  {
   "cell_type": "code",
   "execution_count": 5,
   "metadata": {
    "vscode": {
     "languageId": "r"
    }
   },
   "outputs": [],
   "source": [
    "load(\"Myra_spns_snRNAseq_26052023_mt_removed_seurat_integration_25072023.RData\")"
   ]
  },
  {
   "cell_type": "code",
   "execution_count": 58,
   "metadata": {
    "vscode": {
     "languageId": "r"
    }
   },
   "outputs": [
    {
     "data": {
      "text/plain": [
       "R version 4.3.1 (2023-06-16)\n",
       "Platform: x86_64-pc-linux-gnu (64-bit)\n",
       "Running under: Ubuntu 22.04.2 LTS\n",
       "\n",
       "Matrix products: default\n",
       "BLAS:   /usr/lib/x86_64-linux-gnu/blas/libblas.so.3.10.0 \n",
       "LAPACK: /usr/lib/x86_64-linux-gnu/lapack/liblapack.so.3.10.0\n",
       "\n",
       "Random number generation:\n",
       " RNG:     L'Ecuyer-CMRG \n",
       " Normal:  Inversion \n",
       " Sample:  Rejection \n",
       " \n",
       "locale:\n",
       " [1] LC_CTYPE=en_US.UTF-8       LC_NUMERIC=C              \n",
       " [3] LC_TIME=de_CH.UTF-8        LC_COLLATE=en_US.UTF-8    \n",
       " [5] LC_MONETARY=de_CH.UTF-8    LC_MESSAGES=en_US.UTF-8   \n",
       " [7] LC_PAPER=de_CH.UTF-8       LC_NAME=C                 \n",
       " [9] LC_ADDRESS=C               LC_TELEPHONE=C            \n",
       "[11] LC_MEASUREMENT=de_CH.UTF-8 LC_IDENTIFICATION=C       \n",
       "\n",
       "time zone: Europe/Zurich\n",
       "tzcode source: system (glibc)\n",
       "\n",
       "attached base packages:\n",
       "[1] stats4    stats     graphics  grDevices utils     datasets  methods  \n",
       "[8] base     \n",
       "\n",
       "other attached packages:\n",
       " [1] viridis_0.6.3               viridisLite_0.4.2          \n",
       " [3] liana_0.1.12                future_1.33.0              \n",
       " [5] ggpattern_1.1.0-0           paletteer_1.5.0            \n",
       " [7] ggrepel_0.9.3               dittoSeq_1.12.0            \n",
       " [9] clusterProfiler_4.8.1       Libra_1.0.0                \n",
       "[11] repr_1.1.6                  BiocParallel_1.34.2        \n",
       "[13] harmony_0.1.1               Rcpp_1.0.11                \n",
       "[15] patchwork_1.1.2             scDblFinder_1.14.0         \n",
       "[17] SingleCellExperiment_1.22.0 SummarizedExperiment_1.30.2\n",
       "[19] Biobase_2.60.0              GenomicRanges_1.52.0       \n",
       "[21] GenomeInfoDb_1.36.1         IRanges_2.34.1             \n",
       "[23] S4Vectors_0.38.1            BiocGenerics_0.46.0        \n",
       "[25] MatrixGenerics_1.12.2       matrixStats_1.0.0          \n",
       "[27] SeuratObject_4.1.3          Seurat_4.3.0.1             \n",
       "[29] lubridate_1.9.2             forcats_1.0.0              \n",
       "[31] stringr_1.5.0               dplyr_1.1.2                \n",
       "[33] purrr_1.0.1                 readr_2.1.4                \n",
       "[35] tidyr_1.3.0                 tibble_3.2.1               \n",
       "[37] ggplot2_3.4.2               tidyverse_2.0.0            \n",
       "\n",
       "loaded via a namespace (and not attached):\n",
       "  [1] progress_1.2.2            goftest_1.2-3            \n",
       "  [3] Biostrings_2.68.1         vctrs_0.6.3              \n",
       "  [5] spatstat.random_3.1-5     shape_1.4.6              \n",
       "  [7] digest_0.6.32             png_0.1-8                \n",
       "  [9] OmnipathR_3.9.6           IRdisplay_1.1            \n",
       " [11] deldir_1.0-9              parallelly_1.36.0        \n",
       " [13] MASS_7.3-60               reshape2_1.4.4           \n",
       " [15] httpuv_1.6.11             foreach_1.5.2            \n",
       " [17] qvalue_2.32.0             withr_2.5.0              \n",
       " [19] xfun_0.39                 ggfun_0.0.9              \n",
       " [21] ellipsis_0.3.2            survival_3.5-5           \n",
       " [23] memoise_2.0.1             ggbeeswarm_0.7.2         \n",
       " [25] gson_0.1.0                tidytree_0.4.2           \n",
       " [27] zoo_1.8-12                GlobalOptions_0.1.2      \n",
       " [29] pbapply_1.7-2             IRkernel_1.3.2           \n",
       " [31] prettyunits_1.1.1         rematch2_2.1.2           \n",
       " [33] KEGGREST_1.40.0           promises_1.2.0.1         \n",
       " [35] httr_1.4.6                downloader_0.4           \n",
       " [37] restfulr_0.0.15           globals_0.16.2           \n",
       " [39] fitdistrplus_1.1-11       miniUI_0.1.1.1           \n",
       " [41] generics_0.1.3            DOSE_3.26.1              \n",
       " [43] base64enc_0.1-3           dir.expiry_1.8.0         \n",
       " [45] curl_5.0.1                zlibbioc_1.46.0          \n",
       " [47] ScaledMatrix_1.8.1        ggraph_2.1.0             \n",
       " [49] polyclip_1.10-4           GenomeInfoDbData_1.2.10  \n",
       " [51] xtable_1.8-4              doParallel_1.0.17        \n",
       " [53] evaluate_0.21             S4Arrays_1.0.4           \n",
       " [55] hms_1.1.3                 irlba_2.3.5.1            \n",
       " [57] colorspace_2.1-0          filelock_1.0.2           \n",
       " [59] ROCR_1.0-11               readxl_1.4.2             \n",
       " [61] reticulate_1.30           spatstat.data_3.0-1      \n",
       " [63] magrittr_2.0.3            lmtest_0.9-40            \n",
       " [65] later_1.3.1               ggtree_3.8.0             \n",
       " [67] lattice_0.21-8            spatstat.geom_3.2-2      \n",
       " [69] future.apply_1.11.0       scattermore_1.2          \n",
       " [71] XML_3.99-0.14             scuttle_1.10.1           \n",
       " [73] shadowtext_0.1.2          cowplot_1.1.1            \n",
       " [75] RcppAnnoy_0.0.21          pillar_1.9.0             \n",
       " [77] nlme_3.1-162              iterators_1.0.14         \n",
       " [79] compiler_4.3.1            beachmat_2.16.0          \n",
       " [81] stringi_1.7.12            tensor_1.5               \n",
       " [83] minqa_1.2.5               GenomicAlignments_1.36.0 \n",
       " [85] plyr_1.8.8                crayon_1.5.2             \n",
       " [87] abind_1.4-5               BiocIO_1.10.0            \n",
       " [89] scater_1.28.0             blme_1.0-5               \n",
       " [91] gridGraphics_0.5-1        locfit_1.5-9.8           \n",
       " [93] sp_2.0-0                  graphlayouts_1.0.0       \n",
       " [95] bit_4.0.5                 fastmatch_1.1-3          \n",
       " [97] codetools_0.2-19          BiocSingular_1.16.0      \n",
       " [99] GetoptLong_1.0.5          plotly_4.10.2            \n",
       "[101] mime_0.12                 splines_4.3.1            \n",
       "[103] circlize_0.4.15           basilisk_1.13.2          \n",
       "[105] sparseMatrixStats_1.12.2  HDO.db_0.99.1            \n",
       "[107] cellranger_1.1.0          knitr_1.43               \n",
       "[109] blob_1.2.4                utf8_1.2.3               \n",
       "[111] clue_0.3-64               pbdZMQ_0.3-9             \n",
       "[113] lme4_1.1-34               checkmate_2.2.0          \n",
       "[115] listenv_0.9.0             DelayedMatrixStats_1.22.1\n",
       "[117] logger_0.2.2              ggplotify_0.1.0          \n",
       "[119] Matrix_1.5-4.1            statmod_1.5.0            \n",
       "[121] tzdb_0.4.0                tweenr_2.0.2             \n",
       "[123] pkgconfig_2.0.3           pheatmap_1.0.12          \n",
       "[125] tools_4.3.1               cachem_1.0.8             \n",
       "[127] RSQLite_2.3.1             rvest_1.0.3              \n",
       "[129] DBI_1.1.3                 numDeriv_2016.8-1.1      \n",
       "[131] rmarkdown_2.23            fastmap_1.1.1            \n",
       "[133] scales_1.2.1              grid_4.3.1               \n",
       "[135] pbmcapply_1.5.1           ica_1.0-3                \n",
       "[137] Rsamtools_2.16.0          RANN_2.6.1               \n",
       "[139] farver_2.1.1              tidygraph_1.2.3          \n",
       "[141] scatterpie_0.2.1          yaml_2.3.7               \n",
       "[143] rtracklayer_1.60.0        cli_3.6.1                \n",
       "[145] tester_0.1.7              leiden_0.4.3             \n",
       "[147] lifecycle_1.0.3           uwot_0.1.16              \n",
       "[149] glmmTMB_1.1.7             backports_1.4.1          \n",
       "[151] bluster_1.10.0            timechange_0.2.0         \n",
       "[153] gtable_0.3.3              rjson_0.2.21             \n",
       "[155] ggridges_0.5.4            progressr_0.13.0         \n",
       "[157] parallel_4.3.1            ape_5.7-1                \n",
       "[159] limma_3.56.2              jsonlite_1.8.7           \n",
       "[161] edgeR_3.42.4              bitops_1.0-7             \n",
       "[163] bit64_4.0.5               xgboost_1.7.5.1          \n",
       "[165] Rtsne_0.16                yulab.utils_0.0.6        \n",
       "[167] spatstat.utils_3.0-3      BiocNeighbors_1.18.0     \n",
       "[169] metapod_1.8.0             GOSemSim_2.26.0          \n",
       "[171] dqrng_0.3.0               lazyeval_0.2.2           \n",
       "[173] shiny_1.7.4               htmltools_0.5.5          \n",
       "[175] enrichplot_1.20.0         GO.db_3.17.0             \n",
       "[177] sctransform_0.3.5         rappdirs_0.3.3           \n",
       "[179] basilisk.utils_1.13.2     glue_1.6.2               \n",
       "[181] XVector_0.40.0            RCurl_1.98-1.12          \n",
       "[183] treeio_1.24.1             scran_1.28.1             \n",
       "[185] gridExtra_2.3             boot_1.3-28              \n",
       "[187] igraph_1.5.0              TMB_1.9.4                \n",
       "[189] R6_2.5.1                  DESeq2_1.40.1            \n",
       "[191] labeling_0.4.2            cluster_2.1.4            \n",
       "[193] aplot_0.1.10              nloptr_2.0.3             \n",
       "[195] DelayedArray_0.26.6       tidyselect_1.2.0         \n",
       "[197] vipor_0.4.5               xml2_1.3.4               \n",
       "[199] ggforce_0.4.1             AnnotationDbi_1.62.1     \n",
       "[201] rsvd_1.0.5                munsell_0.5.0            \n",
       "[203] KernSmooth_2.23-21        data.table_1.14.8        \n",
       "[205] htmlwidgets_1.6.2         fgsea_1.26.0             \n",
       "[207] ComplexHeatmap_2.16.0     RColorBrewer_1.1-3       \n",
       "[209] rlang_1.1.1               spatstat.sparse_3.0-2    \n",
       "[211] spatstat.explore_3.2-1    lmerTest_3.1-3           \n",
       "[213] uuid_1.1-0                fansi_1.0.4              \n",
       "[215] beeswarm_0.4.0           "
      ]
     },
     "metadata": {},
     "output_type": "display_data"
    }
   ],
   "source": [
    "sessionInfo()"
   ]
  }
 ],
 "metadata": {
  "kernelspec": {
   "display_name": "R",
   "language": "R",
   "name": "ir"
  },
  "language_info": {
   "codemirror_mode": "r",
   "file_extension": ".r",
   "mimetype": "text/x-r-source",
   "name": "R",
   "pygments_lexer": "r",
   "version": "4.3.1"
  },
  "orig_nbformat": 4
 },
 "nbformat": 4,
 "nbformat_minor": 2
}
